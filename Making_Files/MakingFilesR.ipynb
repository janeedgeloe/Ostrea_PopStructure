{
 "cells": [
  {
   "cell_type": "markdown",
   "metadata": {},
   "source": [
    "# Making files for other programs\n",
    "This is an R Notebook detailing how I take a .vcf file from ipyrad that has been subsequently filtered using VCFtools, and turn it into other formats for population genetic analyses. I do this first for the full SNP dataset , then again for only outlier SNPs or only neutral SNPs, so it is a bit repetetive. Using a [table of contents extension](https://github.com/jupyterlab/jupyterlab-toc) for Jupyter Lab can help navigate long notebooks like this.\n",
    "\n",
    "I primarily use the [*radiator* R package](https://rdrr.io/github/thierrygosselin/radiator/) by Thierry Gosselin for file conversions. This package has great documentation and can do more than what is presented here.\n",
    "\n",
    "For the full \"combined\" SNP dataset (before filtering based on outliers), I need to convert the .vcf file into the following formats:\n",
    "* `genind` object for PCA and popgen summary statistics\n",
    "* `hierfstat` for calculating F_{ST}\n",
    "* Inputs for outlier detection programs (BayeScan, *OutFLANK*, and *pcadapt*)\n",
    "\n",
    "For the \"neutral\" SNP dataset, I convert the .vcf file into:\n",
    "* `genind` object for PCA and popgen summary statistics\n",
    "* `hierfstat` for calculating F_{ST}\n",
    "* Input for Structure\n",
    "* Input for Treemix, using \"unlinked\" dataset\n",
    "* Inputs for EEMS\n",
    "\n",
    "For the \"outlier\" dataset, I convert the .vcf file into: \n",
    "* `genind` object for PCA and popgen summary statistics\n",
    "* `hierfstat` for calculating F_{ST}\n",
    "* Input for Structure\n"
   ]
  },
  {
   "cell_type": "markdown",
   "metadata": {},
   "source": [
    "# Combined dataset\n",
    "## Make genind object for PCA and popgen summary statistics"
   ]
  },
  {
   "cell_type": "code",
   "execution_count": 1,
   "metadata": {},
   "outputs": [
    {
     "name": "stderr",
     "output_type": "stream",
     "text": [
      "Loading required package: ade4\n",
      "\n",
      "   /// adegenet 2.1.1 is loaded ////////////\n",
      "\n",
      "   > overview: '?adegenet'\n",
      "   > tutorials/doc/questions: 'adegenetWeb()' \n",
      "   > bug reports/feature requests: adegenetIssues()\n",
      "\n",
      "\n",
      "\n",
      "Attaching package: ‘dplyr’\n",
      "\n",
      "The following objects are masked from ‘package:stats’:\n",
      "\n",
      "    filter, lag\n",
      "\n",
      "The following objects are masked from ‘package:base’:\n",
      "\n",
      "    intersect, setdiff, setequal, union\n",
      "\n"
     ]
    }
   ],
   "source": [
    "library(\"adegenet\") # .genind format\n",
    "library(\"radiator\") # Conversion from vcf to a lot of other formats\n",
    "library(\"dplyr\") "
   ]
  },
  {
   "cell_type": "code",
   "execution_count": 2,
   "metadata": {},
   "outputs": [],
   "source": [
    "# set filename prefix, should match with the prefix for the input .vcf and desired output files\n",
    "filtsuf = \"OL-c85t10-x45m75\""
   ]
  },
  {
   "cell_type": "markdown",
   "metadata": {},
   "source": [
    "uses *radiator* to convert a filtered .vcf from Filtering_VCF.ipynb to a [genind object](https://www.rdocumentation.org/packages/adegenet/versions/1.0-0/topics/genind). Requires a .strata file, which lists the population assignment of each individual and was created in Filtering_VCF.ipynb."
   ]
  },
  {
   "cell_type": "code",
   "execution_count": 3,
   "metadata": {},
   "outputs": [
    {
     "name": "stderr",
     "output_type": "stream",
     "text": [
      "VCF is biallelic\n"
     ]
    },
    {
     "name": "stdout",
     "output_type": "stream",
     "text": [
      "Reading 13487 / 13487 loci.\n",
      "Done.\n"
     ]
    },
    {
     "name": "stderr",
     "output_type": "stream",
     "text": [
      "    number of markers with REF/ALT change(s) = 0\n",
      "Using markers common in all populations:\n",
      "    Number of markers before/blacklisted/after:13487/63/13424\n",
      "Scanning for monomorphic markers...\n",
      "    Number of markers before/blacklisted/after: 13424/0/13424\n",
      "\n",
      "Tidy genomic data:\n",
      "    Number of common markers: 13424\n",
      "    Number of chromosome/contig/scaffold: 6187\n",
      "    Number of individuals: 117\n",
      "    Number of populations: 19\n",
      "\n",
      "Writing tidy data set:\n",
      "OL-c85t10-x45m75-maf025-all.rad\n"
     ]
    }
   ],
   "source": [
    "# convert filtered .vcf to a genind object\n",
    "# common.markers: Only keep markers common in all popululations\n",
    "# pop.levels: Orders populations from north to south (useful for later plotting)\n",
    "rad.filt <- vcf2genind(paste0(filtsuf,\"-maf025.recode.vcf\"),filename=paste0(filtsuf,\"-maf025-all\"),\n",
    "                      common.markers = T, strata=\"./OL-c85t10-x45.strata\", \n",
    "                      pop.levels = c(\"Klaskino_BC\",\"Barkley_BC\",\"Ladysmith_BC\",\"Victoria_BC\",\"Discovery_WA\",\"Liberty_WA\",\"TritonCove_WA\",\"NorthBay_WA\",\"Willapa_WA\",\"Netarts_OR\",\"Yaquina_OR\",\"Coos_OR\",\"Humboldt_CA\",\"Tomales_CA\",\"NorthSanFran_CA\",\"SouthSanFran_CA\",\"Elkhorn_CA\",\"MuguLagoon_CA\",\"SanDiego_CA\"),\n",
    "                      parallel.core = 1)"
   ]
  },
  {
   "cell_type": "markdown",
   "metadata": {},
   "source": [
    "Read in the other info from .strata file and extract information such as region, latitude, and longitude. Region in my case was determined after running Structure analyses and exploring the data with PCA. For clarity, I show how to create the input files when region is already determined. Then saves `genind` object to a file to be read in by subsequent analyses."
   ]
  },
  {
   "cell_type": "code",
   "execution_count": 20,
   "metadata": {},
   "outputs": [],
   "source": [
    "info <- as.data.frame(read.table(\"./OL-c85t10-x45.strata\",header = T,sep = \"\\t\",stringsAsFactors = F))\n",
    "\n",
    "mystrats <- as.data.frame(matrix(,nrow = length(indNames(rad.filt$genind.no.imputation)),ncol=5))\n",
    "colnames(mystrats) <- c(\"POPULATION\",\"LOCATION\",\"REGION\",\"LATITUDE\",\"LONGITUDE\")\n",
    "\n",
    "for(i in 1:nrow(info)){\n",
    "    j <- grep(gsub(\"_\",\"-\",info[i,1]),indNames(rad.filt$genind.no.imputation),value=FALSE)\n",
    "    mystrats[j,1] <-info$STRATA[i] \n",
    "    mystrats[j,2] <-info$LOCATION[i] \n",
    "    mystrats[j,3] <-info$REGION[i]\n",
    "    mystrats[j,4] <-info$LATITUDE[i]\n",
    "    mystrats[j,5] <-info$LONGITUDE[i]\n",
    "}\n",
    "just.strats <- select(mystrats,c(\"POPULATION\",\"LOCATION\",\"REGION\"))\n",
    "stratted.filt <- strata(rad.filt$genind.no.imputation, formula= REGION/POPULATION/LOCATION, combine = TRUE,just.strats)\n",
    "stratted.filt@other <- select(mystrats, LATITUDE,LONGITUDE)\n"
   ]
  },
  {
   "cell_type": "code",
   "execution_count": 8,
   "metadata": {},
   "outputs": [],
   "source": [
    "save(stratted.filt, file=paste(filtsuf,\"-maf025-filt.genind\",sep=\"\"))"
   ]
  },
  {
   "cell_type": "markdown",
   "metadata": {},
   "source": [
    "Do again for \"unlinked\" .vcf, with only 1 SNP per GBS locus. Note that `radiator` can subset SNPs as well if you'd prefer."
   ]
  },
  {
   "cell_type": "code",
   "execution_count": 19,
   "metadata": {},
   "outputs": [
    {
     "name": "stderr",
     "output_type": "stream",
     "text": [
      "VCF is biallelic\n"
     ]
    },
    {
     "name": "stdout",
     "output_type": "stream",
     "text": [
      "Reading 6208 / 6208 loci.\n",
      "Done.\n"
     ]
    },
    {
     "name": "stderr",
     "output_type": "stream",
     "text": [
      "    number of markers with REF/ALT change(s) = 0\n",
      "Using markers common in all populations:\n",
      "    Number of markers before/blacklisted/after:6208/22/6186\n",
      "Scanning for monomorphic markers...\n",
      "    Number of markers before/blacklisted/after: 6186/0/6186\n",
      "\n",
      "Tidy genomic data:\n",
      "    Number of common markers: 6186\n",
      "    Number of chromosome/contig/scaffold: 6186\n",
      "    Number of individuals: 117\n",
      "    Number of populations: 19\n",
      "\n",
      "Writing tidy data set:\n",
      "OL-c85t10-x45m75-maf025-u.rad\n"
     ]
    }
   ],
   "source": [
    "rad.u <- vcf2genind(paste0(filtsuf,\"-maf025-u.vcf\"),filename=paste0(filtsuf,\"-maf025-u\"),\n",
    "                      common.markers = T, strata=\"./OL-c85t10-x45.strata\", \n",
    "                      pop.levels = c(\"Klaskino_BC\",\"Barkley_BC\",\"Ladysmith_BC\",\"Victoria_BC\",\"Discovery_WA\",\"Liberty_WA\",\"TritonCove_WA\",\"NorthBay_WA\",\"Willapa_WA\",\"Netarts_OR\",\"Yaquina_OR\",\"Coos_OR\",\"Humboldt_CA\",\"Tomales_CA\",\"NorthSanFran_CA\",\"SouthSanFran_CA\",\"Elkhorn_CA\",\"MuguLagoon_CA\",\"SanDiego_CA\"),\n",
    "                      parallel.core = 1)"
   ]
  },
  {
   "cell_type": "code",
   "execution_count": 21,
   "metadata": {},
   "outputs": [],
   "source": [
    "stratted.u <- strata(rad.u$genind.no.imputation, formula= REGION/POPULATION/LOCATION, combine = TRUE,just.strats)\n",
    "stratted.u@other <- select(mystrats, LATITUDE,LONGITUDE)\n",
    "save(stratted.u, file=paste(filtsuf,\"-maf025-u.genind\",sep=\"\"))"
   ]
  },
  {
   "cell_type": "markdown",
   "metadata": {},
   "source": [
    "## Make *hierfstat* object for popgen summary stats\n",
    "Hierfstat usually accepts a `genind` object, but will not accept the `genind` format created by the *radiator* package (which is kind of annoying). Make sure to use the same population ordering as above."
   ]
  },
  {
   "cell_type": "code",
   "execution_count": 25,
   "metadata": {},
   "outputs": [
    {
     "name": "stderr",
     "output_type": "stream",
     "text": [
      "VCF is biallelic\n"
     ]
    },
    {
     "name": "stdout",
     "output_type": "stream",
     "text": [
      "Reading 13487 / 13487 loci.\n",
      "Done.\n"
     ]
    },
    {
     "name": "stderr",
     "output_type": "stream",
     "text": [
      "    number of markers with REF/ALT change(s) = 0\n",
      "Using markers common in all populations:\n",
      "    Number of markers before/blacklisted/after:13487/63/13424\n",
      "Scanning for monomorphic markers...\n",
      "    Number of markers before/blacklisted/after: 13424/0/13424\n",
      "\n",
      "Tidy genomic data:\n",
      "    Number of common markers: 13424\n",
      "    Number of chromosome/contig/scaffold: 6187\n",
      "    Number of individuals: 117\n",
      "    Number of populations: 19\n",
      "    * Number of sample pop, np = 19\n",
      "    * Number of markers, nl = 13424\n",
      "    * The highest number used to label an allele, nu = 4\n",
      "    * The alleles are encoded with one digit number\n",
      "\n",
      "Writing tidy data set:\n",
      "OL-c85t10-x45m75-maf025-all.rad\n"
     ]
    }
   ],
   "source": [
    "hf.filt <- vcf2hierfstat(paste0(filtsuf,\"-maf025.recode.vcf\"),filename=paste0(filtsuf,\"-maf025-all\"),\n",
    "                      common.markers = T, strata=\"./OL-c85t10-x45.strata\", \n",
    "                      pop.levels = c(\"Klaskino_BC\",\"Barkley_BC\",\"Ladysmith_BC\",\"Victoria_BC\",\"Discovery_WA\",\"Liberty_WA\",\"TritonCove_WA\",\"NorthBay_WA\",\"Willapa_WA\",\"Netarts_OR\",\"Yaquina_OR\",\"Coos_OR\",\"Humboldt_CA\",\"Tomales_CA\",\"NorthSanFran_CA\",\"SouthSanFran_CA\",\"Elkhorn_CA\",\"MuguLagoon_CA\",\"SanDiego_CA\"),\n",
    "                      parallel.core = 1)"
   ]
  },
  {
   "cell_type": "code",
   "execution_count": 26,
   "metadata": {},
   "outputs": [],
   "source": [
    "# save to file\n",
    "hf.filt <- hf.filt$hierfstat.no.imputation\n",
    "save(hf.filt, file=paste0(filtsuf,\"-maf025-filt.hf\"))"
   ]
  },
  {
   "cell_type": "markdown",
   "metadata": {},
   "source": [
    "Do again for u?"
   ]
  },
  {
   "cell_type": "code",
   "execution_count": 23,
   "metadata": {},
   "outputs": [
    {
     "name": "stderr",
     "output_type": "stream",
     "text": [
      "VCF is biallelic\n"
     ]
    },
    {
     "name": "stdout",
     "output_type": "stream",
     "text": [
      "Reading 6208 / 6208 loci.\n",
      "Done.\n"
     ]
    },
    {
     "name": "stderr",
     "output_type": "stream",
     "text": [
      "    number of markers with REF/ALT change(s) = 0\n",
      "Using markers common in all populations:\n",
      "    Number of markers before/blacklisted/after:6208/22/6186\n",
      "Scanning for monomorphic markers...\n",
      "    Number of markers before/blacklisted/after: 6186/0/6186\n",
      "\n",
      "Tidy genomic data:\n",
      "    Number of common markers: 6186\n",
      "    Number of chromosome/contig/scaffold: 6186\n",
      "    Number of individuals: 117\n",
      "    Number of populations: 19\n",
      "    * Number of sample pop, np = 19\n",
      "    * Number of markers, nl = 6186\n",
      "    * The highest number used to label an allele, nu = 4\n",
      "    * The alleles are encoded with one digit number\n",
      "\n",
      "Writing tidy data set:\n",
      "OL-c85t10-x45m75-maf025-u.rad\n"
     ]
    }
   ],
   "source": [
    "hf.u <- vcf2hierfstat(paste0(filtsuf,\"-maf025-u.vcf\"),filename=paste0(filtsuf,\"-maf025-u\"),\n",
    "                      common.markers = T, strata=\"../Making_Files/OL-c85t10-x45.strata\", \n",
    "                      pop.levels = c(\"Klaskino_BC\",\"Barkley_BC\",\"Ladysmith_BC\",\"Victoria_BC\",\"Discovery_WA\",\"Liberty_WA\",\"TritonCove_WA\",\"NorthBay_WA\",\"Willapa_WA\",\"Netarts_OR\",\"Yaquina_OR\",\"Coos_OR\",\"Humboldt_CA\",\"Tomales_CA\",\"NorthSanFran_CA\",\"SouthSanFran_CA\",\"Elkhorn_CA\",\"MuguLagoon_CA\",\"SanDiego_CA\"),\n",
    "                      parallel.core = 1)"
   ]
  },
  {
   "cell_type": "code",
   "execution_count": 24,
   "metadata": {},
   "outputs": [],
   "source": [
    "hf.u <- hf.u$hierfstat.no.imputation\n",
    "save(hf.u, file=paste0(filtsuf,\"-maf025-u.hf\"))"
   ]
  },
  {
   "cell_type": "markdown",
   "metadata": {},
   "source": [
    "### Make input for BayeScan"
   ]
  },
  {
   "cell_type": "code",
   "execution_count": 9,
   "metadata": {},
   "outputs": [
    {
     "name": "stderr",
     "output_type": "stream",
     "text": [
      "Generating BayeScan file...\n",
      "Using markers common in all populations:\n",
      "    Number of markers before/blacklisted/after:13424/0/13424\n",
      "Scanning for monomorphic markers...\n",
      "    Number of markers before/blacklisted/after: 13424/0/13424\n",
      "    generating REF/ALT dictionary\n",
      "    integrating new genotype codings...\n",
      "Warning message:\n",
      "“Unknown columns: `POLYMORPHIC`”Warning message:\n",
      "“Unknown columns: `POLYMORPHIC`”Warning message:\n",
      "“Unknown columns: `POLYMORPHIC`”Warning message:\n",
      "“Unknown columns: `POLYMORPHIC`”Warning message:\n",
      "“Unknown columns: `POLYMORPHIC`”Warning message:\n",
      "“Unknown columns: `POLYMORPHIC`”writing BayeScan file with:\n",
      "    Number of populations: 19\n",
      "    Number of individuals: 117\n",
      "    Number of biallelic markers: 13424\n",
      "Writting populations dictionary\n",
      "Writting markers dictionary\n"
     ]
    }
   ],
   "source": [
    "x <- write_bayescan(rad.filt$tidy.data, filename=paste0(filtsuf,\"-maf025-filt-BS\"),parallel.core = 1)"
   ]
  },
  {
   "cell_type": "markdown",
   "metadata": {},
   "source": [
    "### Make input for OutFLANK and pcadapt\n",
    "A table with the allele counts per individual is required for both *OutFLANK* and *pcadapt*. This code just saves the table stored in a genind object, as well as a file with the population information required by OutFLANK."
   ]
  },
  {
   "cell_type": "code",
   "execution_count": 10,
   "metadata": {},
   "outputs": [],
   "source": [
    "# Write file with allele counts per individual for OutFLANK and pcadapt\n",
    "write.table(stratted.filt@tab, file = paste0(filtsuf,\"-maf025-filt.tab\"),sep = \"\\t\",row.names = T,col.names = T,quote = F )\n",
    "# Write file with population information\n",
    "write.table(strata(stratted.filt)$POPULATION, file = paste0(filtsuf,\".pop\"),sep = \"\\t\",row.names = F,col.names = F,quote = F )"
   ]
  },
  {
   "cell_type": "markdown",
   "metadata": {},
   "source": [
    "# Neutral dataset\n",
    "File conversion steps for the \"neutral\" SNP dataset."
   ]
  },
  {
   "cell_type": "code",
   "execution_count": 12,
   "metadata": {},
   "outputs": [],
   "source": [
    "#set filename suffix\n",
    "filtsuf = \"OL-c85t10-x45m75-maf025-neutI2\""
   ]
  },
  {
   "cell_type": "markdown",
   "metadata": {},
   "source": [
    "## Make genind objects\n",
    "Similar as above "
   ]
  },
  {
   "cell_type": "code",
   "execution_count": 13,
   "metadata": {},
   "outputs": [
    {
     "name": "stderr",
     "output_type": "stream",
     "text": [
      "VCF is biallelic\n"
     ]
    },
    {
     "name": "stdout",
     "output_type": "stream",
     "text": [
      "Reading 13136 / 13136 loci.\n",
      "Done.\n"
     ]
    },
    {
     "name": "stderr",
     "output_type": "stream",
     "text": [
      "    number of markers with REF/ALT change(s) = 0\n",
      "Using markers common in all populations:\n",
      "    Number of markers before/blacklisted/after:13136/63/13073\n",
      "Scanning for monomorphic markers...\n",
      "    Number of markers before/blacklisted/after: 13073/0/13073\n",
      "\n",
      "Tidy genomic data:\n",
      "    Number of common markers: 13073\n",
      "    Number of chromosome/contig/scaffold: 6058\n",
      "    Number of individuals: 117\n",
      "    Number of populations: 19\n",
      "\n",
      "Writing tidy data set:\n",
      "OL-c85t10-x45m75-maf025-neutI2.rad\n"
     ]
    }
   ],
   "source": [
    "rad.filt <- vcf2genind(paste0(filtsuf,\".recode.vcf\"),filename=filtsuf,\n",
    "                      common.markers = T, strata=\"./OL-c85t10-x45.strata\", \n",
    "                      pop.levels = c(\"Klaskino_BC\",\"Barkley_BC\",\"Ladysmith_BC\",\"Victoria_BC\",\"Discovery_WA\",\"Liberty_WA\",\"TritonCove_WA\",\"NorthBay_WA\",\"Willapa_WA\",\"Netarts_OR\",\"Yaquina_OR\",\"Coos_OR\",\"Humboldt_CA\",\"Tomales_CA\",\"NorthSanFran_CA\",\"SouthSanFran_CA\",\"Elkhorn_CA\",\"MuguLagoon_CA\",\"SanDiego_CA\"),\n",
    "                      parallel.core = 1)"
   ]
  },
  {
   "cell_type": "code",
   "execution_count": 3,
   "metadata": {},
   "outputs": [
    {
     "name": "stderr",
     "output_type": "stream",
     "text": [
      "VCF is biallelic\n"
     ]
    },
    {
     "name": "stdout",
     "output_type": "stream",
     "text": [
      "Reading 6079 / 6079 loci.\n",
      "Done.\n"
     ]
    },
    {
     "name": "stderr",
     "output_type": "stream",
     "text": [
      "    number of markers with REF/ALT change(s) = 0\n",
      "Using markers common in all populations:\n",
      "    Number of markers before/blacklisted/after:6079/22/6057\n",
      "Scanning for monomorphic markers...\n",
      "    Number of markers before/blacklisted/after: 6057/0/6057\n",
      "\n",
      "Tidy genomic data:\n",
      "    Number of common markers: 6057\n",
      "    Number of chromosome/contig/scaffold: 6057\n",
      "    Number of individuals: 117\n",
      "    Number of populations: 19\n",
      "\n",
      "Writing tidy data set:\n",
      "OL-c85t10-x45m75-maf025-neutI2-u.rad\n"
     ]
    }
   ],
   "source": [
    "rad.u <- vcf2genind(paste0(filtsuf,\"-u.vcf\"),filename=paste0(filtsuf,\"-u\"),\n",
    "                      common.markers = T, strata=\"./OL-c85t10-x45.strata\", \n",
    "                      pop.levels = c(\"Klaskino_BC\",\"Barkley_BC\",\"Ladysmith_BC\",\"Victoria_BC\",\"Discovery_WA\",\"Liberty_WA\",\"TritonCove_WA\",\"NorthBay_WA\",\"Willapa_WA\",\"Netarts_OR\",\"Yaquina_OR\",\"Coos_OR\",\"Humboldt_CA\",\"Tomales_CA\",\"NorthSanFran_CA\",\"SouthSanFran_CA\",\"Elkhorn_CA\",\"MuguLagoon_CA\",\"SanDiego_CA\"),\n",
    "                      parallel.core = 1)"
   ]
  },
  {
   "cell_type": "code",
   "execution_count": 14,
   "metadata": {},
   "outputs": [],
   "source": [
    "info <- as.data.frame(read.table(\"./OL-c85t10-x45.strata\",header = T,sep = \"\\t\",stringsAsFactors = F))\n",
    "\n",
    "mystrats <- as.data.frame(matrix(,nrow = length(indNames(rad.filt$genind.no.imputation)),ncol=5))\n",
    "colnames(mystrats) <- c(\"POPULATION\",\"LOCATION\",\"REGION\",\"LATITUDE\",\"LONGITUDE\")\n",
    "\n",
    "for(i in 1:nrow(info)){\n",
    "    j <- grep(gsub(\"_\",\"-\",info[i,1]),indNames(rad.filt$genind.no.imputation),value=FALSE)\n",
    "    mystrats[j,1] <-info$STRATA[i] \n",
    "    mystrats[j,2] <-info$LOCATION[i] \n",
    "    mystrats[j,3] <-info$REGION[i]\n",
    "    mystrats[j,4] <-info$LATITUDE[i]\n",
    "    mystrats[j,5] <-info$LONGITUDE[i]\n",
    "}\n",
    "just.strats <- select(mystrats,c(\"POPULATION\",\"LOCATION\",\"REGION\"))\n",
    "stratted.filt <- strata(rad.filt$genind.no.imputation, formula= REGION/POPULATION/LOCATION, combine = TRUE,just.strats)\n",
    "stratted.filt@other <- select(mystrats, LATITUDE,LONGITUDE)\n"
   ]
  },
  {
   "cell_type": "code",
   "execution_count": 15,
   "metadata": {},
   "outputs": [],
   "source": [
    "save(stratted.filt, file=paste(filtsuf,\"-filt.genind\",sep=\"\"))"
   ]
  },
  {
   "cell_type": "code",
   "execution_count": 6,
   "metadata": {},
   "outputs": [],
   "source": [
    "stratted.u <- strata(rad.u$genind.no.imputation, formula= REGION/POPULATION/LOCATION, combine = TRUE,just.strats)\n",
    "stratted.u@other <- select(mystrats, LATITUDE,LONGITUDE)\n",
    "save(stratted.u, file=paste(filtsuf,\"-u.genind\",sep=\"\"))"
   ]
  },
  {
   "cell_type": "markdown",
   "metadata": {},
   "source": [
    "## Make hierfstat object"
   ]
  },
  {
   "cell_type": "code",
   "execution_count": 10,
   "metadata": {},
   "outputs": [
    {
     "name": "stderr",
     "output_type": "stream",
     "text": [
      "VCF is biallelic\n"
     ]
    },
    {
     "name": "stdout",
     "output_type": "stream",
     "text": [
      "Reading 13136 / 13136 loci.\n",
      "Done.\n"
     ]
    },
    {
     "name": "stderr",
     "output_type": "stream",
     "text": [
      "    number of markers with REF/ALT change(s) = 0\n",
      "Using markers common in all populations:\n",
      "    Number of markers before/blacklisted/after:13136/63/13073\n",
      "Scanning for monomorphic markers...\n",
      "    Number of markers before/blacklisted/after: 13073/0/13073\n",
      "\n",
      "Tidy genomic data:\n",
      "    Number of common markers: 13073\n",
      "    Number of chromosome/contig/scaffold: 6058\n",
      "    Number of individuals: 117\n",
      "    Number of populations: 19\n",
      "    * Number of sample pop, np = 19\n",
      "    * Number of markers, nl = 13073\n",
      "    * The highest number used to label an allele, nu = 4\n",
      "    * The alleles are encoded with one digit number\n",
      "\n",
      "Writing tidy data set:\n",
      "OL-c85t10-x45m75-maf025-neutI2-filt.rad\n"
     ]
    }
   ],
   "source": [
    "hf.filt <- vcf2hierfstat(paste0(filtsuf,\".recode.vcf\"),filename=paste0(filtsuf,\"-filt\"),\n",
    "                      common.markers = T, strata=\"./OL-c85t10-x45.strata\", \n",
    "                      pop.levels = c(\"Klaskino_BC\",\"Barkley_BC\",\"Ladysmith_BC\",\"Victoria_BC\",\"Discovery_WA\",\"Liberty_WA\",\"TritonCove_WA\",\"NorthBay_WA\",\"Willapa_WA\",\"Netarts_OR\",\"Yaquina_OR\",\"Coos_OR\",\"Humboldt_CA\",\"Tomales_CA\",\"NorthSanFran_CA\",\"SouthSanFran_CA\",\"Elkhorn_CA\",\"MuguLagoon_CA\",\"SanDiego_CA\"),\n",
    "                      parallel.core = 1)"
   ]
  },
  {
   "cell_type": "code",
   "execution_count": 11,
   "metadata": {},
   "outputs": [],
   "source": [
    "hf.filt <- hf.filt$hierfstat.no.imputation\n",
    "save(hf.filt, file=paste0(filtsuf,\"-filt.hf\"))"
   ]
  },
  {
   "cell_type": "markdown",
   "metadata": {},
   "source": [
    "## Make input for Structure\n",
    "Uses the`rad.filt$tidy.data` object created when converting to a `genind` object. Not done on the \"unlinked\" dataset."
   ]
  },
  {
   "cell_type": "code",
   "execution_count": null,
   "metadata": {},
   "outputs": [],
   "source": [
    "write_structure(rad.filt$tidy.data, filename=paste0(filtsuf,\"-filt\"))"
   ]
  },
  {
   "cell_type": "markdown",
   "metadata": {},
   "source": [
    "## Make input for Treemix\n",
    "Use only the unlinked dataset. Uses a python script I wrote to convert a genpop object to Treemix input."
   ]
  },
  {
   "cell_type": "code",
   "execution_count": 7,
   "metadata": {},
   "outputs": [
    {
     "name": "stdout",
     "output_type": "stream",
     "text": [
      "\n",
      " Converting data from a genind to a genpop object... \n",
      "\n",
      "...done.\n",
      "\n"
     ]
    },
    {
     "data": {
      "text/html": [],
      "text/latex": [],
      "text/markdown": [],
      "text/plain": [
       "character(0)"
      ]
     },
     "metadata": {},
     "output_type": "display_data"
    }
   ],
   "source": [
    "# Convert genind object to genpop object\n",
    "gp <- genind2genpop(stratted.u,pop=strata(stratted.u)$POPULATION)\n",
    "# Write genpop object as a table\n",
    "write.table(gp$tab, file=paste0(filtsuf,\"-u.gp\"),sep = \"\\t\",row.names = T,col.names = T,quote = F )\n",
    "# Use python script to convert to TreeMix format, can also be run normally in Terminal\n",
    "system('python ../Scripts/genpop2Treemix.py OL-c85t10-x45m75-maf025-neutI2-u.gp OL-c85t10-x45m75-neutI2-u.pop.TM')\n",
    "# Gzip the TreeMix input\n",
    "system('gzip OL-c85t10-x45m75-neutI2-u.pop.TM',intern = T)"
   ]
  },
  {
   "cell_type": "markdown",
   "metadata": {},
   "source": [
    "## Make EEMS input file "
   ]
  },
  {
   "cell_type": "markdown",
   "metadata": {},
   "source": [
    "Code to calculate the .diffs matrix for EEMS, taken from [EEMS github](https://github.com/dipetkov/eems/tree/master/str2diffs)."
   ]
  },
  {
   "cell_type": "code",
   "execution_count": 8,
   "metadata": {},
   "outputs": [],
   "source": [
    "# V1 methtod to get diffs matrix, preferred\n",
    "bed2diffs_v1 <- function(Geno) {\n",
    "  nIndiv <- nrow(Geno)\n",
    "  nSites <- ncol(Geno)\n",
    "  Diffs <- matrix(0, nIndiv, nIndiv)\n",
    "  \n",
    "  for (i in seq(nIndiv - 1)) {\n",
    "    for (j in seq(i + 1, nIndiv)) {\n",
    "      x <- Geno[i, ]\n",
    "      y <- Geno[j, ]\n",
    "      Diffs[i, j] <- mean((x - y)^2, na.rm = TRUE)\n",
    "      Diffs[j, i] <- Diffs[i, j]\n",
    "    }\n",
    "  }\n",
    "  Diffs\n",
    "}\n",
    "# V2 method to get .diffs matrix, only if V1 doesn't work\n",
    "bed2diffs_v2 <- function(Geno) {\n",
    "  nIndiv <- nrow(Geno)\n",
    "  nSites <- ncol(Geno)\n",
    "  Miss <- is.na(Geno)\n",
    "  ## Impute NAs with the column means (= twice the allele frequencies)\n",
    "  Mean <- matrix(colMeans(Geno, na.rm = TRUE), ## a row of means\n",
    "                 nrow = nIndiv, ncol = nSites, byrow = TRUE) ## a matrix with nIndiv identical rows of means\n",
    "  Mean[Miss == 0] <- 0 ## Set the means that correspond to observed genotypes to 0\n",
    "  Geno[Miss == 1] <- 0 ## Set the missing genotypes to 0 (used to be NA) \n",
    "  Geno <- Geno + Mean\n",
    "  ## Compute similarities\n",
    "  Sim <- Geno %*% t(Geno) / nSites\n",
    "  SelfSim <- diag(Sim) ## self-similarities\n",
    "  vector1s <- rep(1, nIndiv) ## vector of 1s\n",
    "  ## This chunk generates a `diffs` matrix\n",
    "  Diffs <- SelfSim %*% t(vector1s) + vector1s %*% t(SelfSim) - 2 * Sim\n",
    "  Diffs\n",
    "}"
   ]
  },
  {
   "cell_type": "markdown",
   "metadata": {},
   "source": [
    "I exclude all samples from Coos Bay (OR1), as we now know it is an anthropogenic migration event. Code to convert a genind object to format amenable to EEMS is also from [EEMS github](https://github.com/dipetkov/eems/tree/master/str2diffs)."
   ]
  },
  {
   "cell_type": "code",
   "execution_count": 9,
   "metadata": {},
   "outputs": [
    {
     "data": {
      "text/html": [
       "<ol class=list-inline>\n",
       "\t<li>111</li>\n",
       "\t<li>13073</li>\n",
       "</ol>\n"
      ],
      "text/latex": [
       "\\begin{enumerate*}\n",
       "\\item 111\n",
       "\\item 13073\n",
       "\\end{enumerate*}\n"
      ],
      "text/markdown": [
       "1. 111\n",
       "2. 13073\n",
       "\n",
       "\n"
      ],
      "text/plain": [
       "[1]   111 13073"
      ]
     },
     "metadata": {},
     "output_type": "display_data"
    }
   ],
   "source": [
    "# Drop OR1 samples\n",
    "gind.xOR <- stratted.filt[!(indNames(stratted.filt) %in% c(\"OR1-1-C6\",\"OR1-2-C5\",\"OR1-6-C3\",\"OR1-7-C6\",\"OR1-12-C8\",\"OR1-4-C5\")),drop=TRUE]\n",
    "\n",
    "# Set suffix for EEMS input files\n",
    "suf <- \"OLxOR1-t10x45m75-maf025-neutI2-filt\"\n",
    "\n",
    "# From EEMS github\n",
    "geno <- gind.xOR@tab\n",
    "stopifnot(identical(gind.xOR@type, 'codom'))\n",
    "# Get rid of non-biallelic loci\n",
    "multi.loci <- names(which(gind.xOR@loc.n.all != 2))\n",
    "multi.cols <- which(grepl(paste0(\"^\", multi.loci, \"\\\\.\\\\d+$\", collapse = \"|\"), colnames(geno)))\n",
    "if (length(multi.cols)) geno <- geno[, - multi.cols]\n",
    "nloci <- dim(geno)[2] / 2\n",
    "# Choose allele to be \"derived\" allele.\n",
    "geno <- geno[, c(seq(1,ncol(geno),by = 2))]\n",
    "\n",
    "# Get dimensions of matrix\n",
    "dim(geno)"
   ]
  },
  {
   "cell_type": "code",
   "execution_count": 10,
   "metadata": {},
   "outputs": [],
   "source": [
    "# 111 inds, 13,073 loci\n",
    "# bed2diffs functions  \n",
    "diffs.v1 <- bed2diffs_v1(geno)\n",
    "diffs.v2 <- bed2diffs_v2(geno)\n",
    "# Round to 6 digits\n",
    "diffs.v1 <- round(diffs.v1, digits = 6)\n",
    "diffs.v2 <- round(diffs.v2, digits = 6)"
   ]
  },
  {
   "cell_type": "markdown",
   "metadata": {},
   "source": [
    "Check that the dissimilarity matrix has one positive eigenvalue and nIndiv-1 negative eigenvalues, as required by a full-rank Euclidean distance matrix. If the V1 method does not make a Euclidean matrix, you must use V2. \n",
    "\n",
    "**note**: the outlier dataset did not produce a Euclidean matrix by either method."
   ]
  },
  {
   "cell_type": "code",
   "execution_count": 11,
   "metadata": {},
   "outputs": [
    {
     "data": {
      "text/html": [
       "<ol class=list-inline>\n",
       "\t<li>-0.22</li>\n",
       "\t<li>-0.2</li>\n",
       "\t<li>-0.17</li>\n",
       "\t<li>-0.15</li>\n",
       "\t<li>-0.01</li>\n",
       "\t<li>56.82</li>\n",
       "</ol>\n"
      ],
      "text/latex": [
       "\\begin{enumerate*}\n",
       "\\item -0.22\n",
       "\\item -0.2\n",
       "\\item -0.17\n",
       "\\item -0.15\n",
       "\\item -0.01\n",
       "\\item 56.82\n",
       "\\end{enumerate*}\n"
      ],
      "text/markdown": [
       "1. -0.22\n",
       "2. -0.2\n",
       "3. -0.17\n",
       "4. -0.15\n",
       "5. -0.01\n",
       "6. 56.82\n",
       "\n",
       "\n"
      ],
      "text/plain": [
       "[1] -0.22 -0.20 -0.17 -0.15 -0.01 56.82"
      ]
     },
     "metadata": {},
     "output_type": "display_data"
    }
   ],
   "source": [
    "tail(sort(round(eigen(diffs.v1)$values, digits = 2)))"
   ]
  },
  {
   "cell_type": "code",
   "execution_count": 12,
   "metadata": {},
   "outputs": [
    {
     "data": {
      "text/html": [
       "<ol class=list-inline>\n",
       "\t<li>-0.18</li>\n",
       "\t<li>-0.17</li>\n",
       "\t<li>-0.17</li>\n",
       "\t<li>-0.17</li>\n",
       "\t<li>-0.04</li>\n",
       "\t<li>48.41</li>\n",
       "</ol>\n"
      ],
      "text/latex": [
       "\\begin{enumerate*}\n",
       "\\item -0.18\n",
       "\\item -0.17\n",
       "\\item -0.17\n",
       "\\item -0.17\n",
       "\\item -0.04\n",
       "\\item 48.41\n",
       "\\end{enumerate*}\n"
      ],
      "text/markdown": [
       "1. -0.18\n",
       "2. -0.17\n",
       "3. -0.17\n",
       "4. -0.17\n",
       "5. -0.04\n",
       "6. 48.41\n",
       "\n",
       "\n"
      ],
      "text/plain": [
       "[1] -0.18 -0.17 -0.17 -0.17 -0.04 48.41"
      ]
     },
     "metadata": {},
     "output_type": "display_data"
    }
   ],
   "source": [
    "tail(sort(round(eigen(diffs.v2)$values, digits = 2)))"
   ]
  },
  {
   "cell_type": "markdown",
   "metadata": {},
   "source": [
    "Write files for V1."
   ]
  },
  {
   "cell_type": "code",
   "execution_count": 13,
   "metadata": {},
   "outputs": [],
   "source": [
    "write.table(diffs.v1, paste(suf,\".v1.diffs\",sep=\"\"), \n",
    "            col.names = FALSE, row.names = FALSE, quote = FALSE)"
   ]
  },
  {
   "cell_type": "code",
   "execution_count": 14,
   "metadata": {},
   "outputs": [],
   "source": [
    "## Get gps coordinates from previously created info matrix\n",
    "xOR.info <- dplyr::filter(info, !grepl(\"OR1\",INDIVIDUALS))\n",
    "gps_matrix <- matrix(,nrow = length(indNames(gind.xOR)),ncol=2)\n",
    "\n",
    "for(i in 1:nrow(xOR.info)){\n",
    "    j <- grep(gsub(\"_\",\"-\",xOR.info[i,1]),indNames(gind.xOR),value=FALSE)\n",
    "    gps_matrix[j,1] <-xOR.info$LONGITUDE[i]\n",
    "    gps_matrix[j,2] <-xOR.info$LATITUDE[i]\n",
    "}"
   ]
  },
  {
   "cell_type": "code",
   "execution_count": 15,
   "metadata": {},
   "outputs": [],
   "source": [
    "#write .coord file\n",
    "write.table(gps_matrix, paste(suf,\".v1.coord\",sep=\"\"),col.names = FALSE, row.names = FALSE,quote = FALSE)"
   ]
  },
  {
   "cell_type": "markdown",
   "metadata": {},
   "source": [
    "# Outlier dataset"
   ]
  },
  {
   "cell_type": "code",
   "execution_count": 12,
   "metadata": {},
   "outputs": [],
   "source": [
    "#set filename suffix\n",
    "filtsuf = \"OL-c85t10-x45m75-maf025-outI2Union\""
   ]
  },
  {
   "cell_type": "markdown",
   "metadata": {},
   "source": [
    "Similar as above"
   ]
  },
  {
   "cell_type": "code",
   "execution_count": 13,
   "metadata": {},
   "outputs": [
    {
     "name": "stderr",
     "output_type": "stream",
     "text": [
      "VCF is biallelic\n"
     ]
    },
    {
     "name": "stdout",
     "output_type": "stream",
     "text": [
      "Reading 235 / 235 loci.\n",
      "Done.\n"
     ]
    },
    {
     "name": "stderr",
     "output_type": "stream",
     "text": [
      "    number of markers with REF/ALT change(s) = 0\n",
      "Using markers common in all populations:\n",
      "    Number of markers before/blacklisted/after:235/0/235\n",
      "Scanning for monomorphic markers...\n",
      "    Number of markers before/blacklisted/after: 235/0/235\n",
      "\n",
      "Tidy genomic data:\n",
      "    Number of common markers: 235\n",
      "    Number of chromosome/contig/scaffold: 129\n",
      "    Number of individuals: 117\n",
      "    Number of populations: 19\n",
      "\n",
      "Writing tidy data set:\n",
      "OL-c85t10-x45m75-maf025-outI2Union.rad\n"
     ]
    }
   ],
   "source": [
    "rad.filt <- vcf2genind(paste0(filtsuf,\".recode.vcf\"),filename=filtsuf,\n",
    "                      common.markers = T, strata=\"./OL-c85t10-x45.strata\", \n",
    "                      pop.levels = c(\"Klaskino_BC\",\"Barkley_BC\",\"Ladysmith_BC\",\"Victoria_BC\",\"Discovery_WA\",\"Liberty_WA\",\"TritonCove_WA\",\"NorthBay_WA\",\"Willapa_WA\",\"Netarts_OR\",\"Yaquina_OR\",\"Coos_OR\",\"Humboldt_CA\",\"Tomales_CA\",\"NorthSanFran_CA\",\"SouthSanFran_CA\",\"Elkhorn_CA\",\"MuguLagoon_CA\",\"SanDiego_CA\"),\n",
    "                      parallel.core = 1)"
   ]
  },
  {
   "cell_type": "code",
   "execution_count": 14,
   "metadata": {},
   "outputs": [
    {
     "name": "stderr",
     "output_type": "stream",
     "text": [
      "VCF is biallelic\n"
     ]
    },
    {
     "name": "stdout",
     "output_type": "stream",
     "text": [
      "Reading 129 / 129 loci.\n",
      "Done.\n"
     ]
    },
    {
     "name": "stderr",
     "output_type": "stream",
     "text": [
      "    number of markers with REF/ALT change(s) = 0\n",
      "Using markers common in all populations:\n",
      "    Number of markers before/blacklisted/after:129/0/129\n",
      "Scanning for monomorphic markers...\n",
      "    Number of markers before/blacklisted/after: 129/0/129\n",
      "\n",
      "Tidy genomic data:\n",
      "    Number of common markers: 129\n",
      "    Number of chromosome/contig/scaffold: 129\n",
      "    Number of individuals: 117\n",
      "    Number of populations: 19\n",
      "\n",
      "Writing tidy data set:\n",
      "OL-c85t10-x45m75-maf025-outI2Union-u.rad\n"
     ]
    }
   ],
   "source": [
    "rad.u <- vcf2genind(paste0(filtsuf,\"-u.vcf\"),filename=paste0(filtsuf,\"-u\"),\n",
    "                      common.markers = T, strata=\"./OL-c85t10-x45.strata\", \n",
    "                      pop.levels = c(\"Klaskino_BC\",\"Barkley_BC\",\"Ladysmith_BC\",\"Victoria_BC\",\"Discovery_WA\",\"Liberty_WA\",\"TritonCove_WA\",\"NorthBay_WA\",\"Willapa_WA\",\"Netarts_OR\",\"Yaquina_OR\",\"Coos_OR\",\"Humboldt_CA\",\"Tomales_CA\",\"NorthSanFran_CA\",\"SouthSanFran_CA\",\"Elkhorn_CA\",\"MuguLagoon_CA\",\"SanDiego_CA\"),\n",
    "                      parallel.core = 1)"
   ]
  },
  {
   "cell_type": "code",
   "execution_count": 15,
   "metadata": {},
   "outputs": [],
   "source": [
    "info <- as.data.frame(read.table(\"./OL-c85t10-x45.strata\",header = T,sep = \"\\t\",stringsAsFactors = F))\n",
    "\n",
    "mystrats <- as.data.frame(matrix(,nrow = length(indNames(rad.filt$genind.no.imputation)),ncol=5))\n",
    "colnames(mystrats) <- c(\"POPULATION\",\"LOCATION\",\"REGION\",\"LATITUDE\",\"LONGITUDE\")\n",
    "\n",
    "for(i in 1:nrow(info)){\n",
    "    j <- grep(gsub(\"_\",\"-\",info[i,1]),indNames(rad.filt$genind.no.imputation),value=FALSE)\n",
    "    mystrats[j,1] <-info$STRATA[i] \n",
    "    mystrats[j,2] <-info$LOCATION[i] \n",
    "    mystrats[j,3] <-info$REGION[i]\n",
    "    mystrats[j,4] <-info$LATITUDE[i]\n",
    "    mystrats[j,5] <-info$LONGITUDE[i]\n",
    "}\n",
    "just.strats <- select(mystrats,c(\"POPULATION\",\"LOCATION\",\"REGION\"))\n",
    "stratted.filt <- strata(rad.filt$genind.no.imputation, formula= REGION/POPULATION/LOCATION, combine = TRUE,just.strats)\n",
    "stratted.filt@other <- select(mystrats, LATITUDE,LONGITUDE)\n"
   ]
  },
  {
   "cell_type": "code",
   "execution_count": 16,
   "metadata": {},
   "outputs": [],
   "source": [
    "save(stratted.filt, file=paste(filtsuf,\"-filt.genind\",sep=\"\"))"
   ]
  },
  {
   "cell_type": "code",
   "execution_count": 17,
   "metadata": {},
   "outputs": [],
   "source": [
    "stratted.u <- strata(rad.u$genind.no.imputation, formula= REGION/POPULATION/LOCATION, combine = TRUE,just.strats)\n",
    "stratted.u@other <- select(mystrats, LATITUDE,LONGITUDE)\n",
    "save(stratted.u, file=paste(filtsuf,\"-u.genind\",sep=\"\"))"
   ]
  },
  {
   "cell_type": "markdown",
   "metadata": {},
   "source": [
    "## Make hierfstat "
   ]
  },
  {
   "cell_type": "code",
   "execution_count": 18,
   "metadata": {},
   "outputs": [
    {
     "name": "stderr",
     "output_type": "stream",
     "text": [
      "VCF is biallelic\n"
     ]
    },
    {
     "name": "stdout",
     "output_type": "stream",
     "text": [
      "Reading 235 / 235 loci.\n",
      "Done.\n"
     ]
    },
    {
     "name": "stderr",
     "output_type": "stream",
     "text": [
      "    number of markers with REF/ALT change(s) = 0\n",
      "Using markers common in all populations:\n",
      "    Number of markers before/blacklisted/after:235/0/235\n",
      "Scanning for monomorphic markers...\n",
      "    Number of markers before/blacklisted/after: 235/0/235\n",
      "\n",
      "Tidy genomic data:\n",
      "    Number of common markers: 235\n",
      "    Number of chromosome/contig/scaffold: 129\n",
      "    Number of individuals: 117\n",
      "    Number of populations: 19\n",
      "    * Number of sample pop, np = 19\n",
      "    * Number of markers, nl = 235\n",
      "    * The highest number used to label an allele, nu = 4\n",
      "    * The alleles are encoded with one digit number\n",
      "\n",
      "Writing tidy data set:\n",
      "OL-c85t10-x45m75-maf025-outI2Union-filt.rad\n"
     ]
    }
   ],
   "source": [
    "hf.filt <- vcf2hierfstat(paste0(filtsuf,\".recode.vcf\"),filename=paste0(filtsuf,\"-filt\"),\n",
    "                      common.markers = T, strata=\"./OL-c85t10-x45.strata\", \n",
    "                      pop.levels = c(\"Klaskino_BC\",\"Barkley_BC\",\"Ladysmith_BC\",\"Victoria_BC\",\"Discovery_WA\",\"Liberty_WA\",\"TritonCove_WA\",\"NorthBay_WA\",\"Willapa_WA\",\"Netarts_OR\",\"Yaquina_OR\",\"Coos_OR\",\"Humboldt_CA\",\"Tomales_CA\",\"NorthSanFran_CA\",\"SouthSanFran_CA\",\"Elkhorn_CA\",\"MuguLagoon_CA\",\"SanDiego_CA\"),\n",
    "                      parallel.core = 1)"
   ]
  },
  {
   "cell_type": "code",
   "execution_count": 19,
   "metadata": {},
   "outputs": [],
   "source": [
    "hf.filt <- hf.filt$hierfstat.no.imputation\n",
    "save(hf.filt, file=paste0(filtsuf,\"-filt.hf\"))"
   ]
  },
  {
   "cell_type": "markdown",
   "metadata": {},
   "source": [
    "### Make input for Structure"
   ]
  },
  {
   "cell_type": "code",
   "execution_count": 20,
   "metadata": {},
   "outputs": [],
   "source": [
    "#Use the previously created tidy datasets from radiator\n",
    "write_structure(rad.filt$tidy.data, filename=paste0(filtsuf,\"-filt\"))"
   ]
  },
  {
   "cell_type": "markdown",
   "metadata": {},
   "source": [
    "### Plot EEMS Results\n",
    "Do after you have run EEMS."
   ]
  },
  {
   "cell_type": "markdown",
   "metadata": {},
   "source": [
    "#### Maf 0.025"
   ]
  },
  {
   "cell_type": "markdown",
   "metadata": {},
   "source": [
    "Make a list of all EEMS directories to plot all the results into 1 plot:"
   ]
  },
  {
   "cell_type": "code",
   "execution_count": 11,
   "metadata": {},
   "outputs": [],
   "source": [
    "path = \"../../EEMS/Choosing/OLxOR1-m80x60-maf025_results/\"\n",
    "dirs = c(paste0(path,\"OLxOR1-m80x60-maf025-W-nD200-ch1\"),paste0(path,\"OLxOR1-m80x60-maf025-W-nD200-ch2\"), \n",
    "         paste0(path,\"OLxOR1-m80x60-maf025-W-nD300-ch1\"),paste0(path,\"OLxOR1-m80x60-maf025-W-nD300-ch2\"))"
   ]
  },
  {
   "cell_type": "code",
   "execution_count": 12,
   "metadata": {},
   "outputs": [
    {
     "name": "stderr",
     "output_type": "stream",
     "text": [
      "Input projection: +proj=longlat +datum=WGS84\n",
      "Output projection: +proj=merc +datum=WGS84\n",
      "\n",
      "\n",
      "\n",
      "Loading rgdal (required by projection.in)\n",
      "Loading rworldmap (required by add.map)\n",
      "Loading rworldxtra (required by add.map)\n",
      "Using the default DarkOrange to Blue color scheme, with 'white' as the midpoint color.\n",
      "It combines two color schemes from the 'dichromat' package, which itself is based on\n",
      "a collection of color schemes for scientific data graphics:\n",
      "\tLight A and Bartlein PJ (2004). The End of the Rainbow? Color Schemes for Improved Data\n",
      "\tGraphics. EOS Transactions of the American Geophysical Union, 85(40), 385.\n",
      "See also http://geog.uoregon.edu/datagraphics/color_scales.htm\n",
      "\n",
      "\n",
      "\n",
      "Using 'euclidean' distance to assign interpolation points to Voronoi tiles.\n",
      "\n",
      "\n",
      "\n",
      "Processing the following EEMS output directories :\n",
      "../../EEMS/Choosing/OLxOR1-m80x60-maf025_results/OLxOR1-m80x60-maf025-W-nD200-ch1../../EEMS/Choosing/OLxOR1-m80x60-maf025_results/OLxOR1-m80x60-maf025-W-nD200-ch2../../EEMS/Choosing/OLxOR1-m80x60-maf025_results/OLxOR1-m80x60-maf025-W-nD300-ch1../../EEMS/Choosing/OLxOR1-m80x60-maf025_results/OLxOR1-m80x60-maf025-W-nD300-ch2\n",
      "Plotting effective migration surface (posterior mean of m rates)\n",
      "../../EEMS/Choosing/OLxOR1-m80x60-maf025_results/OLxOR1-m80x60-maf025-W-nD200-ch1\n",
      "../../EEMS/Choosing/OLxOR1-m80x60-maf025_results/OLxOR1-m80x60-maf025-W-nD200-ch2\n",
      "../../EEMS/Choosing/OLxOR1-m80x60-maf025_results/OLxOR1-m80x60-maf025-W-nD300-ch1\n",
      "../../EEMS/Choosing/OLxOR1-m80x60-maf025_results/OLxOR1-m80x60-maf025-W-nD300-ch2\n",
      "Using the default DarkOrange to Blue color scheme, with 'white' as the midpoint color.\n",
      "It combines two color schemes from the 'dichromat' package, which itself is based on\n",
      "a collection of color schemes for scientific data graphics:\n",
      "\tLight A and Bartlein PJ (2004). The End of the Rainbow? Color Schemes for Improved Data\n",
      "\tGraphics. EOS Transactions of the American Geophysical Union, 85(40), 385.\n",
      "See also http://geog.uoregon.edu/datagraphics/color_scales.htm\n",
      "\n",
      "\n",
      "\n",
      "Plotting effective diversity surface (posterior mean of q rates)\n",
      "../../EEMS/Choosing/OLxOR1-m80x60-maf025_results/OLxOR1-m80x60-maf025-W-nD200-ch1\n",
      "../../EEMS/Choosing/OLxOR1-m80x60-maf025_results/OLxOR1-m80x60-maf025-W-nD200-ch2\n",
      "../../EEMS/Choosing/OLxOR1-m80x60-maf025_results/OLxOR1-m80x60-maf025-W-nD300-ch1\n",
      "../../EEMS/Choosing/OLxOR1-m80x60-maf025_results/OLxOR1-m80x60-maf025-W-nD300-ch2\n",
      "Using the default DarkOrange to Blue color scheme, with 'white' as the midpoint color.\n",
      "It combines two color schemes from the 'dichromat' package, which itself is based on\n",
      "a collection of color schemes for scientific data graphics:\n",
      "\tLight A and Bartlein PJ (2004). The End of the Rainbow? Color Schemes for Improved Data\n",
      "\tGraphics. EOS Transactions of the American Geophysical Union, 85(40), 385.\n",
      "See also http://geog.uoregon.edu/datagraphics/color_scales.htm\n",
      "\n",
      "\n",
      "\n",
      "Plotting posterior probability trace\n",
      "../../EEMS/Choosing/OLxOR1-m80x60-maf025_results/OLxOR1-m80x60-maf025-W-nD200-ch1\n",
      "../../EEMS/Choosing/OLxOR1-m80x60-maf025_results/OLxOR1-m80x60-maf025-W-nD200-ch2\n",
      "../../EEMS/Choosing/OLxOR1-m80x60-maf025_results/OLxOR1-m80x60-maf025-W-nD300-ch1\n",
      "../../EEMS/Choosing/OLxOR1-m80x60-maf025_results/OLxOR1-m80x60-maf025-W-nD300-ch2\n",
      "Plotting average dissimilarities within and between demes\n",
      "../../EEMS/Choosing/OLxOR1-m80x60-maf025_results/OLxOR1-m80x60-maf025-W-nD200-ch1\n",
      "../../EEMS/Choosing/OLxOR1-m80x60-maf025_results/OLxOR1-m80x60-maf025-W-nD200-ch2\n",
      "../../EEMS/Choosing/OLxOR1-m80x60-maf025_results/OLxOR1-m80x60-maf025-W-nD300-ch1\n",
      "Using 'euclidean' distance to assign interpolation points to Voronoi tiles.\n",
      "\n",
      "\n",
      "\n",
      "Using 'euclidean' distance to assign interpolation points to Voronoi tiles.\n",
      "\n",
      "\n",
      "\n",
      "EEMS results for at least two different population grids\n"
     ]
    }
   ],
   "source": [
    "eems.plots(mcmcpath = dirs, plotpath = paste0(path,\"OLxOR1-m80x60-maf025-W-All-plots\"),\n",
    "           longlat = T,add.grid=F,add.outline = T,add.demes = T,\n",
    "           projection.in = \"+proj=longlat +datum=WGS84\",projection.out = \"+proj=merc +datum=WGS84\",\n",
    "           add.map = T,add.abline = T, add.r.squared = T)"
   ]
  },
  {
   "cell_type": "code",
   "execution_count": 13,
   "metadata": {},
   "outputs": [
    {
     "name": "stderr",
     "output_type": "stream",
     "text": [
      "Input projection: +proj=longlat +datum=WGS84\n",
      "Output projection: +proj=merc +datum=WGS84\n",
      "\n",
      "\n",
      "\n",
      "Loading rgdal (required by projection.in)\n",
      "Loading rworldmap (required by add.map)\n",
      "Loading rworldxtra (required by add.map)\n",
      "Using the default DarkOrange to Blue color scheme, with 'white' as the midpoint color.\n",
      "It combines two color schemes from the 'dichromat' package, which itself is based on\n",
      "a collection of color schemes for scientific data graphics:\n",
      "\tLight A and Bartlein PJ (2004). The End of the Rainbow? Color Schemes for Improved Data\n",
      "\tGraphics. EOS Transactions of the American Geophysical Union, 85(40), 385.\n",
      "See also http://geog.uoregon.edu/datagraphics/color_scales.htm\n",
      "\n",
      "\n",
      "\n",
      "Using 'euclidean' distance to assign interpolation points to Voronoi tiles.\n",
      "\n",
      "\n",
      "\n",
      "Processing the following EEMS output directories :\n",
      "../../EEMS/Choosing/OLxOR1-m80x60-maf025_results/OLxOR1-m80x60-maf025-W-nD200-ch1\n",
      "Plotting effective migration surface (posterior mean of m rates)\n",
      "../../EEMS/Choosing/OLxOR1-m80x60-maf025_results/OLxOR1-m80x60-maf025-W-nD200-ch1\n",
      "Using the default DarkOrange to Blue color scheme, with 'white' as the midpoint color.\n",
      "It combines two color schemes from the 'dichromat' package, which itself is based on\n",
      "a collection of color schemes for scientific data graphics:\n",
      "\tLight A and Bartlein PJ (2004). The End of the Rainbow? Color Schemes for Improved Data\n",
      "\tGraphics. EOS Transactions of the American Geophysical Union, 85(40), 385.\n",
      "See also http://geog.uoregon.edu/datagraphics/color_scales.htm\n",
      "\n",
      "\n",
      "\n",
      "Plotting effective diversity surface (posterior mean of q rates)\n",
      "../../EEMS/Choosing/OLxOR1-m80x60-maf025_results/OLxOR1-m80x60-maf025-W-nD200-ch1\n",
      "Using the default DarkOrange to Blue color scheme, with 'white' as the midpoint color.\n",
      "It combines two color schemes from the 'dichromat' package, which itself is based on\n",
      "a collection of color schemes for scientific data graphics:\n",
      "\tLight A and Bartlein PJ (2004). The End of the Rainbow? Color Schemes for Improved Data\n",
      "\tGraphics. EOS Transactions of the American Geophysical Union, 85(40), 385.\n",
      "See also http://geog.uoregon.edu/datagraphics/color_scales.htm\n",
      "\n",
      "\n",
      "\n",
      "Plotting posterior probability trace\n",
      "../../EEMS/Choosing/OLxOR1-m80x60-maf025_results/OLxOR1-m80x60-maf025-W-nD200-ch1\n",
      "Plotting average dissimilarities within and between demes\n",
      "../../EEMS/Choosing/OLxOR1-m80x60-maf025_results/OLxOR1-m80x60-maf025-W-nD200-ch1\n",
      "Input projection: +proj=longlat +datum=WGS84\n",
      "Output projection: +proj=merc +datum=WGS84\n",
      "\n",
      "\n",
      "\n",
      "Loading rgdal (required by projection.in)\n",
      "Loading rworldmap (required by add.map)\n",
      "Loading rworldxtra (required by add.map)\n",
      "Using the default DarkOrange to Blue color scheme, with 'white' as the midpoint color.\n",
      "It combines two color schemes from the 'dichromat' package, which itself is based on\n",
      "a collection of color schemes for scientific data graphics:\n",
      "\tLight A and Bartlein PJ (2004). The End of the Rainbow? Color Schemes for Improved Data\n",
      "\tGraphics. EOS Transactions of the American Geophysical Union, 85(40), 385.\n",
      "See also http://geog.uoregon.edu/datagraphics/color_scales.htm\n",
      "\n",
      "\n",
      "\n",
      "Using 'euclidean' distance to assign interpolation points to Voronoi tiles.\n",
      "\n",
      "\n",
      "\n",
      "Processing the following EEMS output directories :\n",
      "../../EEMS/Choosing/OLxOR1-m80x60-maf025_results/OLxOR1-m80x60-maf025-W-nD200-ch2\n",
      "Plotting effective migration surface (posterior mean of m rates)\n",
      "../../EEMS/Choosing/OLxOR1-m80x60-maf025_results/OLxOR1-m80x60-maf025-W-nD200-ch2\n",
      "Using the default DarkOrange to Blue color scheme, with 'white' as the midpoint color.\n",
      "It combines two color schemes from the 'dichromat' package, which itself is based on\n",
      "a collection of color schemes for scientific data graphics:\n",
      "\tLight A and Bartlein PJ (2004). The End of the Rainbow? Color Schemes for Improved Data\n",
      "\tGraphics. EOS Transactions of the American Geophysical Union, 85(40), 385.\n",
      "See also http://geog.uoregon.edu/datagraphics/color_scales.htm\n",
      "\n",
      "\n",
      "\n",
      "Plotting effective diversity surface (posterior mean of q rates)\n",
      "../../EEMS/Choosing/OLxOR1-m80x60-maf025_results/OLxOR1-m80x60-maf025-W-nD200-ch2\n",
      "Using the default DarkOrange to Blue color scheme, with 'white' as the midpoint color.\n",
      "It combines two color schemes from the 'dichromat' package, which itself is based on\n",
      "a collection of color schemes for scientific data graphics:\n",
      "\tLight A and Bartlein PJ (2004). The End of the Rainbow? Color Schemes for Improved Data\n",
      "\tGraphics. EOS Transactions of the American Geophysical Union, 85(40), 385.\n",
      "See also http://geog.uoregon.edu/datagraphics/color_scales.htm\n",
      "\n",
      "\n",
      "\n",
      "Plotting posterior probability trace\n",
      "../../EEMS/Choosing/OLxOR1-m80x60-maf025_results/OLxOR1-m80x60-maf025-W-nD200-ch2\n",
      "Plotting average dissimilarities within and between demes\n",
      "../../EEMS/Choosing/OLxOR1-m80x60-maf025_results/OLxOR1-m80x60-maf025-W-nD200-ch2\n",
      "Input projection: +proj=longlat +datum=WGS84\n",
      "Output projection: +proj=merc +datum=WGS84\n",
      "\n",
      "\n",
      "\n",
      "Loading rgdal (required by projection.in)\n",
      "Loading rworldmap (required by add.map)\n",
      "Loading rworldxtra (required by add.map)\n",
      "Using the default DarkOrange to Blue color scheme, with 'white' as the midpoint color.\n",
      "It combines two color schemes from the 'dichromat' package, which itself is based on\n",
      "a collection of color schemes for scientific data graphics:\n",
      "\tLight A and Bartlein PJ (2004). The End of the Rainbow? Color Schemes for Improved Data\n",
      "\tGraphics. EOS Transactions of the American Geophysical Union, 85(40), 385.\n",
      "See also http://geog.uoregon.edu/datagraphics/color_scales.htm\n",
      "\n",
      "\n",
      "\n",
      "Using 'euclidean' distance to assign interpolation points to Voronoi tiles.\n",
      "\n",
      "\n",
      "\n",
      "Processing the following EEMS output directories :\n",
      "../../EEMS/Choosing/OLxOR1-m80x60-maf025_results/OLxOR1-m80x60-maf025-W-nD300-ch1\n",
      "Plotting effective migration surface (posterior mean of m rates)\n",
      "../../EEMS/Choosing/OLxOR1-m80x60-maf025_results/OLxOR1-m80x60-maf025-W-nD300-ch1\n",
      "Using the default DarkOrange to Blue color scheme, with 'white' as the midpoint color.\n",
      "It combines two color schemes from the 'dichromat' package, which itself is based on\n",
      "a collection of color schemes for scientific data graphics:\n",
      "\tLight A and Bartlein PJ (2004). The End of the Rainbow? Color Schemes for Improved Data\n",
      "\tGraphics. EOS Transactions of the American Geophysical Union, 85(40), 385.\n",
      "See also http://geog.uoregon.edu/datagraphics/color_scales.htm\n",
      "\n",
      "\n",
      "\n",
      "Plotting effective diversity surface (posterior mean of q rates)\n",
      "../../EEMS/Choosing/OLxOR1-m80x60-maf025_results/OLxOR1-m80x60-maf025-W-nD300-ch1\n",
      "Using the default DarkOrange to Blue color scheme, with 'white' as the midpoint color.\n",
      "It combines two color schemes from the 'dichromat' package, which itself is based on\n",
      "a collection of color schemes for scientific data graphics:\n",
      "\tLight A and Bartlein PJ (2004). The End of the Rainbow? Color Schemes for Improved Data\n",
      "\tGraphics. EOS Transactions of the American Geophysical Union, 85(40), 385.\n",
      "See also http://geog.uoregon.edu/datagraphics/color_scales.htm\n",
      "\n",
      "\n",
      "\n",
      "Plotting posterior probability trace\n",
      "../../EEMS/Choosing/OLxOR1-m80x60-maf025_results/OLxOR1-m80x60-maf025-W-nD300-ch1\n",
      "Plotting average dissimilarities within and between demes\n",
      "../../EEMS/Choosing/OLxOR1-m80x60-maf025_results/OLxOR1-m80x60-maf025-W-nD300-ch1\n",
      "Input projection: +proj=longlat +datum=WGS84\n",
      "Output projection: +proj=merc +datum=WGS84\n",
      "\n",
      "\n",
      "\n",
      "Loading rgdal (required by projection.in)\n",
      "Loading rworldmap (required by add.map)\n",
      "Loading rworldxtra (required by add.map)\n",
      "Using the default DarkOrange to Blue color scheme, with 'white' as the midpoint color.\n",
      "It combines two color schemes from the 'dichromat' package, which itself is based on\n",
      "a collection of color schemes for scientific data graphics:\n",
      "\tLight A and Bartlein PJ (2004). The End of the Rainbow? Color Schemes for Improved Data\n",
      "\tGraphics. EOS Transactions of the American Geophysical Union, 85(40), 385.\n",
      "See also http://geog.uoregon.edu/datagraphics/color_scales.htm\n",
      "\n",
      "\n",
      "\n",
      "Using 'euclidean' distance to assign interpolation points to Voronoi tiles.\n",
      "\n",
      "\n",
      "\n",
      "Processing the following EEMS output directories :\n",
      "../../EEMS/Choosing/OLxOR1-m80x60-maf025_results/OLxOR1-m80x60-maf025-W-nD300-ch2\n",
      "Plotting effective migration surface (posterior mean of m rates)\n",
      "../../EEMS/Choosing/OLxOR1-m80x60-maf025_results/OLxOR1-m80x60-maf025-W-nD300-ch2\n",
      "Using the default DarkOrange to Blue color scheme, with 'white' as the midpoint color.\n",
      "It combines two color schemes from the 'dichromat' package, which itself is based on\n",
      "a collection of color schemes for scientific data graphics:\n",
      "\tLight A and Bartlein PJ (2004). The End of the Rainbow? Color Schemes for Improved Data\n",
      "\tGraphics. EOS Transactions of the American Geophysical Union, 85(40), 385.\n",
      "See also http://geog.uoregon.edu/datagraphics/color_scales.htm\n",
      "\n",
      "\n",
      "\n",
      "Plotting effective diversity surface (posterior mean of q rates)\n",
      "../../EEMS/Choosing/OLxOR1-m80x60-maf025_results/OLxOR1-m80x60-maf025-W-nD300-ch2\n",
      "Using the default DarkOrange to Blue color scheme, with 'white' as the midpoint color.\n",
      "It combines two color schemes from the 'dichromat' package, which itself is based on\n",
      "a collection of color schemes for scientific data graphics:\n",
      "\tLight A and Bartlein PJ (2004). The End of the Rainbow? Color Schemes for Improved Data\n",
      "\tGraphics. EOS Transactions of the American Geophysical Union, 85(40), 385.\n",
      "See also http://geog.uoregon.edu/datagraphics/color_scales.htm\n",
      "\n",
      "\n",
      "\n",
      "Plotting posterior probability trace\n",
      "../../EEMS/Choosing/OLxOR1-m80x60-maf025_results/OLxOR1-m80x60-maf025-W-nD300-ch2\n",
      "Plotting average dissimilarities within and between demes\n",
      "../../EEMS/Choosing/OLxOR1-m80x60-maf025_results/OLxOR1-m80x60-maf025-W-nD300-ch2\n"
     ]
    }
   ],
   "source": [
    "for(dir in dirs){\n",
    "    eems.plots(mcmcpath = dir, plotpath = paste0(dir,\"-plots\"),\n",
    "           longlat = T,add.grid=F,add.outline = T,add.demes = T,\n",
    "           projection.in = \"+proj=longlat +datum=WGS84\",projection.out = \"+proj=merc +datum=WGS84\",\n",
    "           add.map = T,add.abline = T, add.r.squared = T)\n",
    "}\n"
   ]
  },
  {
   "cell_type": "markdown",
   "metadata": {},
   "source": [
    "#### All SNPs"
   ]
  },
  {
   "cell_type": "markdown",
   "metadata": {},
   "source": [
    "Make a list of all EEMS directories to plot all the results into 1 plot:"
   ]
  },
  {
   "cell_type": "code",
   "execution_count": 14,
   "metadata": {},
   "outputs": [],
   "source": [
    "path = \"../../EEMS/Choosing/OLxOR1-m80x60-mac2_results/\"\n",
    "dirs = c(paste0(path,\"OLxOR1-m80x60-mac2-W-nD200-ch1\"),paste0(path,\"OLxOR1-m80x60-mac2-W-nD200-ch2\"), \n",
    "         paste0(path,\"OLxOR1-m80x60-mac2-W-nD300-ch1\"),paste0(path,\"OLxOR1-m80x60-mac2-W-nD300-ch2\"))"
   ]
  },
  {
   "cell_type": "code",
   "execution_count": 15,
   "metadata": {},
   "outputs": [
    {
     "name": "stderr",
     "output_type": "stream",
     "text": [
      "Input projection: +proj=longlat +datum=WGS84\n",
      "Output projection: +proj=merc +datum=WGS84\n",
      "\n",
      "\n",
      "\n",
      "Loading rgdal (required by projection.in)\n",
      "Loading rworldmap (required by add.map)\n",
      "Loading rworldxtra (required by add.map)\n",
      "Using the default DarkOrange to Blue color scheme, with 'white' as the midpoint color.\n",
      "It combines two color schemes from the 'dichromat' package, which itself is based on\n",
      "a collection of color schemes for scientific data graphics:\n",
      "\tLight A and Bartlein PJ (2004). The End of the Rainbow? Color Schemes for Improved Data\n",
      "\tGraphics. EOS Transactions of the American Geophysical Union, 85(40), 385.\n",
      "See also http://geog.uoregon.edu/datagraphics/color_scales.htm\n",
      "\n",
      "\n",
      "\n",
      "Using 'euclidean' distance to assign interpolation points to Voronoi tiles.\n",
      "\n",
      "\n",
      "\n",
      "Processing the following EEMS output directories :\n",
      "../../EEMS/Choosing/OLxOR1-m80x60-mac2_results/OLxOR1-m80x60-mac2-W-nD200-ch1../../EEMS/Choosing/OLxOR1-m80x60-mac2_results/OLxOR1-m80x60-mac2-W-nD200-ch2../../EEMS/Choosing/OLxOR1-m80x60-mac2_results/OLxOR1-m80x60-mac2-W-nD300-ch1../../EEMS/Choosing/OLxOR1-m80x60-mac2_results/OLxOR1-m80x60-mac2-W-nD300-ch2\n",
      "Plotting effective migration surface (posterior mean of m rates)\n",
      "../../EEMS/Choosing/OLxOR1-m80x60-mac2_results/OLxOR1-m80x60-mac2-W-nD200-ch1\n",
      "../../EEMS/Choosing/OLxOR1-m80x60-mac2_results/OLxOR1-m80x60-mac2-W-nD200-ch2\n",
      "../../EEMS/Choosing/OLxOR1-m80x60-mac2_results/OLxOR1-m80x60-mac2-W-nD300-ch1\n",
      "../../EEMS/Choosing/OLxOR1-m80x60-mac2_results/OLxOR1-m80x60-mac2-W-nD300-ch2\n",
      "Using the default DarkOrange to Blue color scheme, with 'white' as the midpoint color.\n",
      "It combines two color schemes from the 'dichromat' package, which itself is based on\n",
      "a collection of color schemes for scientific data graphics:\n",
      "\tLight A and Bartlein PJ (2004). The End of the Rainbow? Color Schemes for Improved Data\n",
      "\tGraphics. EOS Transactions of the American Geophysical Union, 85(40), 385.\n",
      "See also http://geog.uoregon.edu/datagraphics/color_scales.htm\n",
      "\n",
      "\n",
      "\n",
      "Plotting effective diversity surface (posterior mean of q rates)\n",
      "../../EEMS/Choosing/OLxOR1-m80x60-mac2_results/OLxOR1-m80x60-mac2-W-nD200-ch1\n",
      "../../EEMS/Choosing/OLxOR1-m80x60-mac2_results/OLxOR1-m80x60-mac2-W-nD200-ch2\n",
      "../../EEMS/Choosing/OLxOR1-m80x60-mac2_results/OLxOR1-m80x60-mac2-W-nD300-ch1\n",
      "../../EEMS/Choosing/OLxOR1-m80x60-mac2_results/OLxOR1-m80x60-mac2-W-nD300-ch2\n",
      "Using the default DarkOrange to Blue color scheme, with 'white' as the midpoint color.\n",
      "It combines two color schemes from the 'dichromat' package, which itself is based on\n",
      "a collection of color schemes for scientific data graphics:\n",
      "\tLight A and Bartlein PJ (2004). The End of the Rainbow? Color Schemes for Improved Data\n",
      "\tGraphics. EOS Transactions of the American Geophysical Union, 85(40), 385.\n",
      "See also http://geog.uoregon.edu/datagraphics/color_scales.htm\n",
      "\n",
      "\n",
      "\n",
      "Plotting posterior probability trace\n",
      "../../EEMS/Choosing/OLxOR1-m80x60-mac2_results/OLxOR1-m80x60-mac2-W-nD200-ch1\n",
      "../../EEMS/Choosing/OLxOR1-m80x60-mac2_results/OLxOR1-m80x60-mac2-W-nD200-ch2\n",
      "../../EEMS/Choosing/OLxOR1-m80x60-mac2_results/OLxOR1-m80x60-mac2-W-nD300-ch1\n",
      "../../EEMS/Choosing/OLxOR1-m80x60-mac2_results/OLxOR1-m80x60-mac2-W-nD300-ch2\n",
      "Plotting average dissimilarities within and between demes\n",
      "../../EEMS/Choosing/OLxOR1-m80x60-mac2_results/OLxOR1-m80x60-mac2-W-nD200-ch1\n",
      "../../EEMS/Choosing/OLxOR1-m80x60-mac2_results/OLxOR1-m80x60-mac2-W-nD200-ch2\n",
      "../../EEMS/Choosing/OLxOR1-m80x60-mac2_results/OLxOR1-m80x60-mac2-W-nD300-ch1\n",
      "Using 'euclidean' distance to assign interpolation points to Voronoi tiles.\n",
      "\n",
      "\n",
      "\n",
      "Using 'euclidean' distance to assign interpolation points to Voronoi tiles.\n",
      "\n",
      "\n",
      "\n",
      "EEMS results for at least two different population grids\n"
     ]
    }
   ],
   "source": [
    "eems.plots(mcmcpath = dirs, plotpath = paste0(path,\"OLxOR1-m80x60-mac2-W-All-plots\"),\n",
    "           longlat = T,add.grid=F,add.outline = T,add.demes = T,\n",
    "           projection.in = \"+proj=longlat +datum=WGS84\",projection.out = \"+proj=merc +datum=WGS84\",\n",
    "           add.map = T,add.abline = T, add.r.squared = T)"
   ]
  },
  {
   "cell_type": "code",
   "execution_count": 16,
   "metadata": {},
   "outputs": [
    {
     "name": "stderr",
     "output_type": "stream",
     "text": [
      "Input projection: +proj=longlat +datum=WGS84\n",
      "Output projection: +proj=merc +datum=WGS84\n",
      "\n",
      "\n",
      "\n",
      "Loading rgdal (required by projection.in)\n",
      "Loading rworldmap (required by add.map)\n",
      "Loading rworldxtra (required by add.map)\n",
      "Using the default DarkOrange to Blue color scheme, with 'white' as the midpoint color.\n",
      "It combines two color schemes from the 'dichromat' package, which itself is based on\n",
      "a collection of color schemes for scientific data graphics:\n",
      "\tLight A and Bartlein PJ (2004). The End of the Rainbow? Color Schemes for Improved Data\n",
      "\tGraphics. EOS Transactions of the American Geophysical Union, 85(40), 385.\n",
      "See also http://geog.uoregon.edu/datagraphics/color_scales.htm\n",
      "\n",
      "\n",
      "\n",
      "Using 'euclidean' distance to assign interpolation points to Voronoi tiles.\n",
      "\n",
      "\n",
      "\n",
      "Processing the following EEMS output directories :\n",
      "../../EEMS/Choosing/OLxOR1-m80x60-mac2_results/OLxOR1-m80x60-mac2-W-nD200-ch1\n",
      "Plotting effective migration surface (posterior mean of m rates)\n",
      "../../EEMS/Choosing/OLxOR1-m80x60-mac2_results/OLxOR1-m80x60-mac2-W-nD200-ch1\n",
      "Using the default DarkOrange to Blue color scheme, with 'white' as the midpoint color.\n",
      "It combines two color schemes from the 'dichromat' package, which itself is based on\n",
      "a collection of color schemes for scientific data graphics:\n",
      "\tLight A and Bartlein PJ (2004). The End of the Rainbow? Color Schemes for Improved Data\n",
      "\tGraphics. EOS Transactions of the American Geophysical Union, 85(40), 385.\n",
      "See also http://geog.uoregon.edu/datagraphics/color_scales.htm\n",
      "\n",
      "\n",
      "\n",
      "Plotting effective diversity surface (posterior mean of q rates)\n",
      "../../EEMS/Choosing/OLxOR1-m80x60-mac2_results/OLxOR1-m80x60-mac2-W-nD200-ch1\n",
      "Using the default DarkOrange to Blue color scheme, with 'white' as the midpoint color.\n",
      "It combines two color schemes from the 'dichromat' package, which itself is based on\n",
      "a collection of color schemes for scientific data graphics:\n",
      "\tLight A and Bartlein PJ (2004). The End of the Rainbow? Color Schemes for Improved Data\n",
      "\tGraphics. EOS Transactions of the American Geophysical Union, 85(40), 385.\n",
      "See also http://geog.uoregon.edu/datagraphics/color_scales.htm\n",
      "\n",
      "\n",
      "\n",
      "Plotting posterior probability trace\n",
      "../../EEMS/Choosing/OLxOR1-m80x60-mac2_results/OLxOR1-m80x60-mac2-W-nD200-ch1\n",
      "Plotting average dissimilarities within and between demes\n",
      "../../EEMS/Choosing/OLxOR1-m80x60-mac2_results/OLxOR1-m80x60-mac2-W-nD200-ch1\n",
      "Input projection: +proj=longlat +datum=WGS84\n",
      "Output projection: +proj=merc +datum=WGS84\n",
      "\n",
      "\n",
      "\n",
      "Loading rgdal (required by projection.in)\n",
      "Loading rworldmap (required by add.map)\n",
      "Loading rworldxtra (required by add.map)\n",
      "Using the default DarkOrange to Blue color scheme, with 'white' as the midpoint color.\n",
      "It combines two color schemes from the 'dichromat' package, which itself is based on\n",
      "a collection of color schemes for scientific data graphics:\n",
      "\tLight A and Bartlein PJ (2004). The End of the Rainbow? Color Schemes for Improved Data\n",
      "\tGraphics. EOS Transactions of the American Geophysical Union, 85(40), 385.\n",
      "See also http://geog.uoregon.edu/datagraphics/color_scales.htm\n",
      "\n",
      "\n",
      "\n",
      "Using 'euclidean' distance to assign interpolation points to Voronoi tiles.\n",
      "\n",
      "\n",
      "\n",
      "Processing the following EEMS output directories :\n",
      "../../EEMS/Choosing/OLxOR1-m80x60-mac2_results/OLxOR1-m80x60-mac2-W-nD200-ch2\n",
      "Plotting effective migration surface (posterior mean of m rates)\n",
      "../../EEMS/Choosing/OLxOR1-m80x60-mac2_results/OLxOR1-m80x60-mac2-W-nD200-ch2\n",
      "Using the default DarkOrange to Blue color scheme, with 'white' as the midpoint color.\n",
      "It combines two color schemes from the 'dichromat' package, which itself is based on\n",
      "a collection of color schemes for scientific data graphics:\n",
      "\tLight A and Bartlein PJ (2004). The End of the Rainbow? Color Schemes for Improved Data\n",
      "\tGraphics. EOS Transactions of the American Geophysical Union, 85(40), 385.\n",
      "See also http://geog.uoregon.edu/datagraphics/color_scales.htm\n",
      "\n",
      "\n",
      "\n",
      "Plotting effective diversity surface (posterior mean of q rates)\n",
      "../../EEMS/Choosing/OLxOR1-m80x60-mac2_results/OLxOR1-m80x60-mac2-W-nD200-ch2\n",
      "Using the default DarkOrange to Blue color scheme, with 'white' as the midpoint color.\n",
      "It combines two color schemes from the 'dichromat' package, which itself is based on\n",
      "a collection of color schemes for scientific data graphics:\n",
      "\tLight A and Bartlein PJ (2004). The End of the Rainbow? Color Schemes for Improved Data\n",
      "\tGraphics. EOS Transactions of the American Geophysical Union, 85(40), 385.\n",
      "See also http://geog.uoregon.edu/datagraphics/color_scales.htm\n",
      "\n",
      "\n",
      "\n",
      "Plotting posterior probability trace\n",
      "../../EEMS/Choosing/OLxOR1-m80x60-mac2_results/OLxOR1-m80x60-mac2-W-nD200-ch2\n",
      "Plotting average dissimilarities within and between demes\n",
      "../../EEMS/Choosing/OLxOR1-m80x60-mac2_results/OLxOR1-m80x60-mac2-W-nD200-ch2\n",
      "Input projection: +proj=longlat +datum=WGS84\n",
      "Output projection: +proj=merc +datum=WGS84\n",
      "\n",
      "\n",
      "\n",
      "Loading rgdal (required by projection.in)\n",
      "Loading rworldmap (required by add.map)\n",
      "Loading rworldxtra (required by add.map)\n",
      "Using the default DarkOrange to Blue color scheme, with 'white' as the midpoint color.\n",
      "It combines two color schemes from the 'dichromat' package, which itself is based on\n",
      "a collection of color schemes for scientific data graphics:\n",
      "\tLight A and Bartlein PJ (2004). The End of the Rainbow? Color Schemes for Improved Data\n",
      "\tGraphics. EOS Transactions of the American Geophysical Union, 85(40), 385.\n",
      "See also http://geog.uoregon.edu/datagraphics/color_scales.htm\n",
      "\n",
      "\n",
      "\n",
      "Using 'euclidean' distance to assign interpolation points to Voronoi tiles.\n",
      "\n",
      "\n",
      "\n",
      "Processing the following EEMS output directories :\n",
      "../../EEMS/Choosing/OLxOR1-m80x60-mac2_results/OLxOR1-m80x60-mac2-W-nD300-ch1\n",
      "Plotting effective migration surface (posterior mean of m rates)\n",
      "../../EEMS/Choosing/OLxOR1-m80x60-mac2_results/OLxOR1-m80x60-mac2-W-nD300-ch1\n",
      "Using the default DarkOrange to Blue color scheme, with 'white' as the midpoint color.\n",
      "It combines two color schemes from the 'dichromat' package, which itself is based on\n",
      "a collection of color schemes for scientific data graphics:\n",
      "\tLight A and Bartlein PJ (2004). The End of the Rainbow? Color Schemes for Improved Data\n",
      "\tGraphics. EOS Transactions of the American Geophysical Union, 85(40), 385.\n",
      "See also http://geog.uoregon.edu/datagraphics/color_scales.htm\n",
      "\n",
      "\n",
      "\n",
      "Plotting effective diversity surface (posterior mean of q rates)\n",
      "../../EEMS/Choosing/OLxOR1-m80x60-mac2_results/OLxOR1-m80x60-mac2-W-nD300-ch1\n",
      "Using the default DarkOrange to Blue color scheme, with 'white' as the midpoint color.\n",
      "It combines two color schemes from the 'dichromat' package, which itself is based on\n",
      "a collection of color schemes for scientific data graphics:\n",
      "\tLight A and Bartlein PJ (2004). The End of the Rainbow? Color Schemes for Improved Data\n",
      "\tGraphics. EOS Transactions of the American Geophysical Union, 85(40), 385.\n",
      "See also http://geog.uoregon.edu/datagraphics/color_scales.htm\n",
      "\n",
      "\n",
      "\n",
      "Plotting posterior probability trace\n",
      "../../EEMS/Choosing/OLxOR1-m80x60-mac2_results/OLxOR1-m80x60-mac2-W-nD300-ch1\n",
      "Plotting average dissimilarities within and between demes\n",
      "../../EEMS/Choosing/OLxOR1-m80x60-mac2_results/OLxOR1-m80x60-mac2-W-nD300-ch1\n",
      "Input projection: +proj=longlat +datum=WGS84\n",
      "Output projection: +proj=merc +datum=WGS84\n",
      "\n",
      "\n",
      "\n",
      "Loading rgdal (required by projection.in)\n",
      "Loading rworldmap (required by add.map)\n",
      "Loading rworldxtra (required by add.map)\n",
      "Using the default DarkOrange to Blue color scheme, with 'white' as the midpoint color.\n",
      "It combines two color schemes from the 'dichromat' package, which itself is based on\n",
      "a collection of color schemes for scientific data graphics:\n",
      "\tLight A and Bartlein PJ (2004). The End of the Rainbow? Color Schemes for Improved Data\n",
      "\tGraphics. EOS Transactions of the American Geophysical Union, 85(40), 385.\n",
      "See also http://geog.uoregon.edu/datagraphics/color_scales.htm\n",
      "\n",
      "\n",
      "\n",
      "Using 'euclidean' distance to assign interpolation points to Voronoi tiles.\n",
      "\n",
      "\n",
      "\n",
      "Processing the following EEMS output directories :\n",
      "../../EEMS/Choosing/OLxOR1-m80x60-mac2_results/OLxOR1-m80x60-mac2-W-nD300-ch2\n",
      "Plotting effective migration surface (posterior mean of m rates)\n",
      "../../EEMS/Choosing/OLxOR1-m80x60-mac2_results/OLxOR1-m80x60-mac2-W-nD300-ch2\n",
      "Using the default DarkOrange to Blue color scheme, with 'white' as the midpoint color.\n",
      "It combines two color schemes from the 'dichromat' package, which itself is based on\n",
      "a collection of color schemes for scientific data graphics:\n",
      "\tLight A and Bartlein PJ (2004). The End of the Rainbow? Color Schemes for Improved Data\n",
      "\tGraphics. EOS Transactions of the American Geophysical Union, 85(40), 385.\n",
      "See also http://geog.uoregon.edu/datagraphics/color_scales.htm\n",
      "\n",
      "\n",
      "\n",
      "Plotting effective diversity surface (posterior mean of q rates)\n",
      "../../EEMS/Choosing/OLxOR1-m80x60-mac2_results/OLxOR1-m80x60-mac2-W-nD300-ch2\n",
      "Using the default DarkOrange to Blue color scheme, with 'white' as the midpoint color.\n",
      "It combines two color schemes from the 'dichromat' package, which itself is based on\n",
      "a collection of color schemes for scientific data graphics:\n",
      "\tLight A and Bartlein PJ (2004). The End of the Rainbow? Color Schemes for Improved Data\n",
      "\tGraphics. EOS Transactions of the American Geophysical Union, 85(40), 385.\n",
      "See also http://geog.uoregon.edu/datagraphics/color_scales.htm\n",
      "\n",
      "\n",
      "\n",
      "Plotting posterior probability trace\n",
      "../../EEMS/Choosing/OLxOR1-m80x60-mac2_results/OLxOR1-m80x60-mac2-W-nD300-ch2\n",
      "Plotting average dissimilarities within and between demes\n",
      "../../EEMS/Choosing/OLxOR1-m80x60-mac2_results/OLxOR1-m80x60-mac2-W-nD300-ch2\n"
     ]
    }
   ],
   "source": [
    "for(dir in dirs){\n",
    "    eems.plots(mcmcpath = dir, plotpath = paste0(dir,\"-plots\"),\n",
    "           longlat = T,add.grid=F,add.outline = T,add.demes = T,\n",
    "           projection.in = \"+proj=longlat +datum=WGS84\",projection.out = \"+proj=merc +datum=WGS84\",\n",
    "           add.map = T,add.abline = T, add.r.squared = T)\n",
    "}\n"
   ]
  },
  {
   "cell_type": "markdown",
   "metadata": {},
   "source": [
    "### End of notebook"
   ]
  },
  {
   "cell_type": "code",
   "execution_count": null,
   "metadata": {},
   "outputs": [],
   "source": []
  }
 ],
 "metadata": {
  "kernelspec": {
   "display_name": "R",
   "language": "R",
   "name": "ir"
  },
  "language_info": {
   "codemirror_mode": "r",
   "file_extension": ".r",
   "mimetype": "text/x-r-source",
   "name": "R",
   "pygments_lexer": "r",
   "version": "3.5.2"
  }
 },
 "nbformat": 4,
 "nbformat_minor": 2
}
