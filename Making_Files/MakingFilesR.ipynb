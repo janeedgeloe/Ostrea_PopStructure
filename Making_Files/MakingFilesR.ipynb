{
 "cells": [
  {
   "cell_type": "markdown",
   "metadata": {},
   "source": [
    "# Making files for other programs\n",
    "This is an R Notebook detailing how I take a filtered .vcf file from ipyrad and turn it into other formats for population genetic analyses. I do this first for the full SNP dataset, then again for only outlier SNPs or only neutral SNPs so it is repetetive."
   ]
  },
  {
   "cell_type": "code",
   "execution_count": 1,
   "metadata": {},
   "outputs": [
    {
     "data": {
      "text/plain": [
       "[1] \"2018-09-07 06:21:16 CDT\""
      ]
     },
     "metadata": {},
     "output_type": "display_data"
    }
   ],
   "source": [
    "Sys.time()"
   ]
  },
  {
   "cell_type": "markdown",
   "metadata": {},
   "source": [
    "## x45m75-neut"
   ]
  },
  {
   "cell_type": "markdown",
   "metadata": {},
   "source": [
    "## Make .genind object for PCA and other conversions\n",
    "I use the radiator package in R to convert the filtered .vcf file into a number of other input formats. It has great documentation and a lot of filtering capabilities itself."
   ]
  },
  {
   "cell_type": "code",
   "execution_count": 3,
   "metadata": {},
   "outputs": [
    {
     "name": "stderr",
     "output_type": "stream",
     "text": [
      "Loading required package: ade4\n",
      "\n",
      "   /// adegenet 2.1.1 is loaded ////////////\n",
      "\n",
      "   > overview: '?adegenet'\n",
      "   > tutorials/doc/questions: 'adegenetWeb()' \n",
      "   > bug reports/feature requests: adegenetIssues()\n",
      "\n",
      "\n",
      "\n",
      "Attaching package: ‘dplyr’\n",
      "\n",
      "The following objects are masked from ‘package:stats’:\n",
      "\n",
      "    filter, lag\n",
      "\n",
      "The following objects are masked from ‘package:base’:\n",
      "\n",
      "    intersect, setdiff, setequal, union\n",
      "\n"
     ]
    }
   ],
   "source": [
    "library(\"adegenet\") #inputting genetic data from structure, PCA, DAPC\n",
    "library(\"radiator\") #Conversion from vcf to a lot of other formats\n",
    "library(\"dplyr\")"
   ]
  },
  {
   "cell_type": "code",
   "execution_count": 2,
   "metadata": {},
   "outputs": [],
   "source": [
    "#set filename suffix\n",
    "filtsuf = \"OL-c85t10-x45m75-maf025-neutI2\""
   ]
  },
  {
   "cell_type": "code",
   "execution_count": 4,
   "metadata": {},
   "outputs": [
    {
     "name": "stderr",
     "output_type": "stream",
     "text": [
      "VCF is biallelic\n"
     ]
    },
    {
     "name": "stdout",
     "output_type": "stream",
     "text": [
      "Reading 13232 / 13232 loci.\n",
      "Done.\n"
     ]
    },
    {
     "name": "stderr",
     "output_type": "stream",
     "text": [
      "    number of markers with REF/ALT change(s) = 0\n",
      "Using markers common in all populations:\n",
      "    Number of markers before/blacklisted/after:13232/41/13191\n",
      "Scanning for monomorphic markers...\n",
      "    Number of markers before/blacklisted/after: 13191/0/13191\n",
      "\n",
      "Tidy genomic data:\n",
      "    Number of common markers: 13191\n",
      "    Number of chromosome/contig/scaffold: 6095\n",
      "    Number of individuals: 117\n",
      "    Number of populations: 19\n",
      "\n",
      "Writing tidy data set:\n",
      "OL-c85t10-x45m75-maf025-neutI2.rad\n"
     ]
    }
   ],
   "source": [
    "rad.filt <- vcf2genind(\"OL-c85-t10-x45m75-maf025-neutI2.recode.vcf\",filename=filtsuf,\n",
    "                      common.markers = T, strata=\"../Making_Files/OL-c85-t10-x45.strata\", \n",
    "                      pop.levels = c(\"Klaskino_BC\",\"Barkeley_BC\",\"Ladysmith_BC\",\"Victoria_BC\",\"Discovery_WA\",\"Liberty_WA\",\"TritonCove_WA\",\"NorthBay_WA\",\"Willapa_WA\",\"Netarts_OR\",\"Yaquina_OR\",\"Coos_OR\",\"Humboldt_CA\",\"Tomales_CA\",\"NorthSanFran_CA\",\"SouthSanFran_CA\",\"Elkhorn_CA\",\"MuguLagoon_CA\",\"SanDiego_CA\"),\n",
    "                      parallel.core = 1)"
   ]
  },
  {
   "cell_type": "code",
   "execution_count": 4,
   "metadata": {},
   "outputs": [
    {
     "name": "stderr",
     "output_type": "stream",
     "text": [
      "VCF is biallelic\n"
     ]
    },
    {
     "name": "stdout",
     "output_type": "stream",
     "text": [
      "Reading 6110 / 6110 loci.\n",
      "Done.\n"
     ]
    },
    {
     "name": "stderr",
     "output_type": "stream",
     "text": [
      "    number of markers with REF/ALT change(s) = 0\n",
      "Using markers common in all populations:\n",
      "    Number of markers before/blacklisted/after:6110/16/6094\n",
      "Scanning for monomorphic markers...\n",
      "    Number of markers before/blacklisted/after: 6094/0/6094\n",
      "\n",
      "Tidy genomic data:\n",
      "    Number of common markers: 6094\n",
      "    Number of chromosome/contig/scaffold: 6094\n",
      "    Number of individuals: 117\n",
      "    Number of populations: 19\n",
      "\n",
      "Writing tidy data set:\n",
      "OL-c85t10-x45m75-maf025-neutI2-u.rad\n"
     ]
    }
   ],
   "source": [
    "rad.u <- vcf2genind(paste0(filtsuf,\"-u.vcf\"),filename=paste0(filtsuf,\"-u\"),\n",
    "                      common.markers = T, strata=\"../Making_Files/OL-c85-t10-x45.strata\", \n",
    "                      pop.levels = c(\"Klaskino_BC\",\"Barkeley_BC\",\"Ladysmith_BC\",\"Victoria_BC\",\"Discovery_WA\",\"Liberty_WA\",\"TritonCove_WA\",\"NorthBay_WA\",\"Willapa_WA\",\"Netarts_OR\",\"Yaquina_OR\",\"Coos_OR\",\"Humboldt_CA\",\"Tomales_CA\",\"NorthSanFran_CA\",\"SouthSanFran_CA\",\"Elkhorn_CA\",\"MuguLagoon_CA\",\"SanDiego_CA\"),\n",
    "                      parallel.core = 1)"
   ]
  },
  {
   "cell_type": "markdown",
   "metadata": {},
   "source": [
    "Read in the .strata file and extract information such as region, latitude, and longitude. Region in my case was determined after running Structure analyses and exploring the data with PCA. For clarity, I show how to create the input files when region is already determined."
   ]
  },
  {
   "cell_type": "code",
   "execution_count": 6,
   "metadata": {},
   "outputs": [],
   "source": [
    "info <- as.data.frame(read.table(\"../Making_Files/OL-c85-t10-x45.strata\",header = T,sep = \"\\t\",stringsAsFactors = F))\n",
    "\n",
    "mystrats <- as.data.frame(matrix(,nrow = length(indNames(rad.u$genind.no.imputation)),ncol=5))\n",
    "colnames(mystrats) <- c(\"POPULATION\",\"LOCATION\",\"REGION\",\"LATITUDE\",\"LONGITUDE\")\n",
    "\n",
    "for(i in 1:nrow(info)){\n",
    "    j <- grep(gsub(\"_\",\"-\",info[i,1]),indNames(rad.u$genind.no.imputation),value=FALSE)\n",
    "    mystrats[j,1] <-info$STRATA[i] \n",
    "    mystrats[j,2] <-info$LOCATION[i] \n",
    "    mystrats[j,3] <-info$REGION[i]\n",
    "    mystrats[j,4] <-info$LATITUDE[i]\n",
    "    mystrats[j,5] <-info$LONGITUDE[i]\n",
    "}\n",
    "just.strats <- select(mystrats,c(\"POPULATION\",\"LOCATION\",\"REGION\"))\n",
    "stratted.u <- strata(rad.u$genind.no.imputation, formula= REGION/POPULATION/LOCATION, combine = TRUE,just.strats)\n",
    "stratted.u@other <- select(mystrats, LATITUDE,LONGITUDE)\n"
   ]
  },
  {
   "cell_type": "code",
   "execution_count": 6,
   "metadata": {},
   "outputs": [],
   "source": [
    "save(stratted.u, file=paste(filtsuf,\"-u.genind\",sep=\"\"))"
   ]
  },
  {
   "cell_type": "code",
   "execution_count": 7,
   "metadata": {},
   "outputs": [],
   "source": [
    "stratted.filt <- strata(rad.filt$genind.no.imputation, formula= REGION/POPULATION/LOCATION, combine = TRUE,just.strats)\n",
    "stratted.filt@other <- select(mystrats, LATITUDE,LONGITUDE)\n",
    "save(stratted.filt, file=paste(filtsuf,\"-filt.genind\",sep=\"\"))"
   ]
  },
  {
   "cell_type": "markdown",
   "metadata": {},
   "source": [
    "## Make hierfstat \n",
    "(because hierfstat will not accept this genind format). Make it for unlinked and all loci."
   ]
  },
  {
   "cell_type": "code",
   "execution_count": 10,
   "metadata": {},
   "outputs": [
    {
     "name": "stderr",
     "output_type": "stream",
     "text": [
      "VCF is biallelic\n"
     ]
    },
    {
     "name": "stdout",
     "output_type": "stream",
     "text": [
      "Reading 6110 / 6110 loci.\n",
      "Done.\n"
     ]
    },
    {
     "name": "stderr",
     "output_type": "stream",
     "text": [
      "    number of markers with REF/ALT change(s) = 0\n",
      "Using markers common in all populations:\n",
      "    Number of markers before/blacklisted/after:6110/16/6094\n",
      "Scanning for monomorphic markers...\n",
      "    Number of markers before/blacklisted/after: 6094/0/6094\n",
      "\n",
      "Tidy genomic data:\n",
      "    Number of common markers: 6094\n",
      "    Number of chromosome/contig/scaffold: 6094\n",
      "    Number of individuals: 117\n",
      "    Number of populations: 19\n",
      "    * Number of sample pop, np = 19\n",
      "    * Number of markers, nl = 6094\n",
      "    * The highest number used to label an allele, nu = 4\n",
      "    * The alleles are encoded with one digit number\n",
      "\n",
      "Writing tidy data set:\n",
      "OL-c85t10-x45m75-maf025-neutI2-u.rad\n"
     ]
    }
   ],
   "source": [
    "hf.u <- vcf2hierfstat(paste0(filtsuf,\"-u.vcf\"),filename=paste0(filtsuf,\"-u\"),\n",
    "                      common.markers = T, strata=\"../Making_Files/OL-c85-t10-x45.strata\", \n",
    "                      pop.levels = c(\"Klaskino_BC\",\"Barkeley_BC\",\"Ladysmith_BC\",\"Victoria_BC\",\"Discovery_WA\",\"Liberty_WA\",\"TritonCove_WA\",\"NorthBay_WA\",\"Willapa_WA\",\"Netarts_OR\",\"Yaquina_OR\",\"Coos_OR\",\"Humboldt_CA\",\"Tomales_CA\",\"NorthSanFran_CA\",\"SouthSanFran_CA\",\"Elkhorn_CA\",\"MuguLagoon_CA\",\"SanDiego_CA\"),\n",
    "                      parallel.core = 1)"
   ]
  },
  {
   "cell_type": "code",
   "execution_count": 11,
   "metadata": {},
   "outputs": [],
   "source": [
    "hf.u <- hf.u$hierfstat.no.imputation\n",
    "save(hf.u, file=paste0(filtsuf,\"-u.hf\"))"
   ]
  },
  {
   "cell_type": "code",
   "execution_count": 12,
   "metadata": {},
   "outputs": [
    {
     "name": "stderr",
     "output_type": "stream",
     "text": [
      "VCF is biallelic\n"
     ]
    },
    {
     "name": "stdout",
     "output_type": "stream",
     "text": [
      "Reading 13232 / 13232 loci.\n",
      "Done.\n"
     ]
    },
    {
     "name": "stderr",
     "output_type": "stream",
     "text": [
      "    number of markers with REF/ALT change(s) = 0\n",
      "Using markers common in all populations:\n",
      "    Number of markers before/blacklisted/after:13232/41/13191\n",
      "Scanning for monomorphic markers...\n",
      "    Number of markers before/blacklisted/after: 13191/0/13191\n",
      "\n",
      "Tidy genomic data:\n",
      "    Number of common markers: 13191\n",
      "    Number of chromosome/contig/scaffold: 6095\n",
      "    Number of individuals: 117\n",
      "    Number of populations: 19\n",
      "    * Number of sample pop, np = 19\n",
      "    * Number of markers, nl = 13191\n",
      "    * The highest number used to label an allele, nu = 4\n",
      "    * The alleles are encoded with one digit number\n",
      "\n",
      "Writing tidy data set:\n",
      "OL-c85t10-x45m75-maf025-neutI2-filt.rad\n"
     ]
    }
   ],
   "source": [
    "hf.filt <- vcf2hierfstat(\"OL-c85-t10-x45m75-maf025-neutI2.recode.vcf\",filename=paste0(filtsuf,\"-filt\"),\n",
    "                      common.markers = T, strata=\"../Making_Files/OL-c85-t10-x45.strata\", \n",
    "                      pop.levels = c(\"Klaskino_BC\",\"Barkeley_BC\",\"Ladysmith_BC\",\"Victoria_BC\",\"Discovery_WA\",\"Liberty_WA\",\"TritonCove_WA\",\"NorthBay_WA\",\"Willapa_WA\",\"Netarts_OR\",\"Yaquina_OR\",\"Coos_OR\",\"Humboldt_CA\",\"Tomales_CA\",\"NorthSanFran_CA\",\"SouthSanFran_CA\",\"Elkhorn_CA\",\"MuguLagoon_CA\",\"SanDiego_CA\"),\n",
    "                      parallel.core = 1)"
   ]
  },
  {
   "cell_type": "code",
   "execution_count": 13,
   "metadata": {},
   "outputs": [],
   "source": [
    "hf.filt <- hf.filt$hierfstat.no.imputation"
   ]
  },
  {
   "cell_type": "code",
   "execution_count": 14,
   "metadata": {},
   "outputs": [],
   "source": [
    "save(hf.filt, file=paste0(filtsuf,\"-filt.hf\"))"
   ]
  },
  {
   "cell_type": "markdown",
   "metadata": {},
   "source": [
    "### Make input for Structure"
   ]
  },
  {
   "cell_type": "code",
   "execution_count": 15,
   "metadata": {},
   "outputs": [],
   "source": [
    "#Use the previously created tidy datasets from radiator\n",
    "write_structure(rad.filt$tidy.data, filename=paste0(filtsuf,\"-filt\"))"
   ]
  },
  {
   "cell_type": "markdown",
   "metadata": {},
   "source": [
    "### Make input for Treemix\n",
    "Use only the unlinked dataset. Uses a python script I wrote to convert a genpop object to Treemix input."
   ]
  },
  {
   "cell_type": "code",
   "execution_count": 5,
   "metadata": {},
   "outputs": [
    {
     "name": "stdout",
     "output_type": "stream",
     "text": [
      "\n",
      " Converting data from a genind to a genpop object... \n",
      "\n",
      "...done.\n",
      "\n"
     ]
    }
   ],
   "source": [
    "gp <- genind2genpop(stratted.u,pop=strata(stratted.u)$POPULATION)\n",
    "write.table(gp$tab, file=paste0(filtsuf,\"-u.gp\"),sep = \"\\t\",row.names = T,col.names = T,quote = F )\n",
    "system('python ../../Methods/Scripts/genpop2Treemix.py OL-c85t10-x45m75-maf025-neutI2-u.gp OL-c85t10-x45m75-maf025-neutI2-u.pop.TM')\n",
    "system('gzip OL-c85t10-x45m75-maf025-neutI2-u.pop.TM')"
   ]
  },
  {
   "cell_type": "markdown",
   "metadata": {},
   "source": [
    "## Make EEMS input file "
   ]
  },
  {
   "cell_type": "markdown",
   "metadata": {},
   "source": [
    "Code to calculate the .diffs matrix for EEMS, from EEMS github."
   ]
  },
  {
   "cell_type": "code",
   "execution_count": 8,
   "metadata": {},
   "outputs": [],
   "source": [
    "bed2diffs_v1 <- function(Geno) {\n",
    "  nIndiv <- nrow(Geno)\n",
    "  nSites <- ncol(Geno)\n",
    "  Diffs <- matrix(0, nIndiv, nIndiv)\n",
    "  \n",
    "  for (i in seq(nIndiv - 1)) {\n",
    "    for (j in seq(i + 1, nIndiv)) {\n",
    "      x <- Geno[i, ]\n",
    "      y <- Geno[j, ]\n",
    "      Diffs[i, j] <- mean((x - y)^2, na.rm = TRUE)\n",
    "      Diffs[j, i] <- Diffs[i, j]\n",
    "    }\n",
    "  }\n",
    "  Diffs\n",
    "}\n",
    "bed2diffs_v2 <- function(Geno) {\n",
    "  nIndiv <- nrow(Geno)\n",
    "  nSites <- ncol(Geno)\n",
    "  Miss <- is.na(Geno)\n",
    "  ## Impute NAs with the column means (= twice the allele frequencies)\n",
    "  Mean <- matrix(colMeans(Geno, na.rm = TRUE), ## a row of means\n",
    "                 nrow = nIndiv, ncol = nSites, byrow = TRUE) ## a matrix with nIndiv identical rows of means\n",
    "  Mean[Miss == 0] <- 0 ## Set the means that correspond to observed genotypes to 0\n",
    "  Geno[Miss == 1] <- 0 ## Set the missing genotypes to 0 (used to be NA) \n",
    "  Geno <- Geno + Mean\n",
    "  ## Compute similarities\n",
    "  Sim <- Geno %*% t(Geno) / nSites\n",
    "  SelfSim <- diag(Sim) ## self-similarities\n",
    "  vector1s <- rep(1, nIndiv) ## vector of 1s\n",
    "  ## This chunk generates a `diffs` matrix\n",
    "  Diffs <- SelfSim %*% t(vector1s) + vector1s %*% t(SelfSim) - 2 * Sim\n",
    "  Diffs\n",
    "}"
   ]
  },
  {
   "cell_type": "markdown",
   "metadata": {},
   "source": [
    "Excluding Coos Bay, as we now know it is an anthropogenic migration event.\n",
    "### Maf 0.025 - All SNPs"
   ]
  },
  {
   "cell_type": "code",
   "execution_count": 9,
   "metadata": {},
   "outputs": [
    {
     "data": {
      "text/html": [
       "<ol class=list-inline>\n",
       "\t<li>111</li>\n",
       "\t<li>13191</li>\n",
       "</ol>\n"
      ],
      "text/latex": [
       "\\begin{enumerate*}\n",
       "\\item 111\n",
       "\\item 13191\n",
       "\\end{enumerate*}\n"
      ],
      "text/markdown": [
       "1. 111\n",
       "2. 13191\n",
       "\n",
       "\n"
      ],
      "text/plain": [
       "[1]   111 13191"
      ]
     },
     "metadata": {},
     "output_type": "display_data"
    }
   ],
   "source": [
    "gind.xOR <- stratted.filt[!(indNames(stratted.filt) %in% c(\"OR1-1-C6\",\"OR1-2-C5\",\"OR1-6-C3\",\"OR1-7-C6\",\"OR1-12-C8\",\"OR1-4-C5\")),drop=TRUE]\n",
    "\n",
    "suf <- \"OLxOR1-t10x45m75-maf025-neutI2-filt\"\n",
    "geno <- gind.xOR@tab\n",
    "stopifnot(identical(gind.xOR@type, 'codom'))\n",
    "# Get rid of non-biallelic loci\n",
    "multi.loci <- names(which(gind.xOR@loc.n.all != 2))\n",
    "multi.cols <- which(grepl(paste0(\"^\", multi.loci, \"\\\\.\\\\d+$\", collapse = \"|\"), colnames(geno)))\n",
    "if (length(multi.cols)) geno <- geno[, - multi.cols]\n",
    "nloci <- dim(geno)[2] / 2\n",
    "#Choose allele to be \"derived\" allele.\n",
    "geno <- geno[, c(seq(1,ncol(geno),by = 2))]\n",
    "\n",
    "dim(geno)"
   ]
  },
  {
   "cell_type": "code",
   "execution_count": 10,
   "metadata": {},
   "outputs": [],
   "source": [
    "# 111 inds, 13,191 loci\n",
    "#bed2diffs functions  \n",
    "diffs.v1 <- bed2diffs_v1(geno)\n",
    "diffs.v2 <- bed2diffs_v2(geno)\n",
    "diffs.v1 <- round(diffs.v1, digits = 6)\n",
    "diffs.v2 <- round(diffs.v2, digits = 6)"
   ]
  },
  {
   "cell_type": "markdown",
   "metadata": {},
   "source": [
    "Check that the dissimilarity matrix has one positive eigenvalue and nIndiv-1 negative eigenvalues, as required by a full-rank Euclidean distance matrix."
   ]
  },
  {
   "cell_type": "code",
   "execution_count": 11,
   "metadata": {},
   "outputs": [
    {
     "data": {
      "text/html": [
       "<ol class=list-inline>\n",
       "\t<li>-0.22</li>\n",
       "\t<li>-0.2</li>\n",
       "\t<li>-0.17</li>\n",
       "\t<li>-0.15</li>\n",
       "\t<li>-0.01</li>\n",
       "\t<li>57</li>\n",
       "</ol>\n"
      ],
      "text/latex": [
       "\\begin{enumerate*}\n",
       "\\item -0.22\n",
       "\\item -0.2\n",
       "\\item -0.17\n",
       "\\item -0.15\n",
       "\\item -0.01\n",
       "\\item 57\n",
       "\\end{enumerate*}\n"
      ],
      "text/markdown": [
       "1. -0.22\n",
       "2. -0.2\n",
       "3. -0.17\n",
       "4. -0.15\n",
       "5. -0.01\n",
       "6. 57\n",
       "\n",
       "\n"
      ],
      "text/plain": [
       "[1] -0.22 -0.20 -0.17 -0.15 -0.01 57.00"
      ]
     },
     "metadata": {},
     "output_type": "display_data"
    }
   ],
   "source": [
    "tail(sort(round(eigen(diffs.v1)$values, digits = 2)))"
   ]
  },
  {
   "cell_type": "code",
   "execution_count": 21,
   "metadata": {},
   "outputs": [
    {
     "data": {
      "text/html": [
       "<ol class=list-inline>\n",
       "\t<li>-0.18</li>\n",
       "\t<li>-0.17</li>\n",
       "\t<li>-0.17</li>\n",
       "\t<li>-0.17</li>\n",
       "\t<li>-0.04</li>\n",
       "\t<li>48.56</li>\n",
       "</ol>\n"
      ],
      "text/latex": [
       "\\begin{enumerate*}\n",
       "\\item -0.18\n",
       "\\item -0.17\n",
       "\\item -0.17\n",
       "\\item -0.17\n",
       "\\item -0.04\n",
       "\\item 48.56\n",
       "\\end{enumerate*}\n"
      ],
      "text/markdown": [
       "1. -0.18\n",
       "2. -0.17\n",
       "3. -0.17\n",
       "4. -0.17\n",
       "5. -0.04\n",
       "6. 48.56\n",
       "\n",
       "\n"
      ],
      "text/plain": [
       "[1] -0.18 -0.17 -0.17 -0.17 -0.04 48.56"
      ]
     },
     "metadata": {},
     "output_type": "display_data"
    }
   ],
   "source": [
    "tail(sort(round(eigen(diffs.v2)$values, digits = 2)))"
   ]
  },
  {
   "cell_type": "markdown",
   "metadata": {},
   "source": [
    "Write files for V1."
   ]
  },
  {
   "cell_type": "code",
   "execution_count": 12,
   "metadata": {},
   "outputs": [],
   "source": [
    "write.table(diffs.v1, paste(suf,\".v1.diffs\",sep=\"\"), \n",
    "            col.names = FALSE, row.names = FALSE, quote = FALSE)"
   ]
  },
  {
   "cell_type": "code",
   "execution_count": 13,
   "metadata": {},
   "outputs": [],
   "source": [
    "## Get gps coordinates.\n",
    "xOR.info <- dplyr::filter(info, !grepl(\"OR1\",INDIVIDUALS))\n",
    "gps_matrix <- matrix(,nrow = length(indNames(gind.xOR)),ncol=2)\n",
    "\n",
    "for(i in 1:nrow(xOR.info)){\n",
    "    j <- grep(gsub(\"_\",\"-\",xOR.info[i,1]),indNames(gind.xOR),value=FALSE)\n",
    "    gps_matrix[j,1] <-xOR.info$LONGITUDE[i]\n",
    "    gps_matrix[j,2] <-xOR.info$LATITUDE[i]\n",
    "}"
   ]
  },
  {
   "cell_type": "code",
   "execution_count": 14,
   "metadata": {},
   "outputs": [],
   "source": [
    "#write .coord file\n",
    "write.table(gps_matrix, paste(suf,\".v1.coord\",sep=\"\"),col.names = FALSE, row.names = FALSE,quote = FALSE)"
   ]
  },
  {
   "cell_type": "markdown",
   "metadata": {},
   "source": [
    "# Outlier"
   ]
  },
  {
   "cell_type": "markdown",
   "metadata": {},
   "source": [
    "Read in the .strata file and extract information such as region, latitude, and longitude. Region in my case was determined after running Structure analyses and exploring the data with PCA. For clarity, I show how to create the input files when region is already determined."
   ]
  },
  {
   "cell_type": "code",
   "execution_count": 20,
   "metadata": {},
   "outputs": [],
   "source": [
    "#set filename suffix\n",
    "filtsuf = \"OL-c85t10-x45m75-maf025-outI2Union\""
   ]
  },
  {
   "cell_type": "code",
   "execution_count": 21,
   "metadata": {},
   "outputs": [
    {
     "name": "stderr",
     "output_type": "stream",
     "text": [
      "VCF is biallelic\n"
     ]
    },
    {
     "name": "stdout",
     "output_type": "stream",
     "text": [
      "Reading 168 / 168 loci.\n",
      "Done.\n"
     ]
    },
    {
     "name": "stderr",
     "output_type": "stream",
     "text": [
      "    number of markers with REF/ALT change(s) = 0\n",
      "Using markers common in all populations:\n",
      "    Number of markers before/blacklisted/after:168/0/168\n",
      "Scanning for monomorphic markers...\n",
      "    Number of markers before/blacklisted/after: 168/0/168\n",
      "\n",
      "Tidy genomic data:\n",
      "    Number of common markers: 168\n",
      "    Number of chromosome/contig/scaffold: 97\n",
      "    Number of individuals: 117\n",
      "    Number of populations: 19\n",
      "\n",
      "Writing tidy data set:\n",
      "OL-c85t10-x45m75-maf025-outI2Union.rad\n"
     ]
    }
   ],
   "source": [
    "rad.filt <- vcf2genind(\"OL-c85-t10-x45m75-maf025-outI2Union.recode.vcf\",filename=filtsuf,\n",
    "                      common.markers = T, strata=\"../Making_Files/OL-c85-t10-x45.strata\", \n",
    "                      pop.levels = c(\"Klaskino_BC\",\"Barkeley_BC\",\"Ladysmith_BC\",\"Victoria_BC\",\"Discovery_WA\",\"Liberty_WA\",\"TritonCove_WA\",\"NorthBay_WA\",\"Willapa_WA\",\"Netarts_OR\",\"Yaquina_OR\",\"Coos_OR\",\"Humboldt_CA\",\"Tomales_CA\",\"NorthSanFran_CA\",\"SouthSanFran_CA\",\"Elkhorn_CA\",\"MuguLagoon_CA\",\"SanDiego_CA\"),\n",
    "                      parallel.core = 1)"
   ]
  },
  {
   "cell_type": "code",
   "execution_count": 22,
   "metadata": {},
   "outputs": [
    {
     "name": "stderr",
     "output_type": "stream",
     "text": [
      "VCF is biallelic\n"
     ]
    },
    {
     "name": "stdout",
     "output_type": "stream",
     "text": [
      "Reading 97 / 97 loci.\n",
      "Done.\n"
     ]
    },
    {
     "name": "stderr",
     "output_type": "stream",
     "text": [
      "    number of markers with REF/ALT change(s) = 0\n",
      "Using markers common in all populations:\n",
      "    Number of markers before/blacklisted/after:97/0/97\n",
      "Scanning for monomorphic markers...\n",
      "    Number of markers before/blacklisted/after: 97/0/97\n",
      "\n",
      "Tidy genomic data:\n",
      "    Number of common markers: 97\n",
      "    Number of chromosome/contig/scaffold: 97\n",
      "    Number of individuals: 117\n",
      "    Number of populations: 19\n",
      "\n",
      "Writing tidy data set:\n",
      "OL-c85t10-x45m75-maf025-outI2Union-u.rad\n"
     ]
    }
   ],
   "source": [
    "rad.u <- vcf2genind(\"OL-c85t10-x45m75-maf025-outI2Union-u.vcf\",filename=paste0(filtsuf,\"-u\"),\n",
    "                      common.markers = T, strata=\"../Making_Files/OL-c85-t10-x45.strata\", \n",
    "                      pop.levels = c(\"Klaskino_BC\",\"Barkeley_BC\",\"Ladysmith_BC\",\"Victoria_BC\",\"Discovery_WA\",\"Liberty_WA\",\"TritonCove_WA\",\"NorthBay_WA\",\"Willapa_WA\",\"Netarts_OR\",\"Yaquina_OR\",\"Coos_OR\",\"Humboldt_CA\",\"Tomales_CA\",\"NorthSanFran_CA\",\"SouthSanFran_CA\",\"Elkhorn_CA\",\"MuguLagoon_CA\",\"SanDiego_CA\"),\n",
    "                      parallel.core = 1)"
   ]
  },
  {
   "cell_type": "markdown",
   "metadata": {},
   "source": [
    "Read in the .strata file and extract information such as region, latitude, and longitude. Region in my case was determined after running Structure analyses and exploring the data with PCA. For clarity, I show how to create the input files when region is already determined."
   ]
  },
  {
   "cell_type": "code",
   "execution_count": 23,
   "metadata": {},
   "outputs": [],
   "source": [
    "info <- as.data.frame(read.table(\"../Making_Files/OL-c85-t10-x45.strata\",header = T,sep = \"\\t\",stringsAsFactors = F))\n",
    "\n",
    "mystrats <- as.data.frame(matrix(,nrow = length(indNames(rad.filt$genind.no.imputation)),ncol=5))\n",
    "colnames(mystrats) <- c(\"POPULATION\",\"LOCATION\",\"REGION\",\"LATITUDE\",\"LONGITUDE\")\n",
    "\n",
    "for(i in 1:nrow(info)){\n",
    "    j <- grep(gsub(\"_\",\"-\",info[i,1]),indNames(rad.filt$genind.no.imputation),value=FALSE)\n",
    "    mystrats[j,1] <-info$STRATA[i] \n",
    "    mystrats[j,2] <-info$LOCATION[i] \n",
    "    mystrats[j,3] <-info$REGION[i]\n",
    "    mystrats[j,4] <-info$LATITUDE[i]\n",
    "    mystrats[j,5] <-info$LONGITUDE[i]\n",
    "}\n",
    "just.strats <- select(mystrats,c(\"POPULATION\",\"LOCATION\",\"REGION\"))\n",
    "stratted.filt <- strata(rad.filt$genind.no.imputation, formula= REGION/POPULATION/LOCATION, combine = TRUE,just.strats)\n",
    "stratted.filt@other <- select(mystrats, LATITUDE,LONGITUDE)\n"
   ]
  },
  {
   "cell_type": "code",
   "execution_count": 24,
   "metadata": {},
   "outputs": [],
   "source": [
    "save(stratted.filt, file=paste(filtsuf,\"-filt.genind\",sep=\"\"))"
   ]
  },
  {
   "cell_type": "code",
   "execution_count": 25,
   "metadata": {},
   "outputs": [],
   "source": [
    "stratted.u <- strata(rad.u$genind.no.imputation, formula= REGION/POPULATION/LOCATION, combine = TRUE,just.strats)\n",
    "stratted.u@other <- select(mystrats, LATITUDE,LONGITUDE)\n",
    "save(stratted.u, file=paste(filtsuf,\"-u.genind\",sep=\"\"))"
   ]
  },
  {
   "cell_type": "markdown",
   "metadata": {},
   "source": [
    "## Make hierfstat \n",
    "(because hierfstat will not accept this genind format). Make it for unlinked and all loci."
   ]
  },
  {
   "cell_type": "code",
   "execution_count": 8,
   "metadata": {},
   "outputs": [
    {
     "name": "stderr",
     "output_type": "stream",
     "text": [
      "VCF is biallelic\n"
     ]
    },
    {
     "name": "stdout",
     "output_type": "stream",
     "text": [
      "Reading 168 / 168 loci.\n",
      "Done.\n"
     ]
    },
    {
     "name": "stderr",
     "output_type": "stream",
     "text": [
      "    number of markers with REF/ALT change(s) = 0\n",
      "Using markers common in all populations:\n",
      "    Number of markers before/blacklisted/after:168/0/168\n",
      "Scanning for monomorphic markers...\n",
      "    Number of markers before/blacklisted/after: 168/0/168\n",
      "\n",
      "Tidy genomic data:\n",
      "    Number of common markers: 168\n",
      "    Number of chromosome/contig/scaffold: 97\n",
      "    Number of individuals: 117\n",
      "    Number of populations: 19\n",
      "    * Number of sample pop, np = 19\n",
      "    * Number of markers, nl = 168\n",
      "    * The highest number used to label an allele, nu = 4\n",
      "    * The alleles are encoded with one digit number\n",
      "\n",
      "Writing tidy data set:\n",
      "OL-c85t10-x45m75-maf025-outI2Union-filt.rad\n"
     ]
    }
   ],
   "source": [
    "hf.filt <- vcf2hierfstat(\"OL-c85-t10-x45m75-maf025-outI2Union.recode.vcf\",filename=paste0(filtsuf,\"-filt\"),\n",
    "                      common.markers = T, strata=\"../Making_Files/OL-c85-t10-x45.strata\", \n",
    "                      pop.levels = c(\"Klaskino_BC\",\"Barkeley_BC\",\"Ladysmith_BC\",\"Victoria_BC\",\"Discovery_WA\",\"Liberty_WA\",\"TritonCove_WA\",\"NorthBay_WA\",\"Willapa_WA\",\"Netarts_OR\",\"Yaquina_OR\",\"Coos_OR\",\"Humboldt_CA\",\"Tomales_CA\",\"NorthSanFran_CA\",\"SouthSanFran_CA\",\"Elkhorn_CA\",\"MuguLagoon_CA\",\"SanDiego_CA\"),\n",
    "                      parallel.core = 1)"
   ]
  },
  {
   "cell_type": "code",
   "execution_count": 9,
   "metadata": {},
   "outputs": [],
   "source": [
    "hf.filt <- hf.filt$hierfstat.no.imputation"
   ]
  },
  {
   "cell_type": "code",
   "execution_count": 10,
   "metadata": {},
   "outputs": [],
   "source": [
    "save(hf.filt, file=paste0(filtsuf,\"-filt.hf\"))"
   ]
  },
  {
   "cell_type": "markdown",
   "metadata": {},
   "source": [
    "### Make input for Structure"
   ]
  },
  {
   "cell_type": "code",
   "execution_count": 11,
   "metadata": {},
   "outputs": [],
   "source": [
    "#Use the previously created tidy datasets from radiator\n",
    "write_structure(rad.filt$tidy.data, filename=paste0(filtsuf,\"-filt\"))"
   ]
  },
  {
   "cell_type": "markdown",
   "metadata": {},
   "source": [
    "### Make input for Treemix\n",
    "Use only the unlinked dataset. Uses a python script I wrote to convert a genpop object to Treemix input."
   ]
  },
  {
   "cell_type": "code",
   "execution_count": 12,
   "metadata": {},
   "outputs": [
    {
     "name": "stdout",
     "output_type": "stream",
     "text": [
      "\n",
      " Converting data from a genind to a genpop object... \n",
      "\n",
      "...done.\n",
      "\n"
     ]
    }
   ],
   "source": [
    "gp <- genind2genpop(stratted.filt,pop=strata(stratted.filt)$POPULATION)\n",
    "write.table(gp$tab, file=paste0(filtsuf,\"-u.gp\"),sep = \"\\t\",row.names = T,col.names = T,quote = F )\n",
    "system('python ../../Methods/Scripts/genpop2Treemix.py OL-c85t10-x45m75-maf025-outI2-u.gp OL-c85t10-x45m75-maf025-outI2-u.pop.TM')\n",
    "system('gzip OL-c85t10-x45m75-maf025-outI2-u.pop.TM')"
   ]
  },
  {
   "cell_type": "markdown",
   "metadata": {},
   "source": [
    "## Make EEMS input file "
   ]
  },
  {
   "cell_type": "markdown",
   "metadata": {},
   "source": [
    "Code to calculate the .diffs matrix for EEMS, from EEMS github."
   ]
  },
  {
   "cell_type": "code",
   "execution_count": 17,
   "metadata": {},
   "outputs": [],
   "source": [
    "bed2diffs_v1 <- function(Geno) {\n",
    "  nIndiv <- nrow(Geno)\n",
    "  nSites <- ncol(Geno)\n",
    "  Diffs <- matrix(0, nIndiv, nIndiv)\n",
    "  \n",
    "  for (i in seq(nIndiv - 1)) {\n",
    "    for (j in seq(i + 1, nIndiv)) {\n",
    "      x <- Geno[i, ]\n",
    "      y <- Geno[j, ]\n",
    "      Diffs[i, j] <- mean((x - y)^2, na.rm = TRUE)\n",
    "      Diffs[j, i] <- Diffs[i, j]\n",
    "    }\n",
    "  }\n",
    "  Diffs\n",
    "}\n",
    "bed2diffs_v2 <- function(Geno) {\n",
    "  nIndiv <- nrow(Geno)\n",
    "  nSites <- ncol(Geno)\n",
    "  Miss <- is.na(Geno)\n",
    "  ## Impute NAs with the column means (= twice the allele frequencies)\n",
    "  Mean <- matrix(colMeans(Geno, na.rm = TRUE), ## a row of means\n",
    "                 nrow = nIndiv, ncol = nSites, byrow = TRUE) ## a matrix with nIndiv identical rows of means\n",
    "  Mean[Miss == 0] <- 0 ## Set the means that correspond to observed genotypes to 0\n",
    "  Geno[Miss == 1] <- 0 ## Set the missing genotypes to 0 (used to be NA) \n",
    "  Geno <- Geno + Mean\n",
    "  ## Compute similarities\n",
    "  Sim <- Geno %*% t(Geno) / nSites\n",
    "  SelfSim <- diag(Sim) ## self-similarities\n",
    "  vector1s <- rep(1, nIndiv) ## vector of 1s\n",
    "  ## This chunk generates a `diffs` matrix\n",
    "  Diffs <- SelfSim %*% t(vector1s) + vector1s %*% t(SelfSim) - 2 * Sim\n",
    "  Diffs\n",
    "}"
   ]
  },
  {
   "cell_type": "markdown",
   "metadata": {},
   "source": [
    "Excluding Coos Bay, as we now know it is an anthropogenic migration event.\n",
    "### Maf 0.025 - All SNPs"
   ]
  },
  {
   "cell_type": "code",
   "execution_count": 18,
   "metadata": {},
   "outputs": [
    {
     "data": {
      "text/html": [
       "<ol class=list-inline>\n",
       "\t<li>111</li>\n",
       "\t<li>13191</li>\n",
       "</ol>\n"
      ],
      "text/latex": [
       "\\begin{enumerate*}\n",
       "\\item 111\n",
       "\\item 13191\n",
       "\\end{enumerate*}\n"
      ],
      "text/markdown": [
       "1. 111\n",
       "2. 13191\n",
       "\n",
       "\n"
      ],
      "text/plain": [
       "[1]   111 13191"
      ]
     },
     "metadata": {},
     "output_type": "display_data"
    }
   ],
   "source": [
    "gind.xOR <- stratted.filt[!(indNames(stratted.filt) %in% c(\"OR1-1-C6\",\"OR1-2-C5\",\"OR1-6-C3\",\"OR1-7-C6\",\"OR1-12-C8\",\"OR1-4-C5\")),drop=TRUE]\n",
    "\n",
    "suf <- \"OL-xOR1-t10x45m75-maf025-neutI2-filt\"\n",
    "geno <- gind.xOR@tab\n",
    "stopifnot(identical(gind.xOR@type, 'codom'))\n",
    "# Get rid of non-biallelic loci\n",
    "multi.loci <- names(which(gind.xOR@loc.n.all != 2))\n",
    "multi.cols <- which(grepl(paste0(\"^\", multi.loci, \"\\\\.\\\\d+$\", collapse = \"|\"), colnames(geno)))\n",
    "if (length(multi.cols)) geno <- geno[, - multi.cols]\n",
    "nloci <- dim(geno)[2] / 2\n",
    "#Choose allele to be \"derived\" allele.\n",
    "geno <- geno[, c(seq(1,ncol(geno),by = 2))]\n",
    "\n",
    "dim(geno)"
   ]
  },
  {
   "cell_type": "code",
   "execution_count": 19,
   "metadata": {},
   "outputs": [],
   "source": [
    "# 111 inds, 13,191 loci\n",
    "#bed2diffs functions  \n",
    "diffs.v1 <- bed2diffs_v1(geno)\n",
    "diffs.v2 <- bed2diffs_v2(geno)\n",
    "diffs.v1 <- round(diffs.v1, digits = 6)\n",
    "diffs.v2 <- round(diffs.v2, digits = 6)"
   ]
  },
  {
   "cell_type": "markdown",
   "metadata": {},
   "source": [
    "Check that the dissimilarity matrix has one positive eigenvalue and nIndiv-1 negative eigenvalues, as required by a full-rank Euclidean distance matrix."
   ]
  },
  {
   "cell_type": "code",
   "execution_count": 20,
   "metadata": {},
   "outputs": [
    {
     "data": {
      "text/html": [
       "<ol class=list-inline>\n",
       "\t<li>-0.22</li>\n",
       "\t<li>-0.2</li>\n",
       "\t<li>-0.17</li>\n",
       "\t<li>-0.15</li>\n",
       "\t<li>-0.01</li>\n",
       "\t<li>57</li>\n",
       "</ol>\n"
      ],
      "text/latex": [
       "\\begin{enumerate*}\n",
       "\\item -0.22\n",
       "\\item -0.2\n",
       "\\item -0.17\n",
       "\\item -0.15\n",
       "\\item -0.01\n",
       "\\item 57\n",
       "\\end{enumerate*}\n"
      ],
      "text/markdown": [
       "1. -0.22\n",
       "2. -0.2\n",
       "3. -0.17\n",
       "4. -0.15\n",
       "5. -0.01\n",
       "6. 57\n",
       "\n",
       "\n"
      ],
      "text/plain": [
       "[1] -0.22 -0.20 -0.17 -0.15 -0.01 57.00"
      ]
     },
     "metadata": {},
     "output_type": "display_data"
    }
   ],
   "source": [
    "tail(sort(round(eigen(diffs.v1)$values, digits = 2)))"
   ]
  },
  {
   "cell_type": "code",
   "execution_count": 21,
   "metadata": {},
   "outputs": [
    {
     "data": {
      "text/html": [
       "<ol class=list-inline>\n",
       "\t<li>-0.18</li>\n",
       "\t<li>-0.17</li>\n",
       "\t<li>-0.17</li>\n",
       "\t<li>-0.17</li>\n",
       "\t<li>-0.04</li>\n",
       "\t<li>48.56</li>\n",
       "</ol>\n"
      ],
      "text/latex": [
       "\\begin{enumerate*}\n",
       "\\item -0.18\n",
       "\\item -0.17\n",
       "\\item -0.17\n",
       "\\item -0.17\n",
       "\\item -0.04\n",
       "\\item 48.56\n",
       "\\end{enumerate*}\n"
      ],
      "text/markdown": [
       "1. -0.18\n",
       "2. -0.17\n",
       "3. -0.17\n",
       "4. -0.17\n",
       "5. -0.04\n",
       "6. 48.56\n",
       "\n",
       "\n"
      ],
      "text/plain": [
       "[1] -0.18 -0.17 -0.17 -0.17 -0.04 48.56"
      ]
     },
     "metadata": {},
     "output_type": "display_data"
    }
   ],
   "source": [
    "tail(sort(round(eigen(diffs.v2)$values, digits = 2)))"
   ]
  },
  {
   "cell_type": "markdown",
   "metadata": {},
   "source": [
    "Write files for V1."
   ]
  },
  {
   "cell_type": "code",
   "execution_count": 22,
   "metadata": {},
   "outputs": [],
   "source": [
    "write.table(diffs.v1, paste(suf,\".v1.diffs\",sep=\"\"), \n",
    "            col.names = FALSE, row.names = FALSE, quote = FALSE)"
   ]
  },
  {
   "cell_type": "code",
   "execution_count": 23,
   "metadata": {},
   "outputs": [],
   "source": [
    "## Get gps coordinates.\n",
    "xOR.info <- dplyr::filter(info, !grepl(\"OR1\",INDIVIDUALS))\n",
    "gps_matrix <- matrix(,nrow = length(indNames(gind.xOR)),ncol=2)\n",
    "\n",
    "for(i in 1:nrow(xOR.info)){\n",
    "    j <- grep(gsub(\"_\",\"-\",xOR.info[i,1]),indNames(gind.xOR),value=FALSE)\n",
    "    gps_matrix[j,1] <-xOR.info$LONGITUDE[i]\n",
    "    gps_matrix[j,2] <-xOR.info$LATITUDE[i]\n",
    "}"
   ]
  },
  {
   "cell_type": "code",
   "execution_count": 24,
   "metadata": {},
   "outputs": [],
   "source": [
    "#write .coord file\n",
    "write.table(gps_matrix, paste(suf,\".v1.coord\",sep=\"\"),col.names = FALSE, row.names = FALSE,quote = FALSE)"
   ]
  },
  {
   "cell_type": "markdown",
   "metadata": {},
   "source": [
    "## Plot EEMS Results\n",
    "Do after you have run EEMS."
   ]
  },
  {
   "cell_type": "code",
   "execution_count": 1,
   "metadata": {},
   "outputs": [
    {
     "name": "stderr",
     "output_type": "stream",
     "text": [
      "Loading required package: sp\n",
      "rgdal: version: 1.2-18, (SVN revision 718)\n",
      " Geospatial Data Abstraction Library extensions to R successfully loaded\n",
      " Loaded GDAL runtime: GDAL 1.11.3, released 2015/09/16\n",
      " Path to GDAL shared files: /usr/share/gdal/1.11\n",
      " GDAL binary built with GEOS: TRUE \n",
      " Loaded PROJ.4 runtime: Rel. 4.9.2, 08 September 2015, [PJ_VERSION: 492]\n",
      " Path to PROJ.4 shared files: (autodetected)\n",
      " Linking to sp version: 1.2-7 \n",
      "### Welcome to rworldmap ###\n",
      "For a short introduction type : \t vignette('rworldmap')\n"
     ]
    }
   ],
   "source": [
    "library(rEEMSplots) #Get from EEMS github\n",
    "library(rgdal)\n",
    "library(rworldmap)\n",
    "library(rworldxtra)"
   ]
  },
  {
   "cell_type": "markdown",
   "metadata": {},
   "source": [
    "#### Maf 0.025"
   ]
  },
  {
   "cell_type": "markdown",
   "metadata": {},
   "source": [
    "Make a list of all EEMS directories to plot all the results into 1 plot:"
   ]
  },
  {
   "cell_type": "code",
   "execution_count": 5,
   "metadata": {},
   "outputs": [],
   "source": [
    "path = \"../EEMS/OLxOR1-x45m75-maf025-filt_results/\"\n",
    "suf = \"OLxOR1-x45m75-maf025-filt-SkI\"\n",
    "dirs = c(paste0(path,suf,\"-nD200-ch1\"),paste0(path,suf,\"-nD200-ch2\"),paste0(path,suf,\"-nD200-ch3\"),\n",
    "         paste0(path,suf,\"-nD250-ch1\"),paste0(path,suf,\"-nD250-ch2\"),paste0(path,suf,\"-nD250-ch3\"),\n",
    "         paste0(path,suf,\"-nD300-ch1\"),paste0(path,suf,\"-nD300-ch2\"),paste0(path,suf,\"-nD300-ch3\"),\n",
    "         paste0(path,suf,\"-nD350-ch1\"),paste0(path,suf,\"-nD350-ch2\"),paste0(path,suf,\"-nD350-ch3\"),\n",
    "         paste0(path,suf,\"-nD400-ch1\"),paste0(path,suf,\"-nD400-ch2\"),paste0(path,suf,\"-nD400-ch3\"),\n",
    "         paste0(path,suf,\"-nD500-ch1\"),paste0(path,suf,\"-nD500-ch2\"),paste0(path,suf,\"-nD500-ch3\"),\n",
    "        paste0(path,suf,\"-nD600-ch1\"),paste0(path,suf,\"-nD600-ch2\"),paste0(path,suf,\"-nD600-ch3\"),\n",
    "         paste0(path,suf,\"-nD700-ch1\"),paste0(path,suf,\"-nD700-ch2\"),paste0(path,suf,\"-nD700-ch3\"))"
   ]
  },
  {
   "cell_type": "code",
   "execution_count": 7,
   "metadata": {},
   "outputs": [
    {
     "name": "stderr",
     "output_type": "stream",
     "text": [
      "Input projection: +proj=longlat +datum=WGS84\n",
      "Output projection: +proj=merc +datum=WGS84\n",
      "\n",
      "\n",
      "\n",
      "Loading rgdal (required by projection.in)\n",
      "Loading rworldmap (required by add.map)\n",
      "Loading rworldxtra (required by add.map)\n",
      "Using the default DarkOrange to Blue color scheme, with 'white' as the midpoint color.\n",
      "It combines two color schemes from the 'dichromat' package, which itself is based on\n",
      "a collection of color schemes for scientific data graphics:\n",
      "\tLight A and Bartlein PJ (2004). The End of the Rainbow? Color Schemes for Improved Data\n",
      "\tGraphics. EOS Transactions of the American Geophysical Union, 85(40), 385.\n",
      "See also http://geog.uoregon.edu/datagraphics/color_scales.htm\n",
      "\n",
      "\n",
      "\n",
      "Using 'euclidean' distance to assign interpolation points to Voronoi tiles.\n",
      "\n",
      "\n",
      "\n",
      "Processing the following EEMS output directories :\n",
      "../EEMS/OLxOR1-x45m75-maf025-filt_results/OLxOR1-x45m75-maf025-filt-SkI-nD200-ch1../EEMS/OLxOR1-x45m75-maf025-filt_results/OLxOR1-x45m75-maf025-filt-SkI-nD200-ch2../EEMS/OLxOR1-x45m75-maf025-filt_results/OLxOR1-x45m75-maf025-filt-SkI-nD200-ch3../EEMS/OLxOR1-x45m75-maf025-filt_results/OLxOR1-x45m75-maf025-filt-SkI-nD250-ch1../EEMS/OLxOR1-x45m75-maf025-filt_results/OLxOR1-x45m75-maf025-filt-SkI-nD250-ch2../EEMS/OLxOR1-x45m75-maf025-filt_results/OLxOR1-x45m75-maf025-filt-SkI-nD250-ch3../EEMS/OLxOR1-x45m75-maf025-filt_results/OLxOR1-x45m75-maf025-filt-SkI-nD300-ch1../EEMS/OLxOR1-x45m75-maf025-filt_results/OLxOR1-x45m75-maf025-filt-SkI-nD300-ch2../EEMS/OLxOR1-x45m75-maf025-filt_results/OLxOR1-x45m75-maf025-filt-SkI-nD300-ch3../EEMS/OLxOR1-x45m75-maf025-filt_results/OLxOR1-x45m75-maf025-filt-SkI-nD350-ch1../EEMS/OLxOR1-x45m75-maf025-filt_results/OLxOR1-x45m75-maf025-filt-SkI-nD350-ch2../EEMS/OLxOR1-x45m75-maf025-filt_results/OLxOR1-x45m75-maf025-filt-SkI-nD350-ch3../EEMS/OLxOR1-x45m75-maf025-filt_results/OLxOR1-x45m75-maf025-filt-SkI-nD400-ch1../EEMS/OLxOR1-x45m75-maf025-filt_results/OLxOR1-x45m75-maf025-filt-SkI-nD400-ch2../EEMS/OLxOR1-x45m75-maf025-filt_results/OLxOR1-x45m75-maf025-filt-SkI-nD400-ch3../EEMS/OLxOR1-x45m75-maf025-filt_results/OLxOR1-x45m75-maf025-filt-SkI-nD500-ch1../EEMS/OLxOR1-x45m75-maf025-filt_results/OLxOR1-x45m75-maf025-filt-SkI-nD500-ch2../EEMS/OLxOR1-x45m75-maf025-filt_results/OLxOR1-x45m75-maf025-filt-SkI-nD500-ch3../EEMS/OLxOR1-x45m75-maf025-filt_results/OLxOR1-x45m75-maf025-filt-SkI-nD600-ch1../EEMS/OLxOR1-x45m75-maf025-filt_results/OLxOR1-x45m75-maf025-filt-SkI-nD600-ch2../EEMS/OLxOR1-x45m75-maf025-filt_results/OLxOR1-x45m75-maf025-filt-SkI-nD600-ch3../EEMS/OLxOR1-x45m75-maf025-filt_results/OLxOR1-x45m75-maf025-filt-SkI-nD700-ch1../EEMS/OLxOR1-x45m75-maf025-filt_results/OLxOR1-x45m75-maf025-filt-SkI-nD700-ch2../EEMS/OLxOR1-x45m75-maf025-filt_results/OLxOR1-x45m75-maf025-filt-SkI-nD700-ch3\n",
      "Plotting effective migration surface (posterior mean of m rates)\n",
      "../EEMS/OLxOR1-x45m75-maf025-filt_results/OLxOR1-x45m75-maf025-filt-SkI-nD200-ch1\n",
      "../EEMS/OLxOR1-x45m75-maf025-filt_results/OLxOR1-x45m75-maf025-filt-SkI-nD200-ch2\n",
      "../EEMS/OLxOR1-x45m75-maf025-filt_results/OLxOR1-x45m75-maf025-filt-SkI-nD200-ch3\n",
      "../EEMS/OLxOR1-x45m75-maf025-filt_results/OLxOR1-x45m75-maf025-filt-SkI-nD250-ch1\n",
      "../EEMS/OLxOR1-x45m75-maf025-filt_results/OLxOR1-x45m75-maf025-filt-SkI-nD250-ch2\n",
      "../EEMS/OLxOR1-x45m75-maf025-filt_results/OLxOR1-x45m75-maf025-filt-SkI-nD250-ch3\n",
      "../EEMS/OLxOR1-x45m75-maf025-filt_results/OLxOR1-x45m75-maf025-filt-SkI-nD300-ch1\n",
      "../EEMS/OLxOR1-x45m75-maf025-filt_results/OLxOR1-x45m75-maf025-filt-SkI-nD300-ch2\n",
      "../EEMS/OLxOR1-x45m75-maf025-filt_results/OLxOR1-x45m75-maf025-filt-SkI-nD300-ch3\n",
      "../EEMS/OLxOR1-x45m75-maf025-filt_results/OLxOR1-x45m75-maf025-filt-SkI-nD350-ch1\n",
      "../EEMS/OLxOR1-x45m75-maf025-filt_results/OLxOR1-x45m75-maf025-filt-SkI-nD350-ch2\n",
      "../EEMS/OLxOR1-x45m75-maf025-filt_results/OLxOR1-x45m75-maf025-filt-SkI-nD350-ch3\n",
      "../EEMS/OLxOR1-x45m75-maf025-filt_results/OLxOR1-x45m75-maf025-filt-SkI-nD400-ch1\n",
      "../EEMS/OLxOR1-x45m75-maf025-filt_results/OLxOR1-x45m75-maf025-filt-SkI-nD400-ch2\n",
      "../EEMS/OLxOR1-x45m75-maf025-filt_results/OLxOR1-x45m75-maf025-filt-SkI-nD400-ch3\n",
      "../EEMS/OLxOR1-x45m75-maf025-filt_results/OLxOR1-x45m75-maf025-filt-SkI-nD500-ch1\n",
      "../EEMS/OLxOR1-x45m75-maf025-filt_results/OLxOR1-x45m75-maf025-filt-SkI-nD500-ch2\n",
      "../EEMS/OLxOR1-x45m75-maf025-filt_results/OLxOR1-x45m75-maf025-filt-SkI-nD500-ch3\n",
      "../EEMS/OLxOR1-x45m75-maf025-filt_results/OLxOR1-x45m75-maf025-filt-SkI-nD600-ch1\n",
      "../EEMS/OLxOR1-x45m75-maf025-filt_results/OLxOR1-x45m75-maf025-filt-SkI-nD600-ch2\n",
      "../EEMS/OLxOR1-x45m75-maf025-filt_results/OLxOR1-x45m75-maf025-filt-SkI-nD600-ch3\n",
      "../EEMS/OLxOR1-x45m75-maf025-filt_results/OLxOR1-x45m75-maf025-filt-SkI-nD700-ch1\n",
      "../EEMS/OLxOR1-x45m75-maf025-filt_results/OLxOR1-x45m75-maf025-filt-SkI-nD700-ch2\n",
      "../EEMS/OLxOR1-x45m75-maf025-filt_results/OLxOR1-x45m75-maf025-filt-SkI-nD700-ch3\n",
      "Using the default DarkOrange to Blue color scheme, with 'white' as the midpoint color.\n",
      "It combines two color schemes from the 'dichromat' package, which itself is based on\n",
      "a collection of color schemes for scientific data graphics:\n",
      "\tLight A and Bartlein PJ (2004). The End of the Rainbow? Color Schemes for Improved Data\n",
      "\tGraphics. EOS Transactions of the American Geophysical Union, 85(40), 385.\n",
      "See also http://geog.uoregon.edu/datagraphics/color_scales.htm\n",
      "\n",
      "\n",
      "\n",
      "Plotting effective diversity surface (posterior mean of q rates)\n",
      "../EEMS/OLxOR1-x45m75-maf025-filt_results/OLxOR1-x45m75-maf025-filt-SkI-nD200-ch1\n",
      "../EEMS/OLxOR1-x45m75-maf025-filt_results/OLxOR1-x45m75-maf025-filt-SkI-nD200-ch2\n",
      "../EEMS/OLxOR1-x45m75-maf025-filt_results/OLxOR1-x45m75-maf025-filt-SkI-nD200-ch3\n",
      "../EEMS/OLxOR1-x45m75-maf025-filt_results/OLxOR1-x45m75-maf025-filt-SkI-nD250-ch1\n",
      "../EEMS/OLxOR1-x45m75-maf025-filt_results/OLxOR1-x45m75-maf025-filt-SkI-nD250-ch2\n",
      "../EEMS/OLxOR1-x45m75-maf025-filt_results/OLxOR1-x45m75-maf025-filt-SkI-nD250-ch3\n",
      "../EEMS/OLxOR1-x45m75-maf025-filt_results/OLxOR1-x45m75-maf025-filt-SkI-nD300-ch1\n",
      "../EEMS/OLxOR1-x45m75-maf025-filt_results/OLxOR1-x45m75-maf025-filt-SkI-nD300-ch2\n",
      "../EEMS/OLxOR1-x45m75-maf025-filt_results/OLxOR1-x45m75-maf025-filt-SkI-nD300-ch3\n",
      "../EEMS/OLxOR1-x45m75-maf025-filt_results/OLxOR1-x45m75-maf025-filt-SkI-nD350-ch1\n",
      "../EEMS/OLxOR1-x45m75-maf025-filt_results/OLxOR1-x45m75-maf025-filt-SkI-nD350-ch2\n",
      "../EEMS/OLxOR1-x45m75-maf025-filt_results/OLxOR1-x45m75-maf025-filt-SkI-nD350-ch3\n",
      "../EEMS/OLxOR1-x45m75-maf025-filt_results/OLxOR1-x45m75-maf025-filt-SkI-nD400-ch1\n",
      "../EEMS/OLxOR1-x45m75-maf025-filt_results/OLxOR1-x45m75-maf025-filt-SkI-nD400-ch2\n",
      "../EEMS/OLxOR1-x45m75-maf025-filt_results/OLxOR1-x45m75-maf025-filt-SkI-nD400-ch3\n",
      "../EEMS/OLxOR1-x45m75-maf025-filt_results/OLxOR1-x45m75-maf025-filt-SkI-nD500-ch1\n",
      "../EEMS/OLxOR1-x45m75-maf025-filt_results/OLxOR1-x45m75-maf025-filt-SkI-nD500-ch2\n",
      "../EEMS/OLxOR1-x45m75-maf025-filt_results/OLxOR1-x45m75-maf025-filt-SkI-nD500-ch3\n",
      "../EEMS/OLxOR1-x45m75-maf025-filt_results/OLxOR1-x45m75-maf025-filt-SkI-nD600-ch1\n",
      "../EEMS/OLxOR1-x45m75-maf025-filt_results/OLxOR1-x45m75-maf025-filt-SkI-nD600-ch2\n",
      "../EEMS/OLxOR1-x45m75-maf025-filt_results/OLxOR1-x45m75-maf025-filt-SkI-nD600-ch3\n",
      "../EEMS/OLxOR1-x45m75-maf025-filt_results/OLxOR1-x45m75-maf025-filt-SkI-nD700-ch1\n",
      "../EEMS/OLxOR1-x45m75-maf025-filt_results/OLxOR1-x45m75-maf025-filt-SkI-nD700-ch2\n",
      "../EEMS/OLxOR1-x45m75-maf025-filt_results/OLxOR1-x45m75-maf025-filt-SkI-nD700-ch3\n",
      "Using the default DarkOrange to Blue color scheme, with 'white' as the midpoint color.\n",
      "It combines two color schemes from the 'dichromat' package, which itself is based on\n",
      "a collection of color schemes for scientific data graphics:\n",
      "\tLight A and Bartlein PJ (2004). The End of the Rainbow? Color Schemes for Improved Data\n",
      "\tGraphics. EOS Transactions of the American Geophysical Union, 85(40), 385.\n",
      "See also http://geog.uoregon.edu/datagraphics/color_scales.htm\n",
      "\n",
      "\n",
      "\n",
      "Plotting posterior probability trace\n",
      "../EEMS/OLxOR1-x45m75-maf025-filt_results/OLxOR1-x45m75-maf025-filt-SkI-nD200-ch1\n",
      "../EEMS/OLxOR1-x45m75-maf025-filt_results/OLxOR1-x45m75-maf025-filt-SkI-nD200-ch2\n",
      "../EEMS/OLxOR1-x45m75-maf025-filt_results/OLxOR1-x45m75-maf025-filt-SkI-nD200-ch3\n",
      "../EEMS/OLxOR1-x45m75-maf025-filt_results/OLxOR1-x45m75-maf025-filt-SkI-nD250-ch1\n",
      "../EEMS/OLxOR1-x45m75-maf025-filt_results/OLxOR1-x45m75-maf025-filt-SkI-nD250-ch2\n",
      "../EEMS/OLxOR1-x45m75-maf025-filt_results/OLxOR1-x45m75-maf025-filt-SkI-nD250-ch3\n",
      "../EEMS/OLxOR1-x45m75-maf025-filt_results/OLxOR1-x45m75-maf025-filt-SkI-nD300-ch1\n",
      "../EEMS/OLxOR1-x45m75-maf025-filt_results/OLxOR1-x45m75-maf025-filt-SkI-nD300-ch2\n",
      "../EEMS/OLxOR1-x45m75-maf025-filt_results/OLxOR1-x45m75-maf025-filt-SkI-nD300-ch3\n",
      "../EEMS/OLxOR1-x45m75-maf025-filt_results/OLxOR1-x45m75-maf025-filt-SkI-nD350-ch1\n",
      "../EEMS/OLxOR1-x45m75-maf025-filt_results/OLxOR1-x45m75-maf025-filt-SkI-nD350-ch2\n",
      "../EEMS/OLxOR1-x45m75-maf025-filt_results/OLxOR1-x45m75-maf025-filt-SkI-nD350-ch3\n",
      "../EEMS/OLxOR1-x45m75-maf025-filt_results/OLxOR1-x45m75-maf025-filt-SkI-nD400-ch1\n",
      "../EEMS/OLxOR1-x45m75-maf025-filt_results/OLxOR1-x45m75-maf025-filt-SkI-nD400-ch2\n",
      "../EEMS/OLxOR1-x45m75-maf025-filt_results/OLxOR1-x45m75-maf025-filt-SkI-nD400-ch3\n",
      "../EEMS/OLxOR1-x45m75-maf025-filt_results/OLxOR1-x45m75-maf025-filt-SkI-nD500-ch1\n",
      "../EEMS/OLxOR1-x45m75-maf025-filt_results/OLxOR1-x45m75-maf025-filt-SkI-nD500-ch2\n",
      "../EEMS/OLxOR1-x45m75-maf025-filt_results/OLxOR1-x45m75-maf025-filt-SkI-nD500-ch3\n",
      "../EEMS/OLxOR1-x45m75-maf025-filt_results/OLxOR1-x45m75-maf025-filt-SkI-nD600-ch1\n",
      "../EEMS/OLxOR1-x45m75-maf025-filt_results/OLxOR1-x45m75-maf025-filt-SkI-nD600-ch2\n",
      "../EEMS/OLxOR1-x45m75-maf025-filt_results/OLxOR1-x45m75-maf025-filt-SkI-nD600-ch3\n",
      "../EEMS/OLxOR1-x45m75-maf025-filt_results/OLxOR1-x45m75-maf025-filt-SkI-nD700-ch1\n",
      "../EEMS/OLxOR1-x45m75-maf025-filt_results/OLxOR1-x45m75-maf025-filt-SkI-nD700-ch2\n",
      "../EEMS/OLxOR1-x45m75-maf025-filt_results/OLxOR1-x45m75-maf025-filt-SkI-nD700-ch3\n",
      "Plotting average dissimilarities within and between demes\n",
      "../EEMS/OLxOR1-x45m75-maf025-filt_results/OLxOR1-x45m75-maf025-filt-SkI-nD200-ch1\n",
      "../EEMS/OLxOR1-x45m75-maf025-filt_results/OLxOR1-x45m75-maf025-filt-SkI-nD200-ch2\n",
      "../EEMS/OLxOR1-x45m75-maf025-filt_results/OLxOR1-x45m75-maf025-filt-SkI-nD200-ch3\n",
      "../EEMS/OLxOR1-x45m75-maf025-filt_results/OLxOR1-x45m75-maf025-filt-SkI-nD250-ch1\n",
      "Using 'euclidean' distance to assign interpolation points to Voronoi tiles.\n",
      "\n",
      "\n",
      "\n",
      "Using 'euclidean' distance to assign interpolation points to Voronoi tiles.\n",
      "\n",
      "\n",
      "\n",
      "EEMS results for at least two different population grids\n"
     ]
    }
   ],
   "source": [
    "eems.plots(mcmcpath = dirs, plotpath = paste0(path,\"OLxOR1-x45m75-maf025-SkI-All-plots-noD\"),\n",
    "           longlat = T,add.grid=F,add.outline = T,add.demes = F,\n",
    "           projection.in = \"+proj=longlat +datum=WGS84\",projection.out = \"+proj=merc +datum=WGS84\",\n",
    "           add.map = T,add.abline = T, add.r.squared = T)"
   ]
  },
  {
   "cell_type": "code",
   "execution_count": 13,
   "metadata": {},
   "outputs": [
    {
     "name": "stderr",
     "output_type": "stream",
     "text": [
      "Input projection: +proj=longlat +datum=WGS84\n",
      "Output projection: +proj=merc +datum=WGS84\n",
      "\n",
      "\n",
      "\n",
      "Loading rgdal (required by projection.in)\n",
      "Loading rworldmap (required by add.map)\n",
      "Loading rworldxtra (required by add.map)\n",
      "Using the default DarkOrange to Blue color scheme, with 'white' as the midpoint color.\n",
      "It combines two color schemes from the 'dichromat' package, which itself is based on\n",
      "a collection of color schemes for scientific data graphics:\n",
      "\tLight A and Bartlein PJ (2004). The End of the Rainbow? Color Schemes for Improved Data\n",
      "\tGraphics. EOS Transactions of the American Geophysical Union, 85(40), 385.\n",
      "See also http://geog.uoregon.edu/datagraphics/color_scales.htm\n",
      "\n",
      "\n",
      "\n",
      "Using 'euclidean' distance to assign interpolation points to Voronoi tiles.\n",
      "\n",
      "\n",
      "\n",
      "Processing the following EEMS output directories :\n",
      "../../EEMS/Choosing/OLxOR1-m80x60-maf025_results/OLxOR1-m80x60-maf025-W-nD200-ch1\n",
      "Plotting effective migration surface (posterior mean of m rates)\n",
      "../../EEMS/Choosing/OLxOR1-m80x60-maf025_results/OLxOR1-m80x60-maf025-W-nD200-ch1\n",
      "Using the default DarkOrange to Blue color scheme, with 'white' as the midpoint color.\n",
      "It combines two color schemes from the 'dichromat' package, which itself is based on\n",
      "a collection of color schemes for scientific data graphics:\n",
      "\tLight A and Bartlein PJ (2004). The End of the Rainbow? Color Schemes for Improved Data\n",
      "\tGraphics. EOS Transactions of the American Geophysical Union, 85(40), 385.\n",
      "See also http://geog.uoregon.edu/datagraphics/color_scales.htm\n",
      "\n",
      "\n",
      "\n",
      "Plotting effective diversity surface (posterior mean of q rates)\n",
      "../../EEMS/Choosing/OLxOR1-m80x60-maf025_results/OLxOR1-m80x60-maf025-W-nD200-ch1\n",
      "Using the default DarkOrange to Blue color scheme, with 'white' as the midpoint color.\n",
      "It combines two color schemes from the 'dichromat' package, which itself is based on\n",
      "a collection of color schemes for scientific data graphics:\n",
      "\tLight A and Bartlein PJ (2004). The End of the Rainbow? Color Schemes for Improved Data\n",
      "\tGraphics. EOS Transactions of the American Geophysical Union, 85(40), 385.\n",
      "See also http://geog.uoregon.edu/datagraphics/color_scales.htm\n",
      "\n",
      "\n",
      "\n",
      "Plotting posterior probability trace\n",
      "../../EEMS/Choosing/OLxOR1-m80x60-maf025_results/OLxOR1-m80x60-maf025-W-nD200-ch1\n",
      "Plotting average dissimilarities within and between demes\n",
      "../../EEMS/Choosing/OLxOR1-m80x60-maf025_results/OLxOR1-m80x60-maf025-W-nD200-ch1\n",
      "Input projection: +proj=longlat +datum=WGS84\n",
      "Output projection: +proj=merc +datum=WGS84\n",
      "\n",
      "\n",
      "\n",
      "Loading rgdal (required by projection.in)\n",
      "Loading rworldmap (required by add.map)\n",
      "Loading rworldxtra (required by add.map)\n",
      "Using the default DarkOrange to Blue color scheme, with 'white' as the midpoint color.\n",
      "It combines two color schemes from the 'dichromat' package, which itself is based on\n",
      "a collection of color schemes for scientific data graphics:\n",
      "\tLight A and Bartlein PJ (2004). The End of the Rainbow? Color Schemes for Improved Data\n",
      "\tGraphics. EOS Transactions of the American Geophysical Union, 85(40), 385.\n",
      "See also http://geog.uoregon.edu/datagraphics/color_scales.htm\n",
      "\n",
      "\n",
      "\n",
      "Using 'euclidean' distance to assign interpolation points to Voronoi tiles.\n",
      "\n",
      "\n",
      "\n",
      "Processing the following EEMS output directories :\n",
      "../../EEMS/Choosing/OLxOR1-m80x60-maf025_results/OLxOR1-m80x60-maf025-W-nD200-ch2\n",
      "Plotting effective migration surface (posterior mean of m rates)\n",
      "../../EEMS/Choosing/OLxOR1-m80x60-maf025_results/OLxOR1-m80x60-maf025-W-nD200-ch2\n",
      "Using the default DarkOrange to Blue color scheme, with 'white' as the midpoint color.\n",
      "It combines two color schemes from the 'dichromat' package, which itself is based on\n",
      "a collection of color schemes for scientific data graphics:\n",
      "\tLight A and Bartlein PJ (2004). The End of the Rainbow? Color Schemes for Improved Data\n",
      "\tGraphics. EOS Transactions of the American Geophysical Union, 85(40), 385.\n",
      "See also http://geog.uoregon.edu/datagraphics/color_scales.htm\n",
      "\n",
      "\n",
      "\n",
      "Plotting effective diversity surface (posterior mean of q rates)\n",
      "../../EEMS/Choosing/OLxOR1-m80x60-maf025_results/OLxOR1-m80x60-maf025-W-nD200-ch2\n",
      "Using the default DarkOrange to Blue color scheme, with 'white' as the midpoint color.\n",
      "It combines two color schemes from the 'dichromat' package, which itself is based on\n",
      "a collection of color schemes for scientific data graphics:\n",
      "\tLight A and Bartlein PJ (2004). The End of the Rainbow? Color Schemes for Improved Data\n",
      "\tGraphics. EOS Transactions of the American Geophysical Union, 85(40), 385.\n",
      "See also http://geog.uoregon.edu/datagraphics/color_scales.htm\n",
      "\n",
      "\n",
      "\n",
      "Plotting posterior probability trace\n",
      "../../EEMS/Choosing/OLxOR1-m80x60-maf025_results/OLxOR1-m80x60-maf025-W-nD200-ch2\n",
      "Plotting average dissimilarities within and between demes\n",
      "../../EEMS/Choosing/OLxOR1-m80x60-maf025_results/OLxOR1-m80x60-maf025-W-nD200-ch2\n",
      "Input projection: +proj=longlat +datum=WGS84\n",
      "Output projection: +proj=merc +datum=WGS84\n",
      "\n",
      "\n",
      "\n",
      "Loading rgdal (required by projection.in)\n",
      "Loading rworldmap (required by add.map)\n",
      "Loading rworldxtra (required by add.map)\n",
      "Using the default DarkOrange to Blue color scheme, with 'white' as the midpoint color.\n",
      "It combines two color schemes from the 'dichromat' package, which itself is based on\n",
      "a collection of color schemes for scientific data graphics:\n",
      "\tLight A and Bartlein PJ (2004). The End of the Rainbow? Color Schemes for Improved Data\n",
      "\tGraphics. EOS Transactions of the American Geophysical Union, 85(40), 385.\n",
      "See also http://geog.uoregon.edu/datagraphics/color_scales.htm\n",
      "\n",
      "\n",
      "\n",
      "Using 'euclidean' distance to assign interpolation points to Voronoi tiles.\n",
      "\n",
      "\n",
      "\n",
      "Processing the following EEMS output directories :\n",
      "../../EEMS/Choosing/OLxOR1-m80x60-maf025_results/OLxOR1-m80x60-maf025-W-nD300-ch1\n",
      "Plotting effective migration surface (posterior mean of m rates)\n",
      "../../EEMS/Choosing/OLxOR1-m80x60-maf025_results/OLxOR1-m80x60-maf025-W-nD300-ch1\n",
      "Using the default DarkOrange to Blue color scheme, with 'white' as the midpoint color.\n",
      "It combines two color schemes from the 'dichromat' package, which itself is based on\n",
      "a collection of color schemes for scientific data graphics:\n",
      "\tLight A and Bartlein PJ (2004). The End of the Rainbow? Color Schemes for Improved Data\n",
      "\tGraphics. EOS Transactions of the American Geophysical Union, 85(40), 385.\n",
      "See also http://geog.uoregon.edu/datagraphics/color_scales.htm\n",
      "\n",
      "\n",
      "\n",
      "Plotting effective diversity surface (posterior mean of q rates)\n",
      "../../EEMS/Choosing/OLxOR1-m80x60-maf025_results/OLxOR1-m80x60-maf025-W-nD300-ch1\n",
      "Using the default DarkOrange to Blue color scheme, with 'white' as the midpoint color.\n",
      "It combines two color schemes from the 'dichromat' package, which itself is based on\n",
      "a collection of color schemes for scientific data graphics:\n",
      "\tLight A and Bartlein PJ (2004). The End of the Rainbow? Color Schemes for Improved Data\n",
      "\tGraphics. EOS Transactions of the American Geophysical Union, 85(40), 385.\n",
      "See also http://geog.uoregon.edu/datagraphics/color_scales.htm\n",
      "\n",
      "\n",
      "\n",
      "Plotting posterior probability trace\n",
      "../../EEMS/Choosing/OLxOR1-m80x60-maf025_results/OLxOR1-m80x60-maf025-W-nD300-ch1\n",
      "Plotting average dissimilarities within and between demes\n",
      "../../EEMS/Choosing/OLxOR1-m80x60-maf025_results/OLxOR1-m80x60-maf025-W-nD300-ch1\n",
      "Input projection: +proj=longlat +datum=WGS84\n",
      "Output projection: +proj=merc +datum=WGS84\n",
      "\n",
      "\n",
      "\n",
      "Loading rgdal (required by projection.in)\n",
      "Loading rworldmap (required by add.map)\n",
      "Loading rworldxtra (required by add.map)\n",
      "Using the default DarkOrange to Blue color scheme, with 'white' as the midpoint color.\n",
      "It combines two color schemes from the 'dichromat' package, which itself is based on\n",
      "a collection of color schemes for scientific data graphics:\n",
      "\tLight A and Bartlein PJ (2004). The End of the Rainbow? Color Schemes for Improved Data\n",
      "\tGraphics. EOS Transactions of the American Geophysical Union, 85(40), 385.\n",
      "See also http://geog.uoregon.edu/datagraphics/color_scales.htm\n",
      "\n",
      "\n",
      "\n",
      "Using 'euclidean' distance to assign interpolation points to Voronoi tiles.\n",
      "\n",
      "\n",
      "\n",
      "Processing the following EEMS output directories :\n",
      "../../EEMS/Choosing/OLxOR1-m80x60-maf025_results/OLxOR1-m80x60-maf025-W-nD300-ch2\n",
      "Plotting effective migration surface (posterior mean of m rates)\n",
      "../../EEMS/Choosing/OLxOR1-m80x60-maf025_results/OLxOR1-m80x60-maf025-W-nD300-ch2\n",
      "Using the default DarkOrange to Blue color scheme, with 'white' as the midpoint color.\n",
      "It combines two color schemes from the 'dichromat' package, which itself is based on\n",
      "a collection of color schemes for scientific data graphics:\n",
      "\tLight A and Bartlein PJ (2004). The End of the Rainbow? Color Schemes for Improved Data\n",
      "\tGraphics. EOS Transactions of the American Geophysical Union, 85(40), 385.\n",
      "See also http://geog.uoregon.edu/datagraphics/color_scales.htm\n",
      "\n",
      "\n",
      "\n",
      "Plotting effective diversity surface (posterior mean of q rates)\n",
      "../../EEMS/Choosing/OLxOR1-m80x60-maf025_results/OLxOR1-m80x60-maf025-W-nD300-ch2\n",
      "Using the default DarkOrange to Blue color scheme, with 'white' as the midpoint color.\n",
      "It combines two color schemes from the 'dichromat' package, which itself is based on\n",
      "a collection of color schemes for scientific data graphics:\n",
      "\tLight A and Bartlein PJ (2004). The End of the Rainbow? Color Schemes for Improved Data\n",
      "\tGraphics. EOS Transactions of the American Geophysical Union, 85(40), 385.\n",
      "See also http://geog.uoregon.edu/datagraphics/color_scales.htm\n",
      "\n",
      "\n",
      "\n",
      "Plotting posterior probability trace\n",
      "../../EEMS/Choosing/OLxOR1-m80x60-maf025_results/OLxOR1-m80x60-maf025-W-nD300-ch2\n",
      "Plotting average dissimilarities within and between demes\n",
      "../../EEMS/Choosing/OLxOR1-m80x60-maf025_results/OLxOR1-m80x60-maf025-W-nD300-ch2\n"
     ]
    }
   ],
   "source": [
    "for(dir in dirs){\n",
    "    eems.plots(mcmcpath = dir, plotpath = paste0(dir,\"-plots\"),\n",
    "           longlat = T,add.grid=F,add.outline = T,add.demes = T,\n",
    "           projection.in = \"+proj=longlat +datum=WGS84\",projection.out = \"+proj=merc +datum=WGS84\",\n",
    "           add.map = T,add.abline = T, add.r.squared = T)\n",
    "}\n"
   ]
  },
  {
   "cell_type": "code",
   "execution_count": null,
   "metadata": {},
   "outputs": [],
   "source": []
  }
 ],
 "metadata": {
  "kernelspec": {
   "display_name": "R",
   "language": "R",
   "name": "ir"
  },
  "language_info": {
   "codemirror_mode": "r",
   "file_extension": ".r",
   "mimetype": "text/x-r-source",
   "name": "R",
   "pygments_lexer": "r",
   "version": "3.4.1"
  }
 },
 "nbformat": 4,
 "nbformat_minor": 2
}
