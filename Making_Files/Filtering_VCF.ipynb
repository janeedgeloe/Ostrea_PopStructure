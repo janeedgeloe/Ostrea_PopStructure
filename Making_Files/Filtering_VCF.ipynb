{
 "cells": [
  {
   "cell_type": "markdown",
   "metadata": {
    "deletable": true,
    "editable": true
   },
   "source": [
    "# Filtering .vcf file from ipyrad"
   ]
  },
  {
   "cell_type": "markdown",
   "metadata": {
    "deletable": true,
    "editable": true
   },
   "source": [
    "This notebook details the secondary filtering I do with a .vcf directly from ipyrad. I use this notebook to:  \n",
    "1) filter out individuals with greater than a certain threshold of missing data,  \n",
    "3) filter out loci missing in a certain percentage of samples (note: ipyrad does this on a locus basis, but with indels and Ns there could still be sites that are missing in a lot of samples),  \n",
    "4) filter for a certain minor allele frequency  \n",
    "5) filter out loci with excess heterozygosity within populations based on Hardy-Weinberg equilibrium \\*  \n",
    "6) filter out loci significantly out of H-W equilibrium within populations  \n",
    "7) filter for only biallelic SNPs  \n",
    "8) use python code to select 1 SNP per GBS locus for analyses like PCA that require an \"unlinked\" dataset\n",
    "\n",
    "\n",
    "\\*Note: I set the *max_shared_Hs_locus* parameter in ipyrad to 1.0 so it does not filter for excess heterozygotes across samples. "
   ]
  },
  {
   "cell_type": "code",
   "execution_count": 4,
   "metadata": {
    "collapsed": false,
    "deletable": true,
    "editable": true
   },
   "outputs": [
    {
     "name": "stdout",
     "output_type": "stream",
     "text": [
      "09/06/18\n"
     ]
    }
   ],
   "source": [
    "%%sh\n",
    "date \"+%D\""
   ]
  },
  {
   "cell_type": "code",
   "execution_count": 5,
   "metadata": {
    "collapsed": false,
    "deletable": true,
    "editable": true
   },
   "outputs": [
    {
     "data": {
      "text/plain": [
       "u'/home/ksilliman/Projects/Phylo_Ostrea/Analysis'"
      ]
     },
     "execution_count": 5,
     "metadata": {},
     "output_type": "execute_result"
    }
   ],
   "source": [
    "pwd"
   ]
  },
  {
   "cell_type": "markdown",
   "metadata": {},
   "source": [
    "## x45m75"
   ]
  },
  {
   "cell_type": "markdown",
   "metadata": {
    "deletable": true,
    "editable": true
   },
   "source": [
    "Use vcftools to filter for polymorphic loci and loci found in at least 75% of individuals. This is the full SNP dataset, before filtering for minor allele frequency and Hardy-Weinberg equilibrium."
   ]
  },
  {
   "cell_type": "code",
   "execution_count": 11,
   "metadata": {},
   "outputs": [
    {
     "name": "stderr",
     "output_type": "stream",
     "text": [
      "\n",
      "VCFtools - 0.1.15\n",
      "(C) Adam Auton and Anthony Marcketta 2009\n",
      "\n",
      "Parameters as interpreted:\n",
      "\t--vcf Assembly/OL-s7filt45-c85-t10-pops_outfiles/OL-s7filt45-c85-t10-pops.vcf\n",
      "\t--recode-INFO-all\n",
      "\t--max-alleles 2\n",
      "\t--min-alleles 2\n",
      "\t--max-missing 0.75\n",
      "\t--out Making_Files/OL-c85-t10-x45m75\n",
      "\t--recode\n",
      "\n",
      "After filtering, kept 117 out of 117 Individuals\n",
      "Outputting VCF file...\n",
      "After filtering, kept 42081 out of a possible 58814 Sites\n",
      "Run Time = 4.00 seconds\n"
     ]
    }
   ],
   "source": [
    "%%sh\n",
    "suffix=Making_Files/OL-c85-t10-x45m75\n",
    "vcftools --vcf Assembly/OL-s7filt45-c85-t10-pops_outfiles/OL-s7filt45-c85-t10-pops.vcf \\\n",
    "--recode --recode-INFO-all --min-alleles 2 --max-alleles 2 --max-missing 0.75 \\\n",
    "--out ${suffix}"
   ]
  },
  {
   "cell_type": "code",
   "execution_count": 12,
   "metadata": {},
   "outputs": [
    {
     "name": "stderr",
     "output_type": "stream",
     "text": [
      "\n",
      "VCFtools - 0.1.15\n",
      "(C) Adam Auton and Anthony Marcketta 2009\n",
      "\n",
      "Parameters as interpreted:\n",
      "\t--vcf Making_Files/OL-c85-t10-x45m75.recode.vcf\n",
      "\t--missing-indv\n",
      "\t--out Making_Files/OL-c85-t10-x45m75\n",
      "\n",
      "After filtering, kept 117 out of 117 Individuals\n",
      "Outputting Individual Missingness\n",
      "After filtering, kept 42081 out of a possible 42081 Sites\n",
      "Run Time = 0.00 seconds\n"
     ]
    }
   ],
   "source": [
    "%%sh\n",
    "suffix=Making_Files/OL-c85-t10-x45m75\n",
    "vcftools --vcf $suffix.recode.vcf --missing-indv --out $suffix"
   ]
  },
  {
   "cell_type": "markdown",
   "metadata": {
    "deletable": true,
    "editable": true
   },
   "source": [
    "Write files with the sample name and either population (.pop) or all strata info (.strata). These are used for the heterozygosity filtering downstream and to convert the .vcf file to a .str file in PGD Spider. It is dependent on the samples having their population as the first part of their name, separated by an underscore. It uses the .imiss file created earlier, so it does include some samples that have been filtered out. This is not a problem for downstream analyses."
   ]
  },
  {
   "cell_type": "markdown",
   "metadata": {
    "deletable": true,
    "editable": true
   },
   "source": [
    "### Filtering loci by departures from Hardy-Weinberg"
   ]
  },
  {
   "cell_type": "markdown",
   "metadata": {
    "deletable": true,
    "editable": true
   },
   "source": [
    "Here I filter out loci with excess heterozygosity in at least 2 populations based on Hardy-Weinberg equilibrium and a p-value cutoff of 0.05. It takes a .vcf file and the .pop file just created as input. This uses a slightly modified script from [Jon Puritz's Github](https://github.com/jpuritz/dDocent/blob/master/scripts/filter_hwe_by_pop.pl), written by Chris Hollenbeck. My modified script is in my Github."
   ]
  },
  {
   "cell_type": "code",
   "execution_count": 12,
   "metadata": {
    "collapsed": false,
    "deletable": true,
    "editable": true
   },
   "outputs": [
    {
     "name": "stdout",
     "output_type": "stream",
     "text": [
      "Processing population: Barkeley_BC (5 inds)\n",
      "Processing population: Coos_OR (6 inds)\n",
      "Processing population: Discovery_WA (7 inds)\n",
      "Processing population: Elkhorn_CA (6 inds)\n",
      "Processing population: Humboldt_CA (6 inds)\n",
      "Processing population: Klaskino_BC (8 inds)\n",
      "Processing population: Ladysmith_BC (5 inds)\n",
      "Processing population: Liberty_WA (6 inds)\n",
      "Processing population: MuguLagoon_CA (9 inds)\n",
      "Processing population: Netarts_OR (7 inds)\n",
      "Processing population: NorthBay_WA (6 inds)\n",
      "Processing population: NorthSanFran_CA (5 inds)\n",
      "Processing population: NorthWillapa_WA (3 inds)\n",
      "Processing population: SanDiego_CA (7 inds)\n",
      "Processing population: SouthSanFran_CA (4 inds)\n",
      "Processing population: SouthWillapa_WA (2 inds)\n",
      "Processing population: Tomales_CA (6 inds)\n",
      "Processing population: TritonCove_WA (6 inds)\n",
      "Processing population: Victoria_BC (7 inds)\n",
      "Processing population: Yaquina_OR (6 inds)\n",
      "Outputting results of HWE test for filtered loci to 'filtered.hwe'\n",
      "Kept 41895 of a possible 42081 loci (filtered 186 loci)\n"
     ]
    }
   ],
   "source": [
    "%%sh\n",
    "suffix=Making_Files/OL-c85-t10-x45m75\n",
    "#Filtering out loci that depart HWE in at least 2 populations with a p-value cutoff of 0.05\n",
    "../Methods/Scripts/filter_hwe_by_pop.pl -v $suffix.recode.vcf \\\n",
    "-p Making_Files/OL-c85-t10-x45.pop -h 0.05 -c 0.09 -o $suffix-hwPbi\n",
    "rm *.inds\n",
    "mv exclude.hwe Making_Files/\n",
    "#Remove these if you don't want to inspect HWE results\n",
    "rm *.hwe"
   ]
  },
  {
   "cell_type": "markdown",
   "metadata": {
    "deletable": true,
    "editable": true
   },
   "source": [
    "The script only filters on a site-by-site basis. In order to throw out any loci that had a SNP with excess heterozygosity (as these may be paralogs), I make a file with the locus ids to then submit to vcftools."
   ]
  },
  {
   "cell_type": "code",
   "execution_count": 13,
   "metadata": {
    "collapsed": false,
    "deletable": true,
    "editable": true
   },
   "outputs": [
    {
     "name": "stdout",
     "output_type": "stream",
     "text": [
      "x45m75: 144\n"
     ]
    }
   ],
   "source": [
    "#Make files of bad loci (that have at least one site with excess heterozygotes) to copy/paste in vcftools. \n",
    "IN = open('Making_Files/exclude.hwe', \"r\")\n",
    "OUT = open('Making_Files/badchrom.txt', \"w\")\n",
    "exset = set()\n",
    "for line in IN:\n",
    "    chrom = line.split()[0]\n",
    "    if chrom not in exset:\n",
    "        exset.add(chrom)\n",
    "        OUT.write(\" --not-chr \"+str(chrom))\n",
    "OUT.close()\n",
    "IN.close()\n",
    "print \"x45m75: \"+str(len(exset))"
   ]
  },
  {
   "cell_type": "markdown",
   "metadata": {
    "deletable": true,
    "editable": true
   },
   "source": [
    "Vcftools won't take a file of locus names to remove (which is annoying), so I use cat to give the commands to VCFtools."
   ]
  },
  {
   "cell_type": "code",
   "execution_count": 14,
   "metadata": {
    "collapsed": false,
    "deletable": true,
    "editable": true
   },
   "outputs": [
    {
     "name": "stderr",
     "output_type": "stream",
     "text": [
      "\n",
      "VCFtools - 0.1.15\n",
      "(C) Adam Auton and Anthony Marcketta 2009\n",
      "\n",
      "Parameters as interpreted:\n",
      "\t--vcf Making_Files/OL-c85-t10-x45m75-hwPbi.recode.vcf\n",
      "\t--not-chr locus_101729\n",
      "\t--not-chr locus_105574\n",
      "\t--not-chr locus_105872\n",
      "\t--not-chr locus_108364\n",
      "\t--not-chr locus_11229\n",
      "\t--not-chr locus_11344\n",
      "\t--not-chr locus_122277\n",
      "\t--not-chr locus_123093\n",
      "\t--not-chr locus_124336\n",
      "\t--not-chr locus_126680\n",
      "\t--not-chr locus_13078\n",
      "\t--not-chr locus_135077\n",
      "\t--not-chr locus_139738\n",
      "\t--not-chr locus_145304\n",
      "\t--not-chr locus_147286\n",
      "\t--not-chr locus_152226\n",
      "\t--not-chr locus_156530\n",
      "\t--not-chr locus_156836\n",
      "\t--not-chr locus_157656\n",
      "\t--not-chr locus_164593\n",
      "\t--not-chr locus_168485\n",
      "\t--not-chr locus_17009\n",
      "\t--not-chr locus_17236\n",
      "\t--not-chr locus_173735\n",
      "\t--not-chr locus_17649\n",
      "\t--not-chr locus_183021\n",
      "\t--not-chr locus_183515\n",
      "\t--not-chr locus_183542\n",
      "\t--not-chr locus_184001\n",
      "\t--not-chr locus_185388\n",
      "\t--not-chr locus_185910\n",
      "\t--not-chr locus_186505\n",
      "\t--not-chr locus_186710\n",
      "\t--not-chr locus_19446\n",
      "\t--not-chr locus_194493\n",
      "\t--not-chr locus_194596\n",
      "\t--not-chr locus_196933\n",
      "\t--not-chr locus_197220\n",
      "\t--not-chr locus_197575\n",
      "\t--not-chr locus_197719\n",
      "\t--not-chr locus_198861\n",
      "\t--not-chr locus_198868\n",
      "\t--not-chr locus_198925\n",
      "\t--not-chr locus_199220\n",
      "\t--not-chr locus_199711\n",
      "\t--not-chr locus_208050\n",
      "\t--not-chr locus_20815\n",
      "\t--not-chr locus_2088\n",
      "\t--not-chr locus_218491\n",
      "\t--not-chr locus_219745\n",
      "\t--not-chr locus_223125\n",
      "\t--not-chr locus_232579\n",
      "\t--not-chr locus_234262\n",
      "\t--not-chr locus_238313\n",
      "\t--not-chr locus_238585\n",
      "\t--not-chr locus_239714\n",
      "\t--not-chr locus_243746\n",
      "\t--not-chr locus_2438\n",
      "\t--not-chr locus_248062\n",
      "\t--not-chr locus_248978\n",
      "\t--not-chr locus_249210\n",
      "\t--not-chr locus_250104\n",
      "\t--not-chr locus_250604\n",
      "\t--not-chr locus_250660\n",
      "\t--not-chr locus_254458\n",
      "\t--not-chr locus_254937\n",
      "\t--not-chr locus_255203\n",
      "\t--not-chr locus_255661\n",
      "\t--not-chr locus_260670\n",
      "\t--not-chr locus_26382\n",
      "\t--not-chr locus_268570\n",
      "\t--not-chr locus_269694\n",
      "\t--not-chr locus_272212\n",
      "\t--not-chr locus_280004\n",
      "\t--not-chr locus_283235\n",
      "\t--not-chr locus_283315\n",
      "\t--not-chr locus_283456\n",
      "\t--not-chr locus_285581\n",
      "\t--not-chr locus_286427\n",
      "\t--not-chr locus_290975\n",
      "\t--not-chr locus_291712\n",
      "\t--not-chr locus_292967\n",
      "\t--not-chr locus_293019\n",
      "\t--not-chr locus_293519\n",
      "\t--not-chr locus_294566\n",
      "\t--not-chr locus_295582\n",
      "\t--not-chr locus_300602\n",
      "\t--not-chr locus_304229\n",
      "\t--not-chr locus_307854\n",
      "\t--not-chr locus_314539\n",
      "\t--not-chr locus_317553\n",
      "\t--not-chr locus_322427\n",
      "\t--not-chr locus_32312\n",
      "\t--not-chr locus_325078\n",
      "\t--not-chr locus_325205\n",
      "\t--not-chr locus_325772\n",
      "\t--not-chr locus_328411\n",
      "\t--not-chr locus_328866\n",
      "\t--not-chr locus_330588\n",
      "\t--not-chr locus_331864\n",
      "\t--not-chr locus_334037\n",
      "\t--not-chr locus_337527\n",
      "\t--not-chr locus_337980\n",
      "\t--not-chr locus_340827\n",
      "\t--not-chr locus_340831\n",
      "\t--not-chr locus_348290\n",
      "\t--not-chr locus_350341\n",
      "\t--not-chr locus_350745\n",
      "\t--not-chr locus_37167\n",
      "\t--not-chr locus_44012\n",
      "\t--not-chr locus_4453\n",
      "\t--not-chr locus_44830\n",
      "\t--not-chr locus_46305\n",
      "\t--not-chr locus_48082\n",
      "\t--not-chr locus_48629\n",
      "\t--not-chr locus_48813\n",
      "\t--not-chr locus_49575\n",
      "\t--not-chr locus_5121\n",
      "\t--not-chr locus_54068\n",
      "\t--not-chr locus_54553\n",
      "\t--not-chr locus_56686\n",
      "\t--not-chr locus_57482\n",
      "\t--not-chr locus_65125\n",
      "\t--not-chr locus_6702\n",
      "\t--not-chr locus_75475\n",
      "\t--not-chr locus_78021\n",
      "\t--not-chr locus_78574\n",
      "\t--not-chr locus_79010\n",
      "\t--not-chr locus_79110\n",
      "\t--not-chr locus_80126\n",
      "\t--not-chr locus_80522\n",
      "\t--not-chr locus_82196\n",
      "\t--not-chr locus_8632\n",
      "\t--not-chr locus_87777\n",
      "\t--not-chr locus_89353\n",
      "\t--not-chr locus_91590\n",
      "\t--not-chr locus_92925\n",
      "\t--not-chr locus_95272\n",
      "\t--not-chr locus_9619\n",
      "\t--not-chr locus_9681\n",
      "\t--not-chr locus_96856\n",
      "\t--not-chr locus_97800\n",
      "\t--not-chr locus_98916\n",
      "\t--not-chr locus_99574\n",
      "\t--recode-INFO-all\n",
      "\t--max-alleles 2\n",
      "\t--min-alleles 2\n",
      "\t--out Inputs/OL-c85-t10-x45m75-filt\n",
      "\t--recode\n",
      "\n",
      "After filtering, kept 117 out of 117 Individuals\n",
      "Outputting VCF file...\n",
      "After filtering, kept 41169 out of a possible 41895 Sites\n",
      "Run Time = 8.00 seconds\n"
     ]
    }
   ],
   "source": [
    "%%sh\n",
    "#-filt are all SNPs, not filtering for minor allele frequency\n",
    "value=`cat Making_Files/badchrom.txt`\n",
    "suffix=OL-c85-t10-x45m75\n",
    "\n",
    "vcftools --vcf Making_Files/$suffix-hwPbi.recode.vcf --recode \\\n",
    "--recode-INFO-all $value --max-alleles 2 --min-alleles 2 --out Inputs/$suffix-filt"
   ]
  },
  {
   "cell_type": "code",
   "execution_count": 15,
   "metadata": {
    "collapsed": false,
    "deletable": true,
    "editable": true
   },
   "outputs": [
    {
     "name": "stderr",
     "output_type": "stream",
     "text": [
      "\n",
      "VCFtools - 0.1.15\n",
      "(C) Adam Auton and Anthony Marcketta 2009\n",
      "\n",
      "Parameters as interpreted:\n",
      "\t--vcf Making_Files/OL-c85-t10-x45m75-hwPbi.recode.vcf\n",
      "\t--not-chr locus_101729\n",
      "\t--not-chr locus_105574\n",
      "\t--not-chr locus_105872\n",
      "\t--not-chr locus_108364\n",
      "\t--not-chr locus_11229\n",
      "\t--not-chr locus_11344\n",
      "\t--not-chr locus_122277\n",
      "\t--not-chr locus_123093\n",
      "\t--not-chr locus_124336\n",
      "\t--not-chr locus_126680\n",
      "\t--not-chr locus_13078\n",
      "\t--not-chr locus_135077\n",
      "\t--not-chr locus_139738\n",
      "\t--not-chr locus_145304\n",
      "\t--not-chr locus_147286\n",
      "\t--not-chr locus_152226\n",
      "\t--not-chr locus_156530\n",
      "\t--not-chr locus_156836\n",
      "\t--not-chr locus_157656\n",
      "\t--not-chr locus_164593\n",
      "\t--not-chr locus_168485\n",
      "\t--not-chr locus_17009\n",
      "\t--not-chr locus_17236\n",
      "\t--not-chr locus_173735\n",
      "\t--not-chr locus_17649\n",
      "\t--not-chr locus_183021\n",
      "\t--not-chr locus_183515\n",
      "\t--not-chr locus_183542\n",
      "\t--not-chr locus_184001\n",
      "\t--not-chr locus_185388\n",
      "\t--not-chr locus_185910\n",
      "\t--not-chr locus_186505\n",
      "\t--not-chr locus_186710\n",
      "\t--not-chr locus_19446\n",
      "\t--not-chr locus_194493\n",
      "\t--not-chr locus_194596\n",
      "\t--not-chr locus_196933\n",
      "\t--not-chr locus_197220\n",
      "\t--not-chr locus_197575\n",
      "\t--not-chr locus_197719\n",
      "\t--not-chr locus_198861\n",
      "\t--not-chr locus_198868\n",
      "\t--not-chr locus_198925\n",
      "\t--not-chr locus_199220\n",
      "\t--not-chr locus_199711\n",
      "\t--not-chr locus_208050\n",
      "\t--not-chr locus_20815\n",
      "\t--not-chr locus_2088\n",
      "\t--not-chr locus_218491\n",
      "\t--not-chr locus_219745\n",
      "\t--not-chr locus_223125\n",
      "\t--not-chr locus_232579\n",
      "\t--not-chr locus_234262\n",
      "\t--not-chr locus_238313\n",
      "\t--not-chr locus_238585\n",
      "\t--not-chr locus_239714\n",
      "\t--not-chr locus_243746\n",
      "\t--not-chr locus_2438\n",
      "\t--not-chr locus_248062\n",
      "\t--not-chr locus_248978\n",
      "\t--not-chr locus_249210\n",
      "\t--not-chr locus_250104\n",
      "\t--not-chr locus_250604\n",
      "\t--not-chr locus_250660\n",
      "\t--not-chr locus_254458\n",
      "\t--not-chr locus_254937\n",
      "\t--not-chr locus_255203\n",
      "\t--not-chr locus_255661\n",
      "\t--not-chr locus_260670\n",
      "\t--not-chr locus_26382\n",
      "\t--not-chr locus_268570\n",
      "\t--not-chr locus_269694\n",
      "\t--not-chr locus_272212\n",
      "\t--not-chr locus_280004\n",
      "\t--not-chr locus_283235\n",
      "\t--not-chr locus_283315\n",
      "\t--not-chr locus_283456\n",
      "\t--not-chr locus_285581\n",
      "\t--not-chr locus_286427\n",
      "\t--not-chr locus_290975\n",
      "\t--not-chr locus_291712\n",
      "\t--not-chr locus_292967\n",
      "\t--not-chr locus_293019\n",
      "\t--not-chr locus_293519\n",
      "\t--not-chr locus_294566\n",
      "\t--not-chr locus_295582\n",
      "\t--not-chr locus_300602\n",
      "\t--not-chr locus_304229\n",
      "\t--not-chr locus_307854\n",
      "\t--not-chr locus_314539\n",
      "\t--not-chr locus_317553\n",
      "\t--not-chr locus_322427\n",
      "\t--not-chr locus_32312\n",
      "\t--not-chr locus_325078\n",
      "\t--not-chr locus_325205\n",
      "\t--not-chr locus_325772\n",
      "\t--not-chr locus_328411\n",
      "\t--not-chr locus_328866\n",
      "\t--not-chr locus_330588\n",
      "\t--not-chr locus_331864\n",
      "\t--not-chr locus_334037\n",
      "\t--not-chr locus_337527\n",
      "\t--not-chr locus_337980\n",
      "\t--not-chr locus_340827\n",
      "\t--not-chr locus_340831\n",
      "\t--not-chr locus_348290\n",
      "\t--not-chr locus_350341\n",
      "\t--not-chr locus_350745\n",
      "\t--not-chr locus_37167\n",
      "\t--not-chr locus_44012\n",
      "\t--not-chr locus_4453\n",
      "\t--not-chr locus_44830\n",
      "\t--not-chr locus_46305\n",
      "\t--not-chr locus_48082\n",
      "\t--not-chr locus_48629\n",
      "\t--not-chr locus_48813\n",
      "\t--not-chr locus_49575\n",
      "\t--not-chr locus_5121\n",
      "\t--not-chr locus_54068\n",
      "\t--not-chr locus_54553\n",
      "\t--not-chr locus_56686\n",
      "\t--not-chr locus_57482\n",
      "\t--not-chr locus_65125\n",
      "\t--not-chr locus_6702\n",
      "\t--not-chr locus_75475\n",
      "\t--not-chr locus_78021\n",
      "\t--not-chr locus_78574\n",
      "\t--not-chr locus_79010\n",
      "\t--not-chr locus_79110\n",
      "\t--not-chr locus_80126\n",
      "\t--not-chr locus_80522\n",
      "\t--not-chr locus_82196\n",
      "\t--not-chr locus_8632\n",
      "\t--not-chr locus_87777\n",
      "\t--not-chr locus_89353\n",
      "\t--not-chr locus_91590\n",
      "\t--not-chr locus_92925\n",
      "\t--not-chr locus_95272\n",
      "\t--not-chr locus_9619\n",
      "\t--not-chr locus_9681\n",
      "\t--not-chr locus_96856\n",
      "\t--not-chr locus_97800\n",
      "\t--not-chr locus_98916\n",
      "\t--not-chr locus_99574\n",
      "\t--recode-INFO-all\n",
      "\t--maf 0.025\n",
      "\t--max-alleles 2\n",
      "\t--min-alleles 2\n",
      "\t--out Inputs/OL-c85-t10-x45m75-maf025\n",
      "\t--recode\n",
      "\n",
      "After filtering, kept 117 out of 117 Individuals\n",
      "Outputting VCF file...\n",
      "After filtering, kept 13485 out of a possible 41895 Sites\n",
      "Run Time = 2.00 seconds\n"
     ]
    }
   ],
   "source": [
    "%%sh\n",
    "#-maf025 are SNPs after filtering for minor allele frequency of 2.5%\n",
    "value=`cat Making_Files/badchrom.txt`\n",
    "suffix=OL-c85-t10-x45m75\n",
    "\n",
    "vcftools --vcf Making_Files/$suffix-hwPbi.recode.vcf --recode --recode-INFO-all \\\n",
    "$value --max-alleles 2 --min-alleles 2 --maf 0.025 --out Inputs/$suffix-maf025"
   ]
  },
  {
   "cell_type": "markdown",
   "metadata": {
    "deletable": true,
    "editable": true
   },
   "source": [
    "## Subset one SNP per GBS locus"
   ]
  },
  {
   "cell_type": "code",
   "execution_count": 5,
   "metadata": {},
   "outputs": [],
   "source": [
    "## Code to subset one SNP per GBS locus from a VCF file. Chooses the SNP\n",
    "## with the highest sample coverage. If there is a tie, chooses the 1st SNP in the loci. (may change to random)\n",
    "## May be specific to VCF format output from ipyrad.\n",
    "## This is also in script format in Github as subsetSNPs.py\n",
    "\n",
    "def subsetSNPs(inputfile,outputfile):\n",
    "    import linecache\n",
    "    locidict = {}\n",
    "    lineNum = []\n",
    "    IN = open(inputfile, \"r\")\n",
    "    OUT = open(outputfile, \"w\")\n",
    "\n",
    "    n = 1\n",
    "    for line in IN:\n",
    "        if \"#\" not in line:\n",
    "            linelist = line.split()\n",
    "            loci = linelist[0]\n",
    "            #Column 7 is INFO column of VCF file\n",
    "            NS = float(linelist[7].split(\";\")[0].split(\"=\")[1])\n",
    "            if loci not in locidict.keys():\n",
    "                locidict[loci] = [NS,n]\n",
    "            else:\n",
    "                if locidict[loci][0] < NS:\n",
    "                    locidict[loci] = [NS,n]\n",
    "        else:\n",
    "            OUT.write(line)\n",
    "        n += 1\n",
    "    IN.close()\n",
    "    print(\"Total SNPS: \"+str(n)+\"\\nUnlinked SNPs: \"+str(len(locidict.keys())))\n",
    "\n",
    "    for locus in sorted(locidict.keys()):\n",
    "        line = linecache.getline(inputfile, locidict[locus][1])\n",
    "        OUT.write(line)\n",
    "    OUT.close()\n"
   ]
  },
  {
   "cell_type": "code",
   "execution_count": 3,
   "metadata": {},
   "outputs": [
    {
     "name": "stdout",
     "output_type": "stream",
     "text": [
      "Total SNPS: 42093\n",
      "Unlinked SNPs: 9836\n"
     ]
    }
   ],
   "source": [
    "#Total loci\n",
    "infile = \"Making_Files/OL-c85-t10-x45m75.recode.vcf\"\n",
    "outfile = \"Making_Files/test.vcf\"\n",
    "subsetSNPs(infile,outfile)"
   ]
  },
  {
   "cell_type": "code",
   "execution_count": 17,
   "metadata": {},
   "outputs": [
    {
     "name": "stdout",
     "output_type": "stream",
     "text": [
      "Total SNPS: 30374\n",
      "Unlinked SNPs: 7203\n",
      "Total SNPS: 9454\n",
      "Unlinked SNPs: 4487\n"
     ]
    }
   ],
   "source": [
    "#No maf filtering\n",
    "infile = \"Inputs/OL-c85-t10-x45m80-filt.recode.vcf\"\n",
    "outfile = \"Inputs/OL-c85t10-x45m80-u.vcf\"\n",
    "subsetSNPs(infile,outfile)\n",
    "#Maf of 2.5%\n",
    "infile = \"Inputs/OL-c85-t10-x45m80-maf025.recode.vcf\"\n",
    "outfile = \"Inputs/OL-c85t10-x45m80-maf025-u.vcf\"\n",
    "subsetSNPs(infile,outfile)"
   ]
  },
  {
   "cell_type": "code",
   "execution_count": 18,
   "metadata": {},
   "outputs": [
    {
     "name": "stdout",
     "output_type": "stream",
     "text": [
      "Total SNPS: 41181\n",
      "Unlinked SNPs: 9692\n",
      "Total SNPS: 13497\n",
      "Unlinked SNPs: 6207\n"
     ]
    }
   ],
   "source": [
    "#No maf filtering\n",
    "infile = \"Inputs/OL-c85-t10-x45m75-filt.recode.vcf\"\n",
    "outfile = \"Inputs/OL-c85t10-x45m75-u.vcf\"\n",
    "subsetSNPs(infile,outfile)\n",
    "#Maf of 2.5%\n",
    "infile = \"Inputs/OL-c85-t10-x45m75-maf025.recode.vcf\"\n",
    "outfile = \"Inputs/OL-c85t10-x45m75-maf025-u.vcf\"\n",
    "subsetSNPs(infile,outfile)"
   ]
  },
  {
   "cell_type": "markdown",
   "metadata": {},
   "source": [
    "## Making an outlier only .vcf\n",
    "Once I identified outlier loci, I now use VCFtools to filter those SNPs."
   ]
  },
  {
   "cell_type": "markdown",
   "metadata": {},
   "source": [
    "### Intersect 2"
   ]
  },
  {
   "cell_type": "code",
   "execution_count": 2,
   "metadata": {},
   "outputs": [
    {
     "name": "stdout",
     "output_type": "stream",
     "text": [
      "97\n",
      "168\n"
     ]
    }
   ],
   "source": [
    "#Make files of bad loci (that have at least one site with an outlier) to feed to vcftools. \n",
    "#IN = open('Outlier/x45m75maf025filt-pcaQ_OF_BS-isect2.snp', \"r\")\n",
    "IN = open('Outlier/x45m75maf025filt-pcaQ_OF_BS-isectUnion.snp',\"r\")\n",
    "INL = open('Outlier/x45m75maf025filt-pcaQ_OF_BS-isect2.loci',\"r\")\n",
    "OUT = open('Making_Files/x45m75maf025filt-pcaQ_OF_BS-isect2.badchrom', \"w\")\n",
    "#OUTg = open('Making_Files/x45m75maf025filt-pcaQ_OF_BS-isect2.goodchrom', \"w\")\n",
    "OUTg2 = open('Making_Files/x45m75maf025filt-pcaQ_OF_BS-isect2.goodchrom2', \"w\")\n",
    "exset = set()\n",
    "for line in INL:\n",
    "    chrom = line.strip()\n",
    "    if chrom not in exset:\n",
    "        exset.add(chrom)\n",
    "        OUT.write(\" --not-chr locus_\"+str(chrom))\n",
    "print len(exset)\n",
    "x = 0\n",
    "for line in IN:\n",
    "    chrom = line.strip().split(\"_\")[1]\n",
    "    snp = line.strip().split(\"_\")[3]\n",
    "    OUTg2.write(\"locus_\"+chrom+\"\\t\"+snp+\"\\n\")\n",
    "    x += 1\n",
    "print x\n",
    "OUT.close()\n",
    "#OUTg.close()\n",
    "OUTg2.close()\n",
    "IN.close()\n",
    "INL.close()"
   ]
  },
  {
   "cell_type": "code",
   "execution_count": 4,
   "metadata": {},
   "outputs": [
    {
     "name": "stderr",
     "output_type": "stream",
     "text": [
      "\n",
      "VCFtools - 0.1.15\n",
      "(C) Adam Auton and Anthony Marcketta 2009\n",
      "\n",
      "Parameters as interpreted:\n",
      "\t--vcf Inputs/OL-c85-t10-x45m75-maf025.recode.vcf\n",
      "\t--not-chr locus_101035\n",
      "\t--not-chr locus_104611\n",
      "\t--not-chr locus_104742\n",
      "\t--not-chr locus_104832\n",
      "\t--not-chr locus_10670\n",
      "\t--not-chr locus_110252\n",
      "\t--not-chr locus_11196\n",
      "\t--not-chr locus_113647\n",
      "\t--not-chr locus_115948\n",
      "\t--not-chr locus_11905\n",
      "\t--not-chr locus_120275\n",
      "\t--not-chr locus_121489\n",
      "\t--not-chr locus_121492\n",
      "\t--not-chr locus_12991\n",
      "\t--not-chr locus_131325\n",
      "\t--not-chr locus_134388\n",
      "\t--not-chr locus_144194\n",
      "\t--not-chr locus_145020\n",
      "\t--not-chr locus_153852\n",
      "\t--not-chr locus_153863\n",
      "\t--not-chr locus_162959\n",
      "\t--not-chr locus_170867\n",
      "\t--not-chr locus_171395\n",
      "\t--not-chr locus_172232\n",
      "\t--not-chr locus_17308\n",
      "\t--not-chr locus_17359\n",
      "\t--not-chr locus_17888\n",
      "\t--not-chr locus_18220\n",
      "\t--not-chr locus_18437\n",
      "\t--not-chr locus_18554\n",
      "\t--not-chr locus_187013\n",
      "\t--not-chr locus_194092\n",
      "\t--not-chr locus_194810\n",
      "\t--not-chr locus_196263\n",
      "\t--not-chr locus_199936\n",
      "\t--not-chr locus_200167\n",
      "\t--not-chr locus_215711\n",
      "\t--not-chr locus_219420\n",
      "\t--not-chr locus_222051\n",
      "\t--not-chr locus_22917\n",
      "\t--not-chr locus_237137\n",
      "\t--not-chr locus_23735\n",
      "\t--not-chr locus_250818\n",
      "\t--not-chr locus_251168\n",
      "\t--not-chr locus_251628\n",
      "\t--not-chr locus_254657\n",
      "\t--not-chr locus_256727\n",
      "\t--not-chr locus_267489\n",
      "\t--not-chr locus_268598\n",
      "\t--not-chr locus_270303\n",
      "\t--not-chr locus_274413\n",
      "\t--not-chr locus_274487\n",
      "\t--not-chr locus_276278\n",
      "\t--not-chr locus_277490\n",
      "\t--not-chr locus_280479\n",
      "\t--not-chr locus_284915\n",
      "\t--not-chr locus_285901\n",
      "\t--not-chr locus_290471\n",
      "\t--not-chr locus_291771\n",
      "\t--not-chr locus_292179\n",
      "\t--not-chr locus_292226\n",
      "\t--not-chr locus_292692\n",
      "\t--not-chr locus_292806\n",
      "\t--not-chr locus_299038\n",
      "\t--not-chr locus_300901\n",
      "\t--not-chr locus_314049\n",
      "\t--not-chr locus_316062\n",
      "\t--not-chr locus_317026\n",
      "\t--not-chr locus_318078\n",
      "\t--not-chr locus_319929\n",
      "\t--not-chr locus_324480\n",
      "\t--not-chr locus_329859\n",
      "\t--not-chr locus_330617\n",
      "\t--not-chr locus_331689\n",
      "\t--not-chr locus_333717\n",
      "\t--not-chr locus_335279\n",
      "\t--not-chr locus_339584\n",
      "\t--not-chr locus_351511\n",
      "\t--not-chr locus_42995\n",
      "\t--not-chr locus_44811\n",
      "\t--not-chr locus_4610\n",
      "\t--not-chr locus_46112\n",
      "\t--not-chr locus_50945\n",
      "\t--not-chr locus_51669\n",
      "\t--not-chr locus_54082\n",
      "\t--not-chr locus_5648\n",
      "\t--not-chr locus_57217\n",
      "\t--not-chr locus_6021\n",
      "\t--not-chr locus_6412\n",
      "\t--not-chr locus_6721\n",
      "\t--not-chr locus_7299\n",
      "\t--not-chr locus_82065\n",
      "\t--not-chr locus_82413\n",
      "\t--not-chr locus_91276\n",
      "\t--not-chr locus_92682\n",
      "\t--not-chr locus_96183\n",
      "\t--not-chr locus_96658\n",
      "\t--recode-INFO-all\n",
      "\t--max-alleles 2\n",
      "\t--min-alleles 2\n",
      "\t--out Inputs/OL-c85-t10-x45m75-maf025-neutI2\n",
      "\t--recode\n",
      "\n",
      "After filtering, kept 117 out of 117 Individuals\n",
      "Outputting VCF file...\n",
      "After filtering, kept 13232 out of a possible 13485 Sites\n",
      "Run Time = 2.00 seconds\n"
     ]
    }
   ],
   "source": [
    "%%sh\n",
    "suffix=Inputs/OL-c85-t10-x45m75-maf025\n",
    "value=`cat Making_Files/x45m75maf025filt-pcaQ_OF_BS-isect2.badchrom`\n",
    "vcftools --vcf $suffix.recode.vcf --recode --recode-INFO-all $value \\\n",
    "--max-alleles 2 --min-alleles 2 --out $suffix-neutI2"
   ]
  },
  {
   "cell_type": "markdown",
   "metadata": {},
   "source": [
    "Filters 253 SNPs, kept 13,232 SNPS "
   ]
  },
  {
   "cell_type": "code",
   "execution_count": 5,
   "metadata": {},
   "outputs": [
    {
     "name": "stderr",
     "output_type": "stream",
     "text": [
      "\n",
      "VCFtools - 0.1.15\n",
      "(C) Adam Auton and Anthony Marcketta 2009\n",
      "\n",
      "Parameters as interpreted:\n",
      "\t--vcf Inputs/OL-c85-t10-x45m75-maf025.recode.vcf\n",
      "\t--recode-INFO-all\n",
      "\t--max-alleles 2\n",
      "\t--min-alleles 2\n",
      "\t--out Inputs/OL-c85-t10-x45m75-maf025-outI2\n",
      "\t--positions Making_Files/x45m75maf025filt-pcaQ_OF_BS-isect2.goodchrom\n",
      "\t--recode\n",
      "\n",
      "After filtering, kept 117 out of 117 Individuals\n",
      "Outputting VCF file...\n",
      "After filtering, kept 129 out of a possible 13485 Sites\n",
      "Run Time = 0.00 seconds\n"
     ]
    }
   ],
   "source": [
    "%%sh\n",
    "suffix=Inputs/OL-c85-t10-x45m75-maf025\n",
    "vcftools --vcf $suffix.recode.vcf --recode --recode-INFO-all --positions Making_Files/x45m75maf025filt-pcaQ_OF_BS-isect2.goodchrom \\\n",
    "--max-alleles 2 --min-alleles 2 --out $suffix-outI2"
   ]
  },
  {
   "cell_type": "code",
   "execution_count": 3,
   "metadata": {},
   "outputs": [
    {
     "name": "stderr",
     "output_type": "stream",
     "text": [
      "\n",
      "VCFtools - 0.1.15\n",
      "(C) Adam Auton and Anthony Marcketta 2009\n",
      "\n",
      "Parameters as interpreted:\n",
      "\t--vcf Inputs/OL-c85-t10-x45m75-maf025.recode.vcf\n",
      "\t--recode-INFO-all\n",
      "\t--max-alleles 2\n",
      "\t--min-alleles 2\n",
      "\t--out Inputs/OL-c85-t10-x45m75-maf025-outI2Union\n",
      "\t--positions Making_Files/x45m75maf025filt-pcaQ_OF_BS-isect2.goodchrom2\n",
      "\t--recode\n",
      "\n",
      "After filtering, kept 117 out of 117 Individuals\n",
      "Outputting VCF file...\n",
      "After filtering, kept 168 out of a possible 13485 Sites\n",
      "Run Time = 0.00 seconds\n"
     ]
    }
   ],
   "source": [
    "%%sh\n",
    "suffix=Inputs/OL-c85-t10-x45m75-maf025\n",
    "vcftools --vcf $suffix.recode.vcf --recode --recode-INFO-all --positions Making_Files/x45m75maf025filt-pcaQ_OF_BS-isect2.goodchrom2 \\\n",
    "--max-alleles 2 --min-alleles 2 --out $suffix-outI2Union"
   ]
  },
  {
   "cell_type": "code",
   "execution_count": 8,
   "metadata": {},
   "outputs": [
    {
     "name": "stdout",
     "output_type": "stream",
     "text": [
      "Total SNPS: 13244\n",
      "Unlinked SNPs: 6110\n"
     ]
    }
   ],
   "source": [
    "infile = \"Inputs/OL-c85-t10-x45m75-maf025-neutI2.recode.vcf\"\n",
    "outfile = \"Inputs/OL-c85t10-x45m75-maf025-neutI2-u.vcf\"\n",
    "subsetSNPs(infile,outfile)"
   ]
  },
  {
   "cell_type": "code",
   "execution_count": 6,
   "metadata": {},
   "outputs": [
    {
     "name": "stdout",
     "output_type": "stream",
     "text": [
      "Total SNPS: 180\n",
      "Unlinked SNPs: 97\n"
     ]
    }
   ],
   "source": [
    "infile = \"Inputs/OL-c85-t10-x45m75-maf025-outI2Union.recode.vcf\"\n",
    "outfile = \"Inputs/OL-c85t10-x45m75-maf025-outI2Union-u.vcf\"\n",
    "subsetSNPs(infile,outfile)"
   ]
  }
 ],
 "metadata": {
  "kernelspec": {
   "display_name": "Python 2",
   "language": "python",
   "name": "python2"
  },
  "language_info": {
   "codemirror_mode": {
    "name": "ipython",
    "version": 2
   },
   "file_extension": ".py",
   "mimetype": "text/x-python",
   "name": "python",
   "nbconvert_exporter": "python",
   "pygments_lexer": "ipython2",
   "version": "2.7.12"
  }
 },
 "nbformat": 4,
 "nbformat_minor": 2
}
