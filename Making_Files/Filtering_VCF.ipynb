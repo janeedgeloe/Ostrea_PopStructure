{
 "cells": [
  {
   "cell_type": "markdown",
   "metadata": {
    "deletable": true,
    "editable": true
   },
   "source": [
    "# Filtering .vcf file from ipyrad"
   ]
  },
  {
   "cell_type": "markdown",
   "metadata": {
    "deletable": true,
    "editable": true
   },
   "source": [
    "This notebook details the secondary filtering I do with a .vcf file of SNPs directly from `ipyrad`. I use this notebook to:  \n",
    "1. filter out SNPs missing in > 25% of samples (`ipyrad` does this on a locus basis, but with indels and *N*s there could still be sites that are missing in a lot of samples), \n",
    "2. filter for only biallelic SNPs,\n",
    "3. filter out GBS loci containing SNPs with excess heterozygosity based on Hardy-Weinberg equilibrium in at least 2 populations, \n",
    "4. filter out SNPs with a minor allele frequency < 2.5%, and \n",
    "5. subset one SNP per GBS locus for analyses requiring unlinked loci.  \n",
    "\n",
    "Pay close attention to file paths if attempting to rerun this notebook, as they may be different on your computer. The directory structure used in this notebook assumes that you have downloaded the directory of output files produced by `ipyrad` from [Dryad](https://datadryad.org/resource/doi:10.5061/dryad.114j8m1/6) and unzipped it, so that you have a folder called `OL-s7filt45-c85-t10_outfiles`. Make sure to note the location of where you download this directory, as it will be required as input in the first code chunk. Most code chunks starts with `suffix=OL-c85t10-x45m75`. This suffix is added to the beginning of output files, and can be changed if desired. \n",
    "\n",
    "**Note:** I set the *max_shared_Hs_locus* parameter in `ipyrad` to 1.0 so it does not filter for excess heterozygotes across samples. "
   ]
  },
  {
   "cell_type": "markdown",
   "metadata": {},
   "source": [
    "## Filtering .vcf from *ipyrad*"
   ]
  },
  {
   "cell_type": "markdown",
   "metadata": {
    "deletable": true,
    "editable": true
   },
   "source": [
    "Use [VCFtools](https://vcftools.github.io/man_latest.html) to filter for polymorphic, biallelic loci and loci found in at least 75% of individuals. This is the full SNP dataset, before filtering for minor allele frequency and Hardy-Weinberg equilibrium."
   ]
  },
  {
   "cell_type": "code",
   "execution_count": 2,
   "metadata": {},
   "outputs": [
    {
     "name": "stderr",
     "output_type": "stream",
     "text": [
      "\n",
      "VCFtools - 0.1.15\n",
      "(C) Adam Auton and Anthony Marcketta 2009\n",
      "\n",
      "Parameters as interpreted:\n",
      "\t--vcf ../Assembly/OL-s7filt45-c85-t10_outfiles/OL-s7filt45-c85-t10.vcf\n",
      "\t--recode-INFO-all\n",
      "\t--max-alleles 2\n",
      "\t--min-alleles 2\n",
      "\t--max-missing 0.75\n",
      "\t--out OL-c85t10-x45m75\n",
      "\t--recode\n",
      "\n",
      "After filtering, kept 117 out of 117 Individuals\n",
      "Outputting VCF file...\n",
      "After filtering, kept 42118 out of a possible 58963 Sites\n",
      "Run Time = 5.00 seconds\n"
     ]
    }
   ],
   "source": [
    "%%sh\n",
    "suffix=OL-c85t10-x45m75\n",
    "## location of VCF file from ipyrad\n",
    "ipVCF=../Assembly/OL-s7filt45-c85-t10_outfiles/OL-s7filt45-c85-t10.vcf\n",
    "\n",
    "vcftools --vcf ${ipVCF} --recode --recode-INFO-all \\\n",
    "--min-alleles 2 --max-alleles 2 \\\n",
    "--max-missing 0.75 \\\n",
    "--out ${suffix}"
   ]
  },
  {
   "cell_type": "markdown",
   "metadata": {},
   "source": [
    "Create a file listing the number and proportion of SNPs missing in each individual. Also used as a list of individuals found in the file."
   ]
  },
  {
   "cell_type": "code",
   "execution_count": 3,
   "metadata": {},
   "outputs": [
    {
     "name": "stderr",
     "output_type": "stream",
     "text": [
      "\n",
      "VCFtools - 0.1.15\n",
      "(C) Adam Auton and Anthony Marcketta 2009\n",
      "\n",
      "Parameters as interpreted:\n",
      "\t--vcf OL-c85t10-x45m75.recode.vcf\n",
      "\t--missing-indv\n",
      "\t--out OL-c85t10-x45m75\n",
      "\n",
      "After filtering, kept 117 out of 117 Individuals\n",
      "Outputting Individual Missingness\n",
      "After filtering, kept 42118 out of a possible 42118 Sites\n",
      "Run Time = 1.00 seconds\n"
     ]
    }
   ],
   "source": [
    "%%sh\n",
    "suffix=OL-c85t10-x45m75\n",
    "vcftools --vcf $suffix.recode.vcf --missing-indv --out $suffix"
   ]
  },
  {
   "cell_type": "markdown",
   "metadata": {
    "deletable": true,
    "editable": true
   },
   "source": [
    "Write files with the sample name and either population (.pop) or all strata info (.strata). These are used for the heterozygosity filtering downstream and to convert the .vcf file to other file formats with the *radiator* package in R. It is dependent on the samples having their population coded as the first part of their name, then separated by an underscore. It uses the .imiss file created earlier in this notebook.  \n",
    "\n",
    "The .strata file is also available on [Dryad](https://datadryad.org/resource/doi:10.5061/dryad.114j8m1/5)."
   ]
  },
  {
   "cell_type": "code",
   "execution_count": 5,
   "metadata": {},
   "outputs": [],
   "source": [
    "IN = open(\"OL-c85t10-x45m75.imiss\",\"r\")\n",
    "OUT_strata = open(\"OL-c85t10-x45.strata\",\"w\")\n",
    "OUT_pop = open(\"OL-c85t10-x45.pop\",\"w\")\n",
    "loc_dict = {'BC1':['Victoria_BC', 'Victoria_BC', 'Puget+BC', '48.435667', '-123.377909'],\n",
    "            'BC2':['Klaskino_BC', 'Klaskino_BC', 'NWBC', '50.298667', '-127.723633'],\n",
    "            'BC3':['Barkley_BC', 'Barkley_BC', 'NWBC', '49.01585', '-125.314167'],\n",
    "            'BC4': ['Ladysmith_BC', 'Ladysmith_BC', 'Puget+BC','49.011383' ,'-123.8357'],\n",
    "            'WA12': ['TritonCove_WA', 'TritonCove_WA', 'Puget+BC', '47.6131', '-122.982'],\n",
    "            'WA11': ['Liberty_WA', 'Liberty_WA', 'Puget+BC', '47.7375', '-122.6507'],\n",
    "            'WA13': ['NorthBay_WA', 'NorthBay_WA', 'Puget+BC','47.3925', '-122.8138'],\n",
    "            'WA10': ['Discovery_WA', 'Discovery_WA', 'Puget+BC', '47.9978', '-122.8824'],\n",
    "            'WA1': ['Willapa_WA', 'NorthWillapa_WA', 'Willapa', '46.624772', '-123.9887916'],\n",
    "            'WA9': ['Willapa_WA', 'SouthWillapa_WA', 'Willapa', '46.44', '-124.004'],\n",
    "            'OR3': ['Netarts_OR', 'Netarts_OR', 'Oregon', '45.3911556', '-123.9559028'],\n",
    "            'OR2': ['Yaquina_OR', 'Yaquina_OR', 'Oregon', '44.579539', '-123.995749'],\n",
    "            'OR1': ['Coos_OR', 'Coos_OR', 'Willapa', '43.3559861', '-124.1931639'],\n",
    "            'CA6': ['Humboldt_CA', 'Humboldt_CA', 'NoCal', '40.8557972', '-124.0974611'],\n",
    "            'CA4': ['Tomales_CA', 'Tomales_CA', 'NoCal', '38.117549', '-122.874497'],\n",
    "            'CA2': ['NorthSanFran_CA', 'NorthSanFran_CA', 'NoCal', '37.955067', '-122.421800'],\n",
    "            'CA3': ['SouthSanFran_CA', 'SouthSanFran_CA', 'NoCal', '37.708665', '-122.377607'],\n",
    "            'CA5': ['Elkhorn_CA', 'Elkhorn_CA', 'SoCal', '36.8398194', '-121.7427806'],\n",
    "            'CA7': ['MuguLagoon_CA', 'MuguLagoon_CA', 'SoCal', '34.101914', '-119.10434'],\n",
    "            'CA1': ['SanDiego_CA', 'SanDiego_CA', 'SoCal', '32.602500', '-117.118889']}\n",
    "IN.next()\n",
    "OUT_strata.write(\"INDIVIDUALS\\tSTRATA\\tLOCATION\\tREGION\\tLATITUDE\\tLONGITUDE\\tLIBRARY\\n\")\n",
    "for line in IN:\n",
    "    name = line.split()[0]\n",
    "    pop = name.split(\"_\")[0]\n",
    "    library = name.split(\"_\")[2]\n",
    "    OUT_strata.write(name+\"\\t\"+'\\t'.join(map(str,loc_dict[pop]))+\"\\t\"+library+\"\\n\")\n",
    "    OUT_pop.write(name+\"\\t\"+loc_dict[pop][0]+\"\\n\")\n",
    "    \n",
    "IN.close()\n",
    "OUT_strata.close()\n",
    "OUT_pop.close()"
   ]
  },
  {
   "cell_type": "markdown",
   "metadata": {
    "deletable": true,
    "editable": true
   },
   "source": [
    "### Filtering loci by departures from Hardy-Weinberg"
   ]
  },
  {
   "cell_type": "markdown",
   "metadata": {
    "deletable": true,
    "editable": true
   },
   "source": [
    "Here I filter out loci that depart from Hardy-Weinberg equilibrium in at least 2 populations with a p-value cutoff of 0.05. It takes a .vcf file and the .pop file just created as input. This uses a script from [Jon Puritz's Github](https://github.com/jpuritz/dDocent/blob/master/scripts/filter_hwe_by_pop.pl), written by Chris Hollenbeck. "
   ]
  },
  {
   "cell_type": "code",
   "execution_count": 7,
   "metadata": {
    "collapsed": false,
    "deletable": true,
    "editable": true
   },
   "outputs": [
    {
     "name": "stdout",
     "output_type": "stream",
     "text": [
      "Processing population: Barkley_BC (5 inds)\n",
      "Processing population: Coos_OR (6 inds)\n",
      "Processing population: Discovery_WA (7 inds)\n",
      "Processing population: Elkhorn_CA (6 inds)\n",
      "Processing population: Humboldt_CA (6 inds)\n",
      "Processing population: Klaskino_BC (8 inds)\n",
      "Processing population: Ladysmith_BC (5 inds)\n",
      "Processing population: Liberty_WA (6 inds)\n",
      "Processing population: MuguLagoon_CA (9 inds)\n",
      "Processing population: Netarts_OR (7 inds)\n",
      "Processing population: NorthBay_WA (6 inds)\n",
      "Processing population: NorthSanFran_CA (5 inds)\n",
      "Processing population: SanDiego_CA (7 inds)\n",
      "Processing population: SouthSanFran_CA (4 inds)\n",
      "Processing population: Tomales_CA (6 inds)\n",
      "Processing population: TritonCove_WA (6 inds)\n",
      "Processing population: Victoria_BC (7 inds)\n",
      "Processing population: Willapa_WA (5 inds)\n",
      "Processing population: Yaquina_OR (6 inds)\n",
      "Outputting results of HWE test for filtered loci to 'filtered.hwe'\n",
      "Kept 41924 of a possible 42118 loci (filtered 194 loci)\n"
     ]
    }
   ],
   "source": [
    "%%sh\n",
    "suffix=OL-c85t10-x45m75\n",
    "## Filtering out loci that depart HWE in at least 2 populations with a p-value cutoff of 0.05\n",
    "../Scripts/filter_hwe_by_pop.pl -v $suffix.recode.vcf \\\n",
    "-p OL-c85t10-x45.pop -h 0.05 -c 0.09 -o $suffix-hwPbi\n",
    "\n",
    "mv exclude.hwe exclude.txt\n",
    "## remove intermediate files\n",
    "rm *.inds\n",
    "## Remove these if you don't want to inspect HWE results\n",
    "rm *.hwe"
   ]
  },
  {
   "cell_type": "markdown",
   "metadata": {
    "deletable": true,
    "editable": true
   },
   "source": [
    "The script only filters on a site-by-site basis. In order to throw out any GBS loci that had a SNP out of HWE (as these may be paralogs), I make a file with the locus ids to then submit to VCFtools."
   ]
  },
  {
   "cell_type": "code",
   "execution_count": 8,
   "metadata": {
    "collapsed": false,
    "deletable": true,
    "editable": true
   },
   "outputs": [
    {
     "name": "stdout",
     "output_type": "stream",
     "text": [
      "Loci to be filtered 149\n"
     ]
    }
   ],
   "source": [
    "## Make files of bad loci (that have at least one site out of HWE) to read in to in vcftools. \n",
    "IN = open('exclude.txt', \"r\")\n",
    "OUT = open('badchrom.txt', \"w\")\n",
    "exset = set()\n",
    "for line in IN:\n",
    "    chrom = line.split()[0]\n",
    "    if chrom not in exset:\n",
    "        exset.add(chrom)\n",
    "        OUT.write(\" --not-chr \"+str(chrom))\n",
    "OUT.close()\n",
    "IN.close()\n",
    "print \"Loci to be filtered \"+str(len(exset))"
   ]
  },
  {
   "cell_type": "markdown",
   "metadata": {
    "deletable": true,
    "editable": true
   },
   "source": [
    "The next code chunk will create a .vcf file that has just been filtered for missing data, biallelic SNPs, and HWE. This is not used in the analyses presented in the paper, so could be skipped if desired. First I make a folder called `Inputs/` to store all filtered files and subsequent input files for analyses."
   ]
  },
  {
   "cell_type": "code",
   "execution_count": 9,
   "metadata": {
    "collapsed": false,
    "deletable": true,
    "editable": true
   },
   "outputs": [
    {
     "name": "stderr",
     "output_type": "stream",
     "text": [
      "\n",
      "VCFtools - 0.1.15\n",
      "(C) Adam Auton and Anthony Marcketta 2009\n",
      "\n",
      "Parameters as interpreted:\n",
      "\t--vcf OL-c85t10-x45m75-hwPbi.recode.vcf\n",
      "\t--not-chr locus_101729\n",
      "\t--not-chr locus_105574\n",
      "\t--not-chr locus_105872\n",
      "\t--not-chr locus_108364\n",
      "\t--not-chr locus_11229\n",
      "\t--not-chr locus_11344\n",
      "\t--not-chr locus_122277\n",
      "\t--not-chr locus_123093\n",
      "\t--not-chr locus_124336\n",
      "\t--not-chr locus_126680\n",
      "\t--not-chr locus_13078\n",
      "\t--not-chr locus_135077\n",
      "\t--not-chr locus_139738\n",
      "\t--not-chr locus_145304\n",
      "\t--not-chr locus_147286\n",
      "\t--not-chr locus_152226\n",
      "\t--not-chr locus_156530\n",
      "\t--not-chr locus_156836\n",
      "\t--not-chr locus_15739\n",
      "\t--not-chr locus_157656\n",
      "\t--not-chr locus_164593\n",
      "\t--not-chr locus_168485\n",
      "\t--not-chr locus_17009\n",
      "\t--not-chr locus_17236\n",
      "\t--not-chr locus_173735\n",
      "\t--not-chr locus_17649\n",
      "\t--not-chr locus_183021\n",
      "\t--not-chr locus_183515\n",
      "\t--not-chr locus_183542\n",
      "\t--not-chr locus_184001\n",
      "\t--not-chr locus_185388\n",
      "\t--not-chr locus_185910\n",
      "\t--not-chr locus_186505\n",
      "\t--not-chr locus_186710\n",
      "\t--not-chr locus_19446\n",
      "\t--not-chr locus_194493\n",
      "\t--not-chr locus_194596\n",
      "\t--not-chr locus_196933\n",
      "\t--not-chr locus_197220\n",
      "\t--not-chr locus_197575\n",
      "\t--not-chr locus_197719\n",
      "\t--not-chr locus_198861\n",
      "\t--not-chr locus_198868\n",
      "\t--not-chr locus_198925\n",
      "\t--not-chr locus_199220\n",
      "\t--not-chr locus_199711\n",
      "\t--not-chr locus_208050\n",
      "\t--not-chr locus_20815\n",
      "\t--not-chr locus_2088\n",
      "\t--not-chr locus_218491\n",
      "\t--not-chr locus_219745\n",
      "\t--not-chr locus_223125\n",
      "\t--not-chr locus_232579\n",
      "\t--not-chr locus_234262\n",
      "\t--not-chr locus_238313\n",
      "\t--not-chr locus_238585\n",
      "\t--not-chr locus_239714\n",
      "\t--not-chr locus_243746\n",
      "\t--not-chr locus_2438\n",
      "\t--not-chr locus_248062\n",
      "\t--not-chr locus_248978\n",
      "\t--not-chr locus_249210\n",
      "\t--not-chr locus_250104\n",
      "\t--not-chr locus_250604\n",
      "\t--not-chr locus_250660\n",
      "\t--not-chr locus_254458\n",
      "\t--not-chr locus_254937\n",
      "\t--not-chr locus_255203\n",
      "\t--not-chr locus_255661\n",
      "\t--not-chr locus_260670\n",
      "\t--not-chr locus_26382\n",
      "\t--not-chr locus_268570\n",
      "\t--not-chr locus_269694\n",
      "\t--not-chr locus_272212\n",
      "\t--not-chr locus_280004\n",
      "\t--not-chr locus_283235\n",
      "\t--not-chr locus_283315\n",
      "\t--not-chr locus_283456\n",
      "\t--not-chr locus_285581\n",
      "\t--not-chr locus_286427\n",
      "\t--not-chr locus_290975\n",
      "\t--not-chr locus_291712\n",
      "\t--not-chr locus_292967\n",
      "\t--not-chr locus_293019\n",
      "\t--not-chr locus_293519\n",
      "\t--not-chr locus_294566\n",
      "\t--not-chr locus_295582\n",
      "\t--not-chr locus_300602\n",
      "\t--not-chr locus_304229\n",
      "\t--not-chr locus_307854\n",
      "\t--not-chr locus_314539\n",
      "\t--not-chr locus_317553\n",
      "\t--not-chr locus_322427\n",
      "\t--not-chr locus_32312\n",
      "\t--not-chr locus_325078\n",
      "\t--not-chr locus_325205\n",
      "\t--not-chr locus_325772\n",
      "\t--not-chr locus_328411\n",
      "\t--not-chr locus_328866\n",
      "\t--not-chr locus_330588\n",
      "\t--not-chr locus_331864\n",
      "\t--not-chr locus_334037\n",
      "\t--not-chr locus_337527\n",
      "\t--not-chr locus_337980\n",
      "\t--not-chr locus_340827\n",
      "\t--not-chr locus_340831\n",
      "\t--not-chr locus_348290\n",
      "\t--not-chr locus_350341\n",
      "\t--not-chr locus_350745\n",
      "\t--not-chr locus_37167\n",
      "\t--not-chr locus_44012\n",
      "\t--not-chr locus_44101\n",
      "\t--not-chr locus_4453\n",
      "\t--not-chr locus_44830\n",
      "\t--not-chr locus_46305\n",
      "\t--not-chr locus_48082\n",
      "\t--not-chr locus_48629\n",
      "\t--not-chr locus_48813\n",
      "\t--not-chr locus_49575\n",
      "\t--not-chr locus_5121\n",
      "\t--not-chr locus_54068\n",
      "\t--not-chr locus_54553\n",
      "\t--not-chr locus_56686\n",
      "\t--not-chr locus_57411\n",
      "\t--not-chr locus_57482\n",
      "\t--not-chr locus_65125\n",
      "\t--not-chr locus_6702\n",
      "\t--not-chr locus_75475\n",
      "\t--not-chr locus_78021\n",
      "\t--not-chr locus_78574\n",
      "\t--not-chr locus_79010\n",
      "\t--not-chr locus_79110\n",
      "\t--not-chr locus_80126\n",
      "\t--not-chr locus_80522\n",
      "\t--not-chr locus_82196\n",
      "\t--not-chr locus_8364\n",
      "\t--not-chr locus_8632\n",
      "\t--not-chr locus_87777\n",
      "\t--not-chr locus_89353\n",
      "\t--not-chr locus_91590\n",
      "\t--not-chr locus_92925\n",
      "\t--not-chr locus_95272\n",
      "\t--not-chr locus_95373\n",
      "\t--not-chr locus_9619\n",
      "\t--not-chr locus_9681\n",
      "\t--not-chr locus_96856\n",
      "\t--not-chr locus_97800\n",
      "\t--not-chr locus_98916\n",
      "\t--not-chr locus_99574\n",
      "\t--recode-INFO-all\n",
      "\t--max-alleles 2\n",
      "\t--min-alleles 2\n",
      "\t--out Inputs/OL-c85t10-x45m75-filt\n",
      "\t--recode\n",
      "\n",
      "After filtering, kept 117 out of 117 Individuals\n",
      "Outputting VCF file...\n",
      "After filtering, kept 41159 out of a possible 41924 Sites\n",
      "Run Time = 4.00 seconds\n"
     ]
    }
   ],
   "source": [
    "%%sh\n",
    "mkdir Inputs\n",
    "## -filt are all SNPs, not filtering for minor allele frequency\n",
    "value=`cat badchrom.txt`\n",
    "suffix=OL-c85t10-x45m75\n",
    "\n",
    "vcftools --vcf $suffix-hwPbi.recode.vcf --recode \\\n",
    "--recode-INFO-all $value --max-alleles 2 --min-alleles 2 --out Inputs/$suffix-filt"
   ]
  },
  {
   "cell_type": "markdown",
   "metadata": {},
   "source": [
    "The next code chunk will create a .vcf file that has just been filtered for missing data, biallelic SNPs, HWE, and a minor allele frequency of 2.5%. This file is used to create input files for subsequent analyses presented in the paper."
   ]
  },
  {
   "cell_type": "code",
   "execution_count": 11,
   "metadata": {
    "collapsed": false,
    "deletable": true,
    "editable": true
   },
   "outputs": [
    {
     "name": "stderr",
     "output_type": "stream",
     "text": [
      "\n",
      "VCFtools - 0.1.15\n",
      "(C) Adam Auton and Anthony Marcketta 2009\n",
      "\n",
      "Parameters as interpreted:\n",
      "\t--vcf OL-c85t10-x45m75-hwPbi.recode.vcf\n",
      "\t--not-chr locus_101729\n",
      "\t--not-chr locus_105574\n",
      "\t--not-chr locus_105872\n",
      "\t--not-chr locus_108364\n",
      "\t--not-chr locus_11229\n",
      "\t--not-chr locus_11344\n",
      "\t--not-chr locus_122277\n",
      "\t--not-chr locus_123093\n",
      "\t--not-chr locus_124336\n",
      "\t--not-chr locus_126680\n",
      "\t--not-chr locus_13078\n",
      "\t--not-chr locus_135077\n",
      "\t--not-chr locus_139738\n",
      "\t--not-chr locus_145304\n",
      "\t--not-chr locus_147286\n",
      "\t--not-chr locus_152226\n",
      "\t--not-chr locus_156530\n",
      "\t--not-chr locus_156836\n",
      "\t--not-chr locus_15739\n",
      "\t--not-chr locus_157656\n",
      "\t--not-chr locus_164593\n",
      "\t--not-chr locus_168485\n",
      "\t--not-chr locus_17009\n",
      "\t--not-chr locus_17236\n",
      "\t--not-chr locus_173735\n",
      "\t--not-chr locus_17649\n",
      "\t--not-chr locus_183021\n",
      "\t--not-chr locus_183515\n",
      "\t--not-chr locus_183542\n",
      "\t--not-chr locus_184001\n",
      "\t--not-chr locus_185388\n",
      "\t--not-chr locus_185910\n",
      "\t--not-chr locus_186505\n",
      "\t--not-chr locus_186710\n",
      "\t--not-chr locus_19446\n",
      "\t--not-chr locus_194493\n",
      "\t--not-chr locus_194596\n",
      "\t--not-chr locus_196933\n",
      "\t--not-chr locus_197220\n",
      "\t--not-chr locus_197575\n",
      "\t--not-chr locus_197719\n",
      "\t--not-chr locus_198861\n",
      "\t--not-chr locus_198868\n",
      "\t--not-chr locus_198925\n",
      "\t--not-chr locus_199220\n",
      "\t--not-chr locus_199711\n",
      "\t--not-chr locus_208050\n",
      "\t--not-chr locus_20815\n",
      "\t--not-chr locus_2088\n",
      "\t--not-chr locus_218491\n",
      "\t--not-chr locus_219745\n",
      "\t--not-chr locus_223125\n",
      "\t--not-chr locus_232579\n",
      "\t--not-chr locus_234262\n",
      "\t--not-chr locus_238313\n",
      "\t--not-chr locus_238585\n",
      "\t--not-chr locus_239714\n",
      "\t--not-chr locus_243746\n",
      "\t--not-chr locus_2438\n",
      "\t--not-chr locus_248062\n",
      "\t--not-chr locus_248978\n",
      "\t--not-chr locus_249210\n",
      "\t--not-chr locus_250104\n",
      "\t--not-chr locus_250604\n",
      "\t--not-chr locus_250660\n",
      "\t--not-chr locus_254458\n",
      "\t--not-chr locus_254937\n",
      "\t--not-chr locus_255203\n",
      "\t--not-chr locus_255661\n",
      "\t--not-chr locus_260670\n",
      "\t--not-chr locus_26382\n",
      "\t--not-chr locus_268570\n",
      "\t--not-chr locus_269694\n",
      "\t--not-chr locus_272212\n",
      "\t--not-chr locus_280004\n",
      "\t--not-chr locus_283235\n",
      "\t--not-chr locus_283315\n",
      "\t--not-chr locus_283456\n",
      "\t--not-chr locus_285581\n",
      "\t--not-chr locus_286427\n",
      "\t--not-chr locus_290975\n",
      "\t--not-chr locus_291712\n",
      "\t--not-chr locus_292967\n",
      "\t--not-chr locus_293019\n",
      "\t--not-chr locus_293519\n",
      "\t--not-chr locus_294566\n",
      "\t--not-chr locus_295582\n",
      "\t--not-chr locus_300602\n",
      "\t--not-chr locus_304229\n",
      "\t--not-chr locus_307854\n",
      "\t--not-chr locus_314539\n",
      "\t--not-chr locus_317553\n",
      "\t--not-chr locus_322427\n",
      "\t--not-chr locus_32312\n",
      "\t--not-chr locus_325078\n",
      "\t--not-chr locus_325205\n",
      "\t--not-chr locus_325772\n",
      "\t--not-chr locus_328411\n",
      "\t--not-chr locus_328866\n",
      "\t--not-chr locus_330588\n",
      "\t--not-chr locus_331864\n",
      "\t--not-chr locus_334037\n",
      "\t--not-chr locus_337527\n",
      "\t--not-chr locus_337980\n",
      "\t--not-chr locus_340827\n",
      "\t--not-chr locus_340831\n",
      "\t--not-chr locus_348290\n",
      "\t--not-chr locus_350341\n",
      "\t--not-chr locus_350745\n",
      "\t--not-chr locus_37167\n",
      "\t--not-chr locus_44012\n",
      "\t--not-chr locus_44101\n",
      "\t--not-chr locus_4453\n",
      "\t--not-chr locus_44830\n",
      "\t--not-chr locus_46305\n",
      "\t--not-chr locus_48082\n",
      "\t--not-chr locus_48629\n",
      "\t--not-chr locus_48813\n",
      "\t--not-chr locus_49575\n",
      "\t--not-chr locus_5121\n",
      "\t--not-chr locus_54068\n",
      "\t--not-chr locus_54553\n",
      "\t--not-chr locus_56686\n",
      "\t--not-chr locus_57411\n",
      "\t--not-chr locus_57482\n",
      "\t--not-chr locus_65125\n",
      "\t--not-chr locus_6702\n",
      "\t--not-chr locus_75475\n",
      "\t--not-chr locus_78021\n",
      "\t--not-chr locus_78574\n",
      "\t--not-chr locus_79010\n",
      "\t--not-chr locus_79110\n",
      "\t--not-chr locus_80126\n",
      "\t--not-chr locus_80522\n",
      "\t--not-chr locus_82196\n",
      "\t--not-chr locus_8364\n",
      "\t--not-chr locus_8632\n",
      "\t--not-chr locus_87777\n",
      "\t--not-chr locus_89353\n",
      "\t--not-chr locus_91590\n",
      "\t--not-chr locus_92925\n",
      "\t--not-chr locus_95272\n",
      "\t--not-chr locus_95373\n",
      "\t--not-chr locus_9619\n",
      "\t--not-chr locus_9681\n",
      "\t--not-chr locus_96856\n",
      "\t--not-chr locus_97800\n",
      "\t--not-chr locus_98916\n",
      "\t--not-chr locus_99574\n",
      "\t--recode-INFO-all\n",
      "\t--maf 0.025\n",
      "\t--max-alleles 2\n",
      "\t--min-alleles 2\n",
      "\t--out Inputs/OL-c85t10-x45m75-maf025\n",
      "\t--recode\n",
      "\n",
      "After filtering, kept 117 out of 117 Individuals\n",
      "Outputting VCF file...\n",
      "After filtering, kept 13487 out of a possible 41924 Sites\n",
      "Run Time = 2.00 seconds\n"
     ]
    }
   ],
   "source": [
    "%%sh\n",
    "## -maf025 are SNPs after filtering for minor allele frequency of 2.5%\n",
    "value=`cat badchrom.txt`\n",
    "suffix=OL-c85t10-x45m75\n",
    "\n",
    "vcftools --vcf $suffix-hwPbi.recode.vcf --recode --recode-INFO-all \\\n",
    "$value --max-alleles 2 --min-alleles 2 --maf 0.025 --out Inputs/$suffix-maf025"
   ]
  },
  {
   "cell_type": "markdown",
   "metadata": {
    "deletable": true,
    "editable": true
   },
   "source": [
    "## Subset one SNP per GBS locus\n",
    "Some analyses, like PCA and TreeMix, require unlinked loci. To try and meet this requirement, I create a .vcf file with only 1 SNP per GBS locus. "
   ]
  },
  {
   "cell_type": "code",
   "execution_count": 12,
   "metadata": {},
   "outputs": [],
   "source": [
    "## Code to subset one SNP per GBS locus from a VCF file. Chooses the SNP\n",
    "## with the highest sample coverage. If there is a tie, chooses the 1st SNP in the loci. \n",
    "## May be specific to VCF format output from ipyrad.\n",
    "## This is also in script format in Github as subsetSNPs.py\n",
    "\n",
    "## With help from Michael A. Alcorn\n",
    "def subsetSNPs(inputfile, outputfile):\n",
    "    IN = open(inputfile, \"r\")\n",
    "    OUT = open(outputfile, \"w\")\n",
    "\n",
    "    current_locus = None\n",
    "    best_NS = 0\n",
    "    best_line = None\n",
    "    snps = 0\n",
    "    loci = 0\n",
    "    for line in IN:\n",
    "        if line[0] == \"#\":\n",
    "             # Write header.\n",
    "             OUT.write(line)\n",
    "        else:\n",
    "            snps += 1\n",
    "            parts = line.split()\n",
    "            locus = parts[0]\n",
    "            if current_locus != locus:\n",
    "                if current_locus is not None:\n",
    "                    loci += 1\n",
    "                    OUT.write(best_line)\n",
    "                \n",
    "                current_locus = locus\n",
    "                best_NS = 0\n",
    "                best_line = \"\"\n",
    "            \n",
    "            # Column 7 is INFO column of VCF file.\n",
    "            NS = float(parts[7].split(\";\")[0].split(\"=\")[1])\n",
    "            if NS > best_NS:\n",
    "                best_NS = NS\n",
    "                best_line = line\n",
    "            \n",
    "    loci += 1\n",
    "    OUT.write(best_line)\n",
    "    IN.close()\n",
    "    print(\"Total SNPS: \" + str(snps) + \"\\nUnlinked SNPs: \" + str(loci))\n",
    "    OUT.close()\n"
   ]
  },
  {
   "cell_type": "code",
   "execution_count": 13,
   "metadata": {},
   "outputs": [
    {
     "name": "stdout",
     "output_type": "stream",
     "text": [
      "Total SNPS: 42118\n",
      "Unlinked SNPs: 9845\n"
     ]
    }
   ],
   "source": [
    "## Total, unfiltered loci. Not used in paper, so may skip if desired.\n",
    "infile = \"OL-c85t10-x45m75.recode.vcf\"\n",
    "outfile = \"OL-c85t10-x45m75-full-u.vcf\"\n",
    "subsetSNPs(infile,outfile)"
   ]
  },
  {
   "cell_type": "code",
   "execution_count": 15,
   "metadata": {},
   "outputs": [
    {
     "name": "stdout",
     "output_type": "stream",
     "text": [
      "Total SNPS: 41159\n",
      "Unlinked SNPs: 9696\n"
     ]
    }
   ],
   "source": [
    "## File without MAF filtering. May skip of desired\n",
    "infile = \"Inputs/OL-c85t10-x45m75-filt.recode.vcf\"\n",
    "outfile = \"Inputs/OL-c85t10-x45m75-u.vcf\"\n",
    "subsetSNPs(infile,outfile)"
   ]
  },
  {
   "cell_type": "code",
   "execution_count": 16,
   "metadata": {},
   "outputs": [
    {
     "name": "stdout",
     "output_type": "stream",
     "text": [
      "Total SNPS: 13487\n",
      "Unlinked SNPs: 6208\n"
     ]
    }
   ],
   "source": [
    "## File with MAF filtering \n",
    "## Creates file used in paper\n",
    "infile = \"Inputs/OL-c85t10-x45m75-maf025.recode.vcf\"\n",
    "outfile = \"Inputs/OL-c85t10-x45m75-maf025-u.vcf\"\n",
    "subsetSNPs(infile,outfile)"
   ]
  },
  {
   "cell_type": "markdown",
   "metadata": {},
   "source": [
    "# Making outlier-only and neutral-only .vcf files\n",
    "This section is only to be done after outlier loci have been identified. VCFtools is used to filter out outlier loci to create an outlier-only .vcf and a putative neutral-only .vcf."
   ]
  },
  {
   "cell_type": "markdown",
   "metadata": {},
   "source": [
    "### Intersect 2"
   ]
  },
  {
   "cell_type": "code",
   "execution_count": 12,
   "metadata": {},
   "outputs": [
    {
     "name": "stdout",
     "output_type": "stream",
     "text": [
      "129\n",
      "235\n"
     ]
    }
   ],
   "source": [
    "#Make files of bad loci (that have at least one site with an outlier) to feed to vcftools. \n",
    "#IN = open('Outlier/x45m75maf025filt-pcaQ_OF_BS-isect2.snp', \"r\")\n",
    "IN = open('Outlier/x45m75maf025filt-pcaQ_OF_BS10-isectUnion.snp',\"r\")\n",
    "INL = open('Outlier/x45m75maf025filt-pcaQ_OF_BS10-isect2.loci',\"r\")\n",
    "OUT = open('Making_Files/x45m75maf025filt-pcaQ_OF_BS10-isect2.badchrom', \"w\")\n",
    "OUTg2 = open('Making_Files/x45m75maf025filt-pcaQ_OF_BS10-isect2.goodchrom', \"w\")\n",
    "exset = set()\n",
    "for line in INL:\n",
    "    chrom = line.strip()\n",
    "    if chrom not in exset:\n",
    "        exset.add(chrom)\n",
    "        OUT.write(\" --not-chr locus_\"+str(chrom))\n",
    "print len(exset)\n",
    "x = 0\n",
    "for line in IN:\n",
    "    chrom = line.strip().split(\"_\")[1]\n",
    "    snp = line.strip().split(\"_\")[3]\n",
    "    OUTg2.write(\"locus_\"+chrom+\"\\t\"+snp+\"\\n\")\n",
    "    x += 1\n",
    "print x\n",
    "OUT.close()\n",
    "OUTg2.close()\n",
    "IN.close()\n",
    "INL.close()"
   ]
  },
  {
   "cell_type": "code",
   "execution_count": 13,
   "metadata": {},
   "outputs": [
    {
     "name": "stderr",
     "output_type": "stream",
     "text": [
      "\n",
      "VCFtools - 0.1.15\n",
      "(C) Adam Auton and Anthony Marcketta 2009\n",
      "\n",
      "Parameters as interpreted:\n",
      "\t--vcf Inputs/OL-c85t10-x45m75-maf025.recode.vcf\n",
      "\t--not-chr locus_101035\n",
      "\t--not-chr locus_102819\n",
      "\t--not-chr locus_104611\n",
      "\t--not-chr locus_104742\n",
      "\t--not-chr locus_104832\n",
      "\t--not-chr locus_10670\n",
      "\t--not-chr locus_107169\n",
      "\t--not-chr locus_110252\n",
      "\t--not-chr locus_11196\n",
      "\t--not-chr locus_113174\n",
      "\t--not-chr locus_113647\n",
      "\t--not-chr locus_115948\n",
      "\t--not-chr locus_11774\n",
      "\t--not-chr locus_11905\n",
      "\t--not-chr locus_120275\n",
      "\t--not-chr locus_121489\n",
      "\t--not-chr locus_121492\n",
      "\t--not-chr locus_123004\n",
      "\t--not-chr locus_124257\n",
      "\t--not-chr locus_12991\n",
      "\t--not-chr locus_131325\n",
      "\t--not-chr locus_134081\n",
      "\t--not-chr locus_134388\n",
      "\t--not-chr locus_13818\n",
      "\t--not-chr locus_144194\n",
      "\t--not-chr locus_145020\n",
      "\t--not-chr locus_153852\n",
      "\t--not-chr locus_153863\n",
      "\t--not-chr locus_162959\n",
      "\t--not-chr locus_16337\n",
      "\t--not-chr locus_170867\n",
      "\t--not-chr locus_171395\n",
      "\t--not-chr locus_172232\n",
      "\t--not-chr locus_17308\n",
      "\t--not-chr locus_17359\n",
      "\t--not-chr locus_17888\n",
      "\t--not-chr locus_18220\n",
      "\t--not-chr locus_18437\n",
      "\t--not-chr locus_185179\n",
      "\t--not-chr locus_18554\n",
      "\t--not-chr locus_187013\n",
      "\t--not-chr locus_194092\n",
      "\t--not-chr locus_19467\n",
      "\t--not-chr locus_194810\n",
      "\t--not-chr locus_196263\n",
      "\t--not-chr locus_198326\n",
      "\t--not-chr locus_199618\n",
      "\t--not-chr locus_199936\n",
      "\t--not-chr locus_200167\n",
      "\t--not-chr locus_215711\n",
      "\t--not-chr locus_219420\n",
      "\t--not-chr locus_222051\n",
      "\t--not-chr locus_22917\n",
      "\t--not-chr locus_237137\n",
      "\t--not-chr locus_23735\n",
      "\t--not-chr locus_250818\n",
      "\t--not-chr locus_251168\n",
      "\t--not-chr locus_251628\n",
      "\t--not-chr locus_252560\n",
      "\t--not-chr locus_253320\n",
      "\t--not-chr locus_253664\n",
      "\t--not-chr locus_254657\n",
      "\t--not-chr locus_256727\n",
      "\t--not-chr locus_263222\n",
      "\t--not-chr locus_267489\n",
      "\t--not-chr locus_268598\n",
      "\t--not-chr locus_270303\n",
      "\t--not-chr locus_274413\n",
      "\t--not-chr locus_274487\n",
      "\t--not-chr locus_276278\n",
      "\t--not-chr locus_277490\n",
      "\t--not-chr locus_280479\n",
      "\t--not-chr locus_284915\n",
      "\t--not-chr locus_285901\n",
      "\t--not-chr locus_290471\n",
      "\t--not-chr locus_291095\n",
      "\t--not-chr locus_291771\n",
      "\t--not-chr locus_292100\n",
      "\t--not-chr locus_292179\n",
      "\t--not-chr locus_292226\n",
      "\t--not-chr locus_292692\n",
      "\t--not-chr locus_292806\n",
      "\t--not-chr locus_299038\n",
      "\t--not-chr locus_300901\n",
      "\t--not-chr locus_314049\n",
      "\t--not-chr locus_316062\n",
      "\t--not-chr locus_317026\n",
      "\t--not-chr locus_318078\n",
      "\t--not-chr locus_319929\n",
      "\t--not-chr locus_320076\n",
      "\t--not-chr locus_324480\n",
      "\t--not-chr locus_32923\n",
      "\t--not-chr locus_329859\n",
      "\t--not-chr locus_330617\n",
      "\t--not-chr locus_331689\n",
      "\t--not-chr locus_333717\n",
      "\t--not-chr locus_335279\n",
      "\t--not-chr locus_337363\n",
      "\t--not-chr locus_339161\n",
      "\t--not-chr locus_339584\n",
      "\t--not-chr locus_339916\n",
      "\t--not-chr locus_351511\n",
      "\t--not-chr locus_42\n",
      "\t--not-chr locus_42995\n",
      "\t--not-chr locus_44811\n",
      "\t--not-chr locus_4610\n",
      "\t--not-chr locus_46112\n",
      "\t--not-chr locus_46378\n",
      "\t--not-chr locus_5049\n",
      "\t--not-chr locus_50945\n",
      "\t--not-chr locus_51669\n",
      "\t--not-chr locus_54082\n",
      "\t--not-chr locus_5648\n",
      "\t--not-chr locus_56796\n",
      "\t--not-chr locus_57217\n",
      "\t--not-chr locus_57363\n",
      "\t--not-chr locus_6021\n",
      "\t--not-chr locus_6412\n",
      "\t--not-chr locus_66381\n",
      "\t--not-chr locus_6721\n",
      "\t--not-chr locus_7299\n",
      "\t--not-chr locus_82065\n",
      "\t--not-chr locus_82413\n",
      "\t--not-chr locus_91276\n",
      "\t--not-chr locus_92682\n",
      "\t--not-chr locus_96183\n",
      "\t--not-chr locus_96658\n",
      "\t--not-chr locus_9672\n",
      "\t--not-chr locus_98257\n",
      "\t--recode-INFO-all\n",
      "\t--max-alleles 2\n",
      "\t--min-alleles 2\n",
      "\t--out Inputs/OL-c85t10-x45m75-maf025-neutI2\n",
      "\t--recode\n",
      "\n",
      "After filtering, kept 117 out of 117 Individuals\n",
      "Outputting VCF file...\n",
      "After filtering, kept 13136 out of a possible 13487 Sites\n",
      "Run Time = 1.00 seconds\n"
     ]
    }
   ],
   "source": [
    "%%sh\n",
    "suffix=Inputs/OL-c85t10-x45m75-maf025\n",
    "value=`cat Making_Files/x45m75maf025filt-pcaQ_OF_BS10-isect2.badchrom`\n",
    "vcftools --vcf $suffix.recode.vcf --recode --recode-INFO-all $value \\\n",
    "--max-alleles 2 --min-alleles 2 --out $suffix-neutI2"
   ]
  },
  {
   "cell_type": "markdown",
   "metadata": {},
   "source": [
    "Filters X SNPs, kept 13,136 SNPS "
   ]
  },
  {
   "cell_type": "code",
   "execution_count": 14,
   "metadata": {},
   "outputs": [
    {
     "name": "stderr",
     "output_type": "stream",
     "text": [
      "\n",
      "VCFtools - 0.1.15\n",
      "(C) Adam Auton and Anthony Marcketta 2009\n",
      "\n",
      "Parameters as interpreted:\n",
      "\t--vcf Inputs/OL-c85t10-x45m75-maf025.recode.vcf\n",
      "\t--recode-INFO-all\n",
      "\t--max-alleles 2\n",
      "\t--min-alleles 2\n",
      "\t--out Inputs/OL-c85t10-x45m75-maf025-outI2Union\n",
      "\t--positions Making_Files/x45m75maf025filt-pcaQ_OF_BS10-isect2.goodchrom\n",
      "\t--recode\n",
      "\n",
      "After filtering, kept 117 out of 117 Individuals\n",
      "Outputting VCF file...\n",
      "After filtering, kept 235 out of a possible 13487 Sites\n",
      "Run Time = 0.00 seconds\n"
     ]
    }
   ],
   "source": [
    "%%sh\n",
    "suffix=Inputs/OL-c85t10-x45m75-maf025\n",
    "vcftools --vcf $suffix.recode.vcf --recode --recode-INFO-all --positions Making_Files/x45m75maf025filt-pcaQ_OF_BS10-isect2.goodchrom \\\n",
    "--max-alleles 2 --min-alleles 2 --out $suffix-outI2Union"
   ]
  },
  {
   "cell_type": "code",
   "execution_count": 15,
   "metadata": {},
   "outputs": [
    {
     "name": "stdout",
     "output_type": "stream",
     "text": [
      "Total SNPS: 13136\n",
      "Unlinked SNPs: 6079\n"
     ]
    }
   ],
   "source": [
    "infile = \"Inputs/OL-c85t10-x45m75-maf025-neutI2.recode.vcf\"\n",
    "outfile = \"Inputs/OL-c85t10-x45m75-maf025-neutI2-u.vcf\"\n",
    "subsetSNPsM(infile,outfile)"
   ]
  },
  {
   "cell_type": "code",
   "execution_count": 16,
   "metadata": {},
   "outputs": [
    {
     "name": "stdout",
     "output_type": "stream",
     "text": [
      "Total SNPS: 235\n",
      "Unlinked SNPs: 129\n"
     ]
    }
   ],
   "source": [
    "infile = \"Inputs/OL-c85t10-x45m75-maf025-outI2Union.recode.vcf\"\n",
    "outfile = \"Inputs/OL-c85t10-x45m75-maf025-outI2Union-u.vcf\"\n",
    "subsetSNPsM(infile,outfile)"
   ]
  },
  {
   "cell_type": "code",
   "execution_count": null,
   "metadata": {},
   "outputs": [],
   "source": []
  }
 ],
 "metadata": {
  "kernelspec": {
   "display_name": "Python 2",
   "language": "python",
   "name": "python2"
  },
  "language_info": {
   "codemirror_mode": {
    "name": "ipython",
    "version": 2
   },
   "file_extension": ".py",
   "mimetype": "text/x-python",
   "name": "python",
   "nbconvert_exporter": "python",
   "pygments_lexer": "ipython2",
   "version": "2.7.12"
  }
 },
 "nbformat": 4,
 "nbformat_minor": 2
}
