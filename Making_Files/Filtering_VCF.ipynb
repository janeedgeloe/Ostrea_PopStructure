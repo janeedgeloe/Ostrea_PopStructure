{
 "cells": [
  {
   "cell_type": "markdown",
   "metadata": {
    "deletable": true,
    "editable": true
   },
   "source": [
    "# Filtering .vcf file from ipyrad"
   ]
  },
  {
   "cell_type": "markdown",
   "metadata": {
    "deletable": true,
    "editable": true
   },
   "source": [
    "This notebook details the secondary filtering I do with a .vcf directly from ipyrad. I use this notebook to:  \n",
    "1) filter out individuals with greater than a certain threshold of missing data,  \n",
    "3) filter out loci missing in a certain percentage of samples (note: ipyrad does this on a locus basis, but with indels and Ns there could still be sites that are missing in a lot of samples),  \n",
    "4) filter for a certain minor allele frequency  \n",
    "5) filter out loci with excess heterozygosity within populations based on Hardy-Weinberg equilibrium \\*  \n",
    "6) filter out loci significantly out of H-W equilibrium within populations  \n",
    "7) filter for only biallelic SNPs  \n",
    "8) use python code to select 1 SNP per GBS locus for analyses like PCA that require an \"unlinked\" dataset\n",
    "\n",
    "\n",
    "\\*Note: I set the *max_shared_Hs_locus* parameter in ipyrad to 1.0 so it does not filter for excess heterozygotes across samples. "
   ]
  },
  {
   "cell_type": "code",
   "execution_count": 1,
   "metadata": {
    "collapsed": false,
    "deletable": true,
    "editable": true
   },
   "outputs": [
    {
     "name": "stdout",
     "output_type": "stream",
     "text": [
      "07/25/18\n"
     ]
    }
   ],
   "source": [
    "%%sh\n",
    "date \"+%D\""
   ]
  },
  {
   "cell_type": "code",
   "execution_count": 2,
   "metadata": {
    "collapsed": false,
    "deletable": true,
    "editable": true
   },
   "outputs": [
    {
     "data": {
      "text/plain": [
       "u'/home/ksilliman/Projects/Phylo_Ostrea/Analysis'"
      ]
     },
     "execution_count": 2,
     "metadata": {},
     "output_type": "execute_result"
    }
   ],
   "source": [
    "pwd"
   ]
  },
  {
   "cell_type": "markdown",
   "metadata": {
    "deletable": true,
    "editable": true
   },
   "source": [
    "### Filtering out individuals"
   ]
  },
  {
   "cell_type": "markdown",
   "metadata": {
    "deletable": true,
    "editable": true
   },
   "source": [
    "Removing loci with greater than 60% missing data and filtering for polymorphic biallelic SNPs. Remove BC4_13_C3 for now, need to redo assembly."
   ]
  },
  {
   "cell_type": "code",
   "execution_count": 3,
   "metadata": {
    "collapsed": false,
    "deletable": true,
    "editable": true
   },
   "outputs": [
    {
     "name": "stderr",
     "output_type": "stream",
     "text": [
      "\n",
      "VCFtools - 0.1.15\n",
      "(C) Adam Auton and Anthony Marcketta 2009\n",
      "\n",
      "Parameters as interpreted:\n",
      "\t--vcf Assembly/OL-final-c85-t88-Breps-m50_outfiles/OL-final-c85-t88-Breps-m50.vcf\n",
      "\t--recode-INFO-all\n",
      "\t--max-alleles 2\n",
      "\t--min-alleles 2\n",
      "\t--max-missing 0.6\n",
      "\t--out Making_Files/OL-final-c85-t88-Breps-m60\n",
      "\t--recode\n",
      "\t--remove-indv BC4_13_C3\n",
      "\n",
      "Excluding individuals in 'exclude' list\n",
      "After filtering, kept 136 out of 137 Individuals\n",
      "Outputting VCF file...\n",
      "After filtering, kept 72831 out of a possible 114545 Sites\n",
      "Run Time = 12.00 seconds\n"
     ]
    }
   ],
   "source": [
    "%%sh\n",
    "suffix=Making_Files/OL-final-c85-t88-Breps\n",
    "vcftools --vcf Assembly/OL-final-c85-t88-Breps-m50_outfiles/OL-final-c85-t88-Breps-m50.vcf --remove-indv BC4_13_C3 --recode \\\n",
    "--recode-INFO-all --max-missing 0.60 --min-alleles 2 --max-alleles 2 --out $suffix-m60"
   ]
  },
  {
   "cell_type": "markdown",
   "metadata": {
    "deletable": true,
    "editable": true
   },
   "source": [
    "Making a file with the percent missingness for each individual."
   ]
  },
  {
   "cell_type": "code",
   "execution_count": 4,
   "metadata": {
    "collapsed": false,
    "deletable": true,
    "editable": true
   },
   "outputs": [
    {
     "name": "stderr",
     "output_type": "stream",
     "text": [
      "\n",
      "VCFtools - 0.1.15\n",
      "(C) Adam Auton and Anthony Marcketta 2009\n",
      "\n",
      "Parameters as interpreted:\n",
      "\t--vcf Making_Files/OL-final-c85-t88-Breps-m60.recode.vcf\n",
      "\t--missing-indv\n",
      "\t--out Making_Files/OL-final-c85-t88-Breps-m60\n",
      "\n",
      "After filtering, kept 136 out of 136 Individuals\n",
      "Outputting Individual Missingness\n",
      "After filtering, kept 72831 out of a possible 72831 Sites\n",
      "Run Time = 1.00 seconds\n"
     ]
    }
   ],
   "source": [
    "%%sh\n",
    "suffix=Making_Files/OL-final-c85-t88-Breps-m60\n",
    "vcftools --vcf $suffix.recode.vcf --missing-indv --out $suffix"
   ]
  },
  {
   "cell_type": "code",
   "execution_count": 5,
   "metadata": {
    "collapsed": false,
    "deletable": true,
    "editable": true
   },
   "outputs": [
    {
     "name": "stdout",
     "output_type": "stream",
     "text": [
      "INDV\tN_DATA\tN_GENOTYPES_FILTERED\tN_MISS\tF_MISS\n",
      "BC1_10_C6\t72831\t0\t4173\t0.057297\n",
      "BC1_11_C2\t72831\t0\t48234\t0.662273\n",
      "BC1_12_C4\t72831\t0\t42160\t0.578874\n",
      "BC1_1_C2\t72831\t0\t45598\t0.62608\n",
      "BC1_20_C6\t72831\t0\t6472\t0.0888633\n",
      "BC1_22_C7\t72831\t0\t2267\t0.0311269\n",
      "BC1_4_C3\t72831\t0\t6824\t0.0936964\n",
      "BC1_7_C5\t72831\t0\t23808\t0.326894\n",
      "BC1_8_C4\t72831\t0\t15100\t0.207329\n"
     ]
    }
   ],
   "source": [
    "%%sh\n",
    "suffix=Making_Files/OL-final-c85-t88-Breps-m60\n",
    "head $suffix.imiss"
   ]
  },
  {
   "cell_type": "markdown",
   "metadata": {},
   "source": [
    "Plot the percent missingness across individuals. Need to redo without plotly."
   ]
  },
  {
   "cell_type": "code",
   "execution_count": 6,
   "metadata": {
    "collapsed": false,
    "deletable": true,
    "editable": true
   },
   "outputs": [],
   "source": [
    "import numpy as np\n",
    "import matplotlib.pyplot as plt\n",
    "import plotly.plotly as py\n",
    "import plotly.graph_objs as go\n",
    "py.sign_in('ksil91', 'ycvvzZQxVMU8Sg9wVQBH')\n",
    "import pandas"
   ]
  },
  {
   "cell_type": "code",
   "execution_count": 9,
   "metadata": {
    "collapsed": false,
    "deletable": true,
    "editable": true
   },
   "outputs": [
    {
     "ename": "PlotlyRequestError",
     "evalue": "Account limit reached: Your account is limited to creating 25 charts. To continue, you can override or delete existing charts or you can upgrade your account at: https://plot.ly/products/cloud",
     "output_type": "error",
     "traceback": [
      "\u001b[0;31m---------------------------------------------------------------------------\u001b[0m",
      "\u001b[0;31mPlotlyRequestError\u001b[0m                        Traceback (most recent call last)",
      "\u001b[0;32m<ipython-input-9-349b0a4c998f>\u001b[0m in \u001b[0;36m<module>\u001b[0;34m()\u001b[0m\n\u001b[1;32m     13\u001b[0m     title='Proportion missing data, ',bargap=0.1)\n\u001b[1;32m     14\u001b[0m \u001b[0mfig\u001b[0m \u001b[0;34m=\u001b[0m \u001b[0mgo\u001b[0m\u001b[0;34m.\u001b[0m\u001b[0mFigure\u001b[0m\u001b[0;34m(\u001b[0m\u001b[0mdata\u001b[0m\u001b[0;34m=\u001b[0m\u001b[0mdata\u001b[0m\u001b[0;34m,\u001b[0m\u001b[0mlayout\u001b[0m\u001b[0;34m=\u001b[0m\u001b[0mlayout\u001b[0m\u001b[0;34m)\u001b[0m\u001b[0;34m\u001b[0m\u001b[0m\n\u001b[0;32m---> 15\u001b[0;31m \u001b[0mpy\u001b[0m\u001b[0;34m.\u001b[0m\u001b[0miplot\u001b[0m\u001b[0;34m(\u001b[0m\u001b[0mfig\u001b[0m\u001b[0;34m)\u001b[0m\u001b[0;34m\u001b[0m\u001b[0m\n\u001b[0m",
      "\u001b[0;32m/usr/local/lib/python2.7/dist-packages/plotly/plotly/plotly.pyc\u001b[0m in \u001b[0;36miplot\u001b[0;34m(figure_or_data, **plot_options)\u001b[0m\n\u001b[1;32m    129\u001b[0m     \u001b[0;32mif\u001b[0m \u001b[0;34m'auto_open'\u001b[0m \u001b[0;32mnot\u001b[0m \u001b[0;32min\u001b[0m \u001b[0mplot_options\u001b[0m\u001b[0;34m:\u001b[0m\u001b[0;34m\u001b[0m\u001b[0m\n\u001b[1;32m    130\u001b[0m         \u001b[0mplot_options\u001b[0m\u001b[0;34m[\u001b[0m\u001b[0;34m'auto_open'\u001b[0m\u001b[0;34m]\u001b[0m \u001b[0;34m=\u001b[0m \u001b[0mFalse\u001b[0m\u001b[0;34m\u001b[0m\u001b[0m\n\u001b[0;32m--> 131\u001b[0;31m     \u001b[0murl\u001b[0m \u001b[0;34m=\u001b[0m \u001b[0mplot\u001b[0m\u001b[0;34m(\u001b[0m\u001b[0mfigure_or_data\u001b[0m\u001b[0;34m,\u001b[0m \u001b[0;34m**\u001b[0m\u001b[0mplot_options\u001b[0m\u001b[0;34m)\u001b[0m\u001b[0;34m\u001b[0m\u001b[0m\n\u001b[0m\u001b[1;32m    132\u001b[0m \u001b[0;34m\u001b[0m\u001b[0m\n\u001b[1;32m    133\u001b[0m     \u001b[0;32mif\u001b[0m \u001b[0misinstance\u001b[0m\u001b[0;34m(\u001b[0m\u001b[0mfigure_or_data\u001b[0m\u001b[0;34m,\u001b[0m \u001b[0mdict\u001b[0m\u001b[0;34m)\u001b[0m\u001b[0;34m:\u001b[0m\u001b[0;34m\u001b[0m\u001b[0m\n",
      "\u001b[0;32m/usr/local/lib/python2.7/dist-packages/plotly/plotly/plotly.pyc\u001b[0m in \u001b[0;36mplot\u001b[0;34m(figure_or_data, validate, **plot_options)\u001b[0m\n\u001b[1;32m    222\u001b[0m     \u001b[0mdata\u001b[0m \u001b[0;34m=\u001b[0m \u001b[0mfig\u001b[0m\u001b[0;34m.\u001b[0m\u001b[0mget\u001b[0m\u001b[0;34m(\u001b[0m\u001b[0;34m'data'\u001b[0m\u001b[0;34m,\u001b[0m \u001b[0;34m[\u001b[0m\u001b[0;34m]\u001b[0m\u001b[0;34m)\u001b[0m\u001b[0;34m\u001b[0m\u001b[0m\n\u001b[1;32m    223\u001b[0m     \u001b[0mplot_options\u001b[0m\u001b[0;34m[\u001b[0m\u001b[0;34m'layout'\u001b[0m\u001b[0;34m]\u001b[0m \u001b[0;34m=\u001b[0m \u001b[0mfig\u001b[0m\u001b[0;34m.\u001b[0m\u001b[0mget\u001b[0m\u001b[0;34m(\u001b[0m\u001b[0;34m'layout'\u001b[0m\u001b[0;34m,\u001b[0m \u001b[0;34m{\u001b[0m\u001b[0;34m}\u001b[0m\u001b[0;34m)\u001b[0m\u001b[0;34m\u001b[0m\u001b[0m\n\u001b[0;32m--> 224\u001b[0;31m     \u001b[0mresponse\u001b[0m \u001b[0;34m=\u001b[0m \u001b[0mv1\u001b[0m\u001b[0;34m.\u001b[0m\u001b[0mclientresp\u001b[0m\u001b[0;34m(\u001b[0m\u001b[0mdata\u001b[0m\u001b[0;34m,\u001b[0m \u001b[0;34m**\u001b[0m\u001b[0mplot_options\u001b[0m\u001b[0;34m)\u001b[0m\u001b[0;34m\u001b[0m\u001b[0m\n\u001b[0m\u001b[1;32m    225\u001b[0m \u001b[0;34m\u001b[0m\u001b[0m\n\u001b[1;32m    226\u001b[0m     \u001b[0;31m# Check if the url needs a secret key\u001b[0m\u001b[0;34m\u001b[0m\u001b[0;34m\u001b[0m\u001b[0m\n",
      "\u001b[0;32m/usr/local/lib/python2.7/dist-packages/plotly/api/v1/clientresp.pyc\u001b[0m in \u001b[0;36mclientresp\u001b[0;34m(data, **kwargs)\u001b[0m\n\u001b[1;32m     33\u001b[0m \u001b[0;34m\u001b[0m\u001b[0m\n\u001b[1;32m     34\u001b[0m     \u001b[0murl\u001b[0m \u001b[0;34m=\u001b[0m \u001b[0;34m'{plotly_domain}/clientresp'\u001b[0m\u001b[0;34m.\u001b[0m\u001b[0mformat\u001b[0m\u001b[0;34m(\u001b[0m\u001b[0;34m**\u001b[0m\u001b[0mcfg\u001b[0m\u001b[0;34m)\u001b[0m\u001b[0;34m\u001b[0m\u001b[0m\n\u001b[0;32m---> 35\u001b[0;31m     \u001b[0mresponse\u001b[0m \u001b[0;34m=\u001b[0m \u001b[0mrequest\u001b[0m\u001b[0;34m(\u001b[0m\u001b[0;34m'post'\u001b[0m\u001b[0;34m,\u001b[0m \u001b[0murl\u001b[0m\u001b[0;34m,\u001b[0m \u001b[0mdata\u001b[0m\u001b[0;34m=\u001b[0m\u001b[0mpayload\u001b[0m\u001b[0;34m)\u001b[0m\u001b[0;34m\u001b[0m\u001b[0m\n\u001b[0m\u001b[1;32m     36\u001b[0m \u001b[0;34m\u001b[0m\u001b[0m\n\u001b[1;32m     37\u001b[0m     \u001b[0;31m# Old functionality, just keeping it around.\u001b[0m\u001b[0;34m\u001b[0m\u001b[0;34m\u001b[0m\u001b[0m\n",
      "\u001b[0;32m/usr/local/lib/python2.7/dist-packages/plotly/api/v1/utils.pyc\u001b[0m in \u001b[0;36mrequest\u001b[0;34m(method, url, **kwargs)\u001b[0m\n\u001b[1;32m     84\u001b[0m         \u001b[0mcontent\u001b[0m \u001b[0;34m=\u001b[0m \u001b[0mresponse\u001b[0m\u001b[0;34m.\u001b[0m\u001b[0mcontent\u001b[0m \u001b[0;32mif\u001b[0m \u001b[0mresponse\u001b[0m \u001b[0;32melse\u001b[0m \u001b[0;34m'No content'\u001b[0m\u001b[0;34m\u001b[0m\u001b[0m\n\u001b[1;32m     85\u001b[0m         \u001b[0;32mraise\u001b[0m \u001b[0mexceptions\u001b[0m\u001b[0;34m.\u001b[0m\u001b[0mPlotlyRequestError\u001b[0m\u001b[0;34m(\u001b[0m\u001b[0mmessage\u001b[0m\u001b[0;34m,\u001b[0m \u001b[0mstatus_code\u001b[0m\u001b[0;34m,\u001b[0m \u001b[0mcontent\u001b[0m\u001b[0;34m)\u001b[0m\u001b[0;34m\u001b[0m\u001b[0m\n\u001b[0;32m---> 86\u001b[0;31m     \u001b[0mvalidate_response\u001b[0m\u001b[0;34m(\u001b[0m\u001b[0mresponse\u001b[0m\u001b[0;34m)\u001b[0m\u001b[0;34m\u001b[0m\u001b[0m\n\u001b[0m\u001b[1;32m     87\u001b[0m     \u001b[0;32mreturn\u001b[0m \u001b[0mresponse\u001b[0m\u001b[0;34m\u001b[0m\u001b[0m\n",
      "\u001b[0;32m/usr/local/lib/python2.7/dist-packages/plotly/api/v1/utils.pyc\u001b[0m in \u001b[0;36mvalidate_response\u001b[0;34m(response)\u001b[0m\n\u001b[1;32m     36\u001b[0m         \u001b[0mmessage\u001b[0m \u001b[0;34m=\u001b[0m \u001b[0mcontent\u001b[0m \u001b[0;32mif\u001b[0m \u001b[0mcontent\u001b[0m \u001b[0;32melse\u001b[0m \u001b[0;34m'No Content'\u001b[0m\u001b[0;34m\u001b[0m\u001b[0m\n\u001b[1;32m     37\u001b[0m \u001b[0;34m\u001b[0m\u001b[0m\n\u001b[0;32m---> 38\u001b[0;31m     \u001b[0;32mraise\u001b[0m \u001b[0mexceptions\u001b[0m\u001b[0;34m.\u001b[0m\u001b[0mPlotlyRequestError\u001b[0m\u001b[0;34m(\u001b[0m\u001b[0mmessage\u001b[0m\u001b[0;34m,\u001b[0m \u001b[0mstatus_code\u001b[0m\u001b[0;34m,\u001b[0m \u001b[0mcontent\u001b[0m\u001b[0;34m)\u001b[0m\u001b[0;34m\u001b[0m\u001b[0m\n\u001b[0m\u001b[1;32m     39\u001b[0m \u001b[0;34m\u001b[0m\u001b[0m\n\u001b[1;32m     40\u001b[0m \u001b[0;34m\u001b[0m\u001b[0m\n",
      "\u001b[0;31mPlotlyRequestError\u001b[0m: Account limit reached: Your account is limited to creating 25 charts. To continue, you can override or delete existing charts or you can upgrade your account at: https://plot.ly/products/cloud"
     ]
    }
   ],
   "source": [
    "imiss = np.genfromtxt('Making_Files/OL-final-c85-t88-Breps-m60.imiss', names=True,dtype=None)\n",
    "data = [\n",
    "    go.Histogram(\n",
    "        x=imiss[[\"F_MISS\"]],autobinx = False,\n",
    "        xbins=dict(\n",
    "            start=0,\n",
    "            end=1,\n",
    "            size=0.05\n",
    "        )\n",
    "    )\n",
    "]\n",
    "layout = go.Layout(\n",
    "    title='Proportion missing data, ',bargap=0.1)\n",
    "fig = go.Figure(data=data,layout=layout)\n",
    "py.iplot(fig)"
   ]
  },
  {
   "cell_type": "markdown",
   "metadata": {
    "deletable": true,
    "editable": true
   },
   "source": [
    "Get a list of individuals missing data at fewer than 50% of sites."
   ]
  },
  {
   "cell_type": "code",
   "execution_count": 35,
   "metadata": {
    "collapsed": false,
    "deletable": true,
    "editable": true
   },
   "outputs": [
    {
     "data": {
      "text/plain": [
       "105"
      ]
     },
     "execution_count": 35,
     "metadata": {},
     "output_type": "execute_result"
    }
   ],
   "source": [
    "imissDF = pandas.DataFrame(imiss)\n",
    "imissDF[imissDF.F_MISS > 0.50].INDV.to_csv(\"Making_Files/OL-c85-t88-Breps_imiss50.txt\",sep=\" \",index=False)\n",
    "len(imissDF[imissDF.F_MISS < 0.50].INDV.values)"
   ]
  },
  {
   "cell_type": "code",
   "execution_count": 36,
   "metadata": {},
   "outputs": [
    {
     "name": "stdout",
     "output_type": "stream",
     "text": [
      "BC1_11_C2\n",
      "BC1_12_C4\n",
      "BC1_1_C2\n",
      "BC2_3_C7\n",
      "BC2_6_C2\n",
      "BC3_1_C2\n",
      "BC3_9_C2\n",
      "BC4_6_C2\n",
      "BC4_7_C2\n",
      "BC4_9_C2\n",
      "CA1_5_C5\n",
      "CA1_9_C7\n",
      "CA2_10_C3\n",
      "CA3_4_C1\n",
      "CA4_16_C5\n",
      "CA5_8_C1\n",
      "CA6_13_C1\n",
      "CA6_2_C1\n",
      "CA7_5_C1\n",
      "OR1_11_C1\n",
      "OR1_5_C4\n",
      "WA10_15_C5\n",
      "WA10_2_C2\n",
      "WA10_8_C2\n",
      "WA11_13_C5\n",
      "WA11_20_C5\n",
      "WA13_2_C2\n",
      "WA1_10_C3\n",
      "WA1_11_C6\n",
      "WA1_3_C7\n",
      "WA9_8_C3\n"
     ]
    }
   ],
   "source": [
    "#Individuals to be excluded\n",
    "%cat Making_Files/OL-c85-t88-Breps_imiss50.txt"
   ]
  },
  {
   "cell_type": "markdown",
   "metadata": {
    "deletable": true,
    "editable": true
   },
   "source": [
    "Use vcftools to remove individuals with greater than 50% missingness. Also filter for polymorphic loci and loci found in at least 80% of individuals. This is the full SNP dataset, before filtering for minor allele frequency and Hardy-Weinberg equilibrium."
   ]
  },
  {
   "cell_type": "code",
   "execution_count": 37,
   "metadata": {},
   "outputs": [
    {
     "name": "stderr",
     "output_type": "stream",
     "text": [
      "\n",
      "VCFtools - 0.1.15\n",
      "(C) Adam Auton and Anthony Marcketta 2009\n",
      "\n",
      "Parameters as interpreted:\n",
      "\t--vcf Assembly/OL-final-c85-t88-Breps-m50_outfiles/OL-final-c85-t88-Breps-m50.vcf\n",
      "\t--remove Making_Files/OL-c85-t88-Breps_imiss50.txt\n",
      "\t--recode-INFO-all\n",
      "\t--max-alleles 2\n",
      "\t--min-alleles 2\n",
      "\t--max-missing 0.8\n",
      "\t--out Making_Files/OL-final-c85-t88-Breps-m80x50\n",
      "\t--recode\n",
      "\t--remove-indv BC4_13_C3\n",
      "\n",
      "Excluding individuals in 'exclude' list\n",
      "After filtering, kept 105 out of 137 Individuals\n",
      "Outputting VCF file...\n",
      "After filtering, kept 48844 out of a possible 114545 Sites\n",
      "Run Time = 6.00 seconds\n"
     ]
    }
   ],
   "source": [
    "%%sh\n",
    "suffix=Making_Files/OL-final-c85-t88-Breps\n",
    "vcftools --vcf Assembly/OL-final-c85-t88-Breps-m50_outfiles/OL-final-c85-t88-Breps-m50.vcf --remove-indv BC4_13_C3 \\\n",
    "--remove Making_Files/OL-c85-t88-Breps_imiss50.txt --recode --recode-INFO-all \\\n",
    "--min-alleles 2 --max-alleles 2 --max-missing 0.80 \\\n",
    "--out ${suffix}-m80x50"
   ]
  },
  {
   "cell_type": "markdown",
   "metadata": {
    "deletable": true,
    "editable": true
   },
   "source": [
    "Write files with the sample name and either population (.pop) or all strata info (.strata). These are used for the heterozygosity filtering downstream and to convert the .vcf file to a .str file in PGD Spider. It is dependent on the samples having their population as the first part of their name, separated by an underscore. It uses the .imiss file created earlier, so it does include some samples that have been filtered out. This is not a problem for downstream analyses."
   ]
  },
  {
   "cell_type": "code",
   "execution_count": 47,
   "metadata": {
    "collapsed": false,
    "deletable": true,
    "editable": true
   },
   "outputs": [],
   "source": [
    "IN = open(\"Making_Files/OL-final-c85-t88-Breps-m60.imiss\",\"r\")\n",
    "OUT_strata = open(\"Making_Files/OL-c85-t88-Breps.strata\",\"w\")\n",
    "OUT_pop = open(\"Making_Files/OL-c85-t88-Breps.pop\",\"w\")\n",
    "loc_dict = {'BC1':['Victoria', 'Victoria', 'Puget+Victoria', '48.435667', '-123.377909'],\n",
    "            'BC2':['Klaskino', 'Klaskino', 'NWBC', '50.298667', '-127.723633'],\n",
    "            'BC3':['Barkeley_Sound', 'Barkeley_Sound', 'NWBC', '49.01585', '-125.314167'],\n",
    "            'BC4': ['Ladysmith', 'Ladysmith', 'Ladysmith', '49.011383' ,'-123.8357'],\n",
    "            'WA12': ['Discovery_Bay', 'Discovery_Bay', 'Puget+Victoria', '47.9978', '-122.8824'],\n",
    "            'WA11': ['Liberty_Bay', 'Liberty_Bay', 'Puget+Victoria', '47.7375', '-122.6507'],\n",
    "            'WA13': ['North_Bay', 'North_Bay', 'Puget+Victoria', '47.3925', '-122.8138'],\n",
    "            'WA10': ['Triton_Cove', 'Triton_Cove', 'Puget+Victoria', '47.6131', '-122.982'],\n",
    "            'WA1': ['Willapa', 'North_Willapa', 'Willapa', '46.624772', '-123.9887916'],\n",
    "            'WA9': ['Willapa', 'South_Willapa', 'Willapa', '46.44', '-124.004'],\n",
    "            'OR3': ['Netarts', 'Netarts', 'Oregon', '45.3911556', '-123.9559028'],\n",
    "            'OR2': ['Yaquina', 'Yaquina', 'Oregon', '44.579539', '-123.995749'],\n",
    "            'OR1': ['Coos', 'Coos', 'Willapa', '43.3559861', '-124.1931639'],\n",
    "            'CA6': ['Humboldt', 'Humboldt', 'NoCal', '40.8557972', '-124.0974611'],\n",
    "            'CA4': ['Tomales', 'Tomales', 'NoCal', '38.117549', '-122.874497'],\n",
    "            'CA2': ['San_Francisco', 'SF_PointOrient', 'NoCal', '37.955067', '-122.421800'],\n",
    "            'CA3': ['San_Francisco', 'SF_Candlestick', 'NoCal', '37.708665', '-122.377607'],\n",
    "            'CA5': ['Elkhorn_Slough', 'Elkhorn_Slough', 'NoCal', '36.8398194', '-121.7427806'],\n",
    "            'CA7': ['Mugu_Lagoon', 'Mugu_Lagoon', 'SoCal', '34.101914', '-119.10434'],\n",
    "            'CA1': ['San_Diego', 'San_Diego', 'SoCal', '32.602500', '-117.118889']}\n",
    "IN.next()\n",
    "OUT_strata.write(\"INDIVIDUALS\\tSTRATA\\tLOCATION\\tREGION\\tLATITUDE\\tLONGITUDE\\tLIBRARY\\n\")\n",
    "for line in IN:\n",
    "    name = line.split()[0]\n",
    "    pop = name.split(\"_\")[0]\n",
    "    library = name.split(\"_\")[2]\n",
    "    OUT_strata.write(name+\"\\t\"+'\\t'.join(map(str,loc_dict[pop]))+\"\\t\"+library+\"\\n\")\n",
    "    OUT_pop.write(name+\"\\t\"+loc_dict[pop][0]+\"\\n\")\n",
    "    \n",
    "IN.close()\n",
    "OUT_strata.close()\n",
    "OUT_pop.close()"
   ]
  },
  {
   "cell_type": "code",
   "execution_count": 39,
   "metadata": {
    "collapsed": false,
    "deletable": true,
    "editable": true
   },
   "outputs": [
    {
     "name": "stdout",
     "output_type": "stream",
     "text": [
      "INDIVIDUALS\tSTRATA\tLOCATION\tREGION\tNS\tLATITUDE\tLONGITUDE\tLIBRARY\n",
      "BC1_10_C6\tVictoria\tVictoria\tPuget+\tNorth\t48.435667\t-123.377909\tC6\n",
      "BC1_11_C2\tVictoria\tVictoria\tPuget+\tNorth\t48.435667\t-123.377909\tC2\n",
      "BC1_12_C4\tVictoria\tVictoria\tPuget+\tNorth\t48.435667\t-123.377909\tC4\n",
      "BC1_1_C2\tVictoria\tVictoria\tPuget+\tNorth\t48.435667\t-123.377909\tC2\n",
      "BC1_20_C6\tVictoria\tVictoria\tPuget+\tNorth\t48.435667\t-123.377909\tC6\n",
      "BC1_22_C7\tVictoria\tVictoria\tPuget+\tNorth\t48.435667\t-123.377909\tC7\n",
      "BC1_4_C3\tVictoria\tVictoria\tPuget+\tNorth\t48.435667\t-123.377909\tC3\n",
      "BC1_7_C5\tVictoria\tVictoria\tPuget+\tNorth\t48.435667\t-123.377909\tC5\n",
      "BC1_8_C4\tVictoria\tVictoria\tPuget+\tNorth\t48.435667\t-123.377909\tC4\n",
      "BC1_9_C5\tVictoria\tVictoria\tPuget+\tNorth\t48.435667\t-123.377909\tC5\n",
      "BC2_10_C5\tKlaskino\tKlaskino\tNW_BC\tNorth\t50.298667\t-127.723633\tC5\n",
      "BC2_11_C5\tKlaskino\tKlaskino\tNW_BC\tNorth\t50.298667\t-127.723633\tC5\n",
      "BC2_12_C6\tKlaskino\tKlaskino\tNW_BC\tNorth\t50.298667\t-127.723633\tC6\n",
      "BC2_13_C4\tKlaskino\tKlaskino\tNW_BC\tNorth\t50.298667\t-127.723633\tC4\n"
     ]
    }
   ],
   "source": [
    "%%sh\n",
    "head -n 15 Making_Files/OL-c85-t88-Breps.strata"
   ]
  },
  {
   "cell_type": "markdown",
   "metadata": {
    "deletable": true,
    "editable": true
   },
   "source": [
    "### Filtering loci by departures from Hardy-Weinberg"
   ]
  },
  {
   "cell_type": "markdown",
   "metadata": {
    "deletable": true,
    "editable": true
   },
   "source": [
    "Here I filter out loci with excess heterozygosity in at least 2 populations based on Hardy-Weinberg equilibrium and a p-value cutoff of 0.05. It takes a .vcf file and the .pop file just created as input. This uses a slightly modified script from [Jon Puritz's Github](https://github.com/jpuritz/dDocent/blob/master/scripts/filter_hwe_by_pop.pl), written by Chris Hollenbeck. My modified script is in my Github."
   ]
  },
  {
   "cell_type": "code",
   "execution_count": 40,
   "metadata": {
    "collapsed": false,
    "deletable": true,
    "editable": true
   },
   "outputs": [
    {
     "name": "stdout",
     "output_type": "stream",
     "text": [
      "Processing population: Barkeley_Sound (7 inds)\n",
      "Processing population: Coos (7 inds)\n",
      "Processing population: Discovery_Bay (4 inds)\n",
      "Processing population: Elkhorn_Slough (6 inds)\n",
      "Processing population: Humboldt (8 inds)\n",
      "Processing population: Klaskino (10 inds)\n",
      "Processing population: Ladysmith (9 inds)\n",
      "Processing population: Liberty_Bay (8 inds)\n",
      "Processing population: Mugu_Lagoon (10 inds)\n",
      "Processing population: Netarts (7 inds)\n",
      "Processing population: North_Bay (6 inds)\n",
      "Processing population: San_Diego (8 inds)\n",
      "Processing population: San_Francisco (6 inds)\n",
      "Processing population: Tomales (5 inds)\n",
      "Processing population: Triton_Cove (10 inds)\n",
      "Processing population: Victoria (10 inds)\n",
      "Processing population: Willapa (9 inds)\n",
      "Processing population: Yaquina (6 inds)\n",
      "Outputting results of HWE test for filtered loci to 'filtered.hwe'\n",
      "Kept 48796 of a possible 48844 loci (filtered 48 loci)\n"
     ]
    }
   ],
   "source": [
    "%%sh\n",
    "suffix=Making_Files/OL-final-c85-t88-Breps-m80x50\n",
    "mkdir Making_Files/hwe_m80x50\n",
    "#Filtering out loci that depart HWE in at least 2 populations with a p-value cutoff of 0.05\n",
    "../Methods/Scripts/filter_hwe_by_pop.pl -v $suffix.recode.vcf \\\n",
    "-p Making_Files/OL-c85-t88-Breps.pop -h 0.05 -c 0.16 -o $suffix-hwPbi\n",
    "mv *.hwe Making_Files/hwe_m80x50\n",
    "rm *.inds"
   ]
  },
  {
   "cell_type": "markdown",
   "metadata": {
    "deletable": true,
    "editable": true
   },
   "source": [
    "The script only filters on a site-by-site basis. In order to throw out any loci that had a SNP with excess heterozygosity (as these may be paralogs), I make a file with the locus ids to then submit to vcftools."
   ]
  },
  {
   "cell_type": "code",
   "execution_count": 41,
   "metadata": {
    "collapsed": false,
    "deletable": true,
    "editable": true
   },
   "outputs": [
    {
     "name": "stdout",
     "output_type": "stream",
     "text": [
      "m80x50: 43\n"
     ]
    }
   ],
   "source": [
    "#Make files of bad loci (that have at least one site with excess heterozygotes) to copy/paste in vcftools. \n",
    "IN = open('Making_Files/hwe_m80x50/exclude.hwe', \"r\")\n",
    "OUT = open('Making_Files/hwe_m80x50/badchrom.txt', \"w\")\n",
    "exset = set()\n",
    "for line in IN:\n",
    "    chrom = line.split()[0]\n",
    "    if chrom not in exset:\n",
    "        exset.add(chrom)\n",
    "        OUT.write(\" --not-chr \"+str(chrom))\n",
    "OUT.close()\n",
    "IN.close()\n",
    "print \"m80x50: \"+str(len(exset))"
   ]
  },
  {
   "cell_type": "markdown",
   "metadata": {
    "deletable": true,
    "editable": true
   },
   "source": [
    "Vcftools won't take a file of locus names to remove (which is annoying), so I copy and paste the locus names with a --not-chr call into vcftools."
   ]
  },
  {
   "cell_type": "code",
   "execution_count": 42,
   "metadata": {
    "collapsed": false,
    "deletable": true,
    "editable": true
   },
   "outputs": [
    {
     "name": "stdout",
     "output_type": "stream",
     "text": [
      " --not-chr locus_207453 --not-chr locus_276810 --not-chr locus_42160 --not-chr locus_29279 --not-chr locus_127570 --not-chr locus_211763 --not-chr locus_40333 --not-chr locus_423422 --not-chr locus_52606 --not-chr locus_380560 --not-chr locus_172864 --not-chr locus_153744 --not-chr locus_129120 --not-chr locus_380572 --not-chr locus_401349 --not-chr locus_125726 --not-chr locus_218417 --not-chr locus_357318 --not-chr locus_220030 --not-chr locus_151068 --not-chr locus_253330 --not-chr locus_357576 --not-chr locus_18461 --not-chr locus_255531 --not-chr locus_101129 --not-chr locus_313478 --not-chr locus_355504 --not-chr locus_347558 --not-chr locus_346121 --not-chr locus_379373 --not-chr locus_131141 --not-chr locus_309065 --not-chr locus_55452 --not-chr locus_140939 --not-chr locus_92709 --not-chr locus_204332 --not-chr locus_357682 --not-chr locus_206197 --not-chr locus_217492 --not-chr locus_280192 --not-chr locus_97057 --not-chr locus_423209 --not-chr locus_48250"
     ]
    }
   ],
   "source": [
    "%cat Making_Files/hwe_m80x50/badchrom.txt"
   ]
  },
  {
   "cell_type": "code",
   "execution_count": 43,
   "metadata": {
    "collapsed": false,
    "deletable": true,
    "editable": true
   },
   "outputs": [
    {
     "name": "stderr",
     "output_type": "stream",
     "text": [
      "\n",
      "VCFtools - 0.1.15\n",
      "(C) Adam Auton and Anthony Marcketta 2009\n",
      "\n",
      "Parameters as interpreted:\n",
      "\t--vcf Making_Files/OL-final-c85-t88-Breps-m80x50-hwPbi.recode.vcf\n",
      "\t--not-chr locus_101129\n",
      "\t--not-chr locus_125726\n",
      "\t--not-chr locus_127570\n",
      "\t--not-chr locus_129120\n",
      "\t--not-chr locus_131141\n",
      "\t--not-chr locus_140939\n",
      "\t--not-chr locus_151068\n",
      "\t--not-chr locus_153744\n",
      "\t--not-chr locus_172864\n",
      "\t--not-chr locus_18461\n",
      "\t--not-chr locus_204332\n",
      "\t--not-chr locus_206197\n",
      "\t--not-chr locus_207453\n",
      "\t--not-chr locus_211763\n",
      "\t--not-chr locus_217492\n",
      "\t--not-chr locus_218417\n",
      "\t--not-chr locus_220030\n",
      "\t--not-chr locus_253330\n",
      "\t--not-chr locus_255531\n",
      "\t--not-chr locus_276810\n",
      "\t--not-chr locus_280192\n",
      "\t--not-chr locus_29279\n",
      "\t--not-chr locus_309065\n",
      "\t--not-chr locus_313478\n",
      "\t--not-chr locus_346121\n",
      "\t--not-chr locus_347558\n",
      "\t--not-chr locus_355504\n",
      "\t--not-chr locus_357318\n",
      "\t--not-chr locus_357576\n",
      "\t--not-chr locus_357682\n",
      "\t--not-chr locus_379373\n",
      "\t--not-chr locus_380560\n",
      "\t--not-chr locus_380572\n",
      "\t--not-chr locus_401349\n",
      "\t--not-chr locus_40333\n",
      "\t--not-chr locus_42160\n",
      "\t--not-chr locus_423209\n",
      "\t--not-chr locus_423422\n",
      "\t--not-chr locus_48250\n",
      "\t--not-chr locus_52606\n",
      "\t--not-chr locus_55452\n",
      "\t--not-chr locus_92709\n",
      "\t--not-chr locus_97057\n",
      "\t--recode-INFO-all\n",
      "\t--max-alleles 2\n",
      "\t--min-alleles 2\n",
      "\t--out Making_Files/OL-final-c85-t88-Breps-m80x50-filt\n",
      "\t--recode\n",
      "\n",
      "After filtering, kept 105 out of 105 Individuals\n",
      "Outputting VCF file...\n",
      "After filtering, kept 48555 out of a possible 48796 Sites\n",
      "Run Time = 4.00 seconds\n"
     ]
    }
   ],
   "source": [
    "%%sh\n",
    "#-filt are all SNPs, not filtering for minor allele frequency\n",
    "suffix=Making_Files/OL-final-c85-t88-Breps-m80x50\n",
    "vcftools --vcf $suffix-hwPbi.recode.vcf --recode --recode-INFO-all --not-chr locus_207453 --not-chr locus_276810 --not-chr locus_42160 --not-chr locus_29279 --not-chr locus_127570 --not-chr locus_211763 --not-chr locus_40333 --not-chr locus_423422 --not-chr locus_52606 --not-chr locus_380560 --not-chr locus_172864 --not-chr locus_153744 --not-chr locus_129120 --not-chr locus_380572 --not-chr locus_401349 --not-chr locus_125726 --not-chr locus_218417 --not-chr locus_357318 --not-chr locus_220030 --not-chr locus_151068 --not-chr locus_253330 --not-chr locus_357576 --not-chr locus_18461 --not-chr locus_255531 --not-chr locus_101129 --not-chr locus_313478 --not-chr locus_355504 --not-chr locus_347558 --not-chr locus_346121 --not-chr locus_379373 --not-chr locus_131141 --not-chr locus_309065 --not-chr locus_55452 --not-chr locus_140939 --not-chr locus_92709 --not-chr locus_204332 --not-chr locus_357682 --not-chr locus_206197 --not-chr locus_217492 --not-chr locus_280192 --not-chr locus_97057 --not-chr locus_423209 --not-chr locus_48250 \\\n",
    "--max-alleles 2 --min-alleles 2 --out $suffix-filt"
   ]
  },
  {
   "cell_type": "code",
   "execution_count": 44,
   "metadata": {
    "collapsed": false,
    "deletable": true,
    "editable": true
   },
   "outputs": [
    {
     "name": "stderr",
     "output_type": "stream",
     "text": [
      "\n",
      "VCFtools - 0.1.15\n",
      "(C) Adam Auton and Anthony Marcketta 2009\n",
      "\n",
      "Parameters as interpreted:\n",
      "\t--vcf Making_Files/OL-final-c85-t88-Breps-m80x50-hwPbi.recode.vcf\n",
      "\t--not-chr locus_101129\n",
      "\t--not-chr locus_125726\n",
      "\t--not-chr locus_127570\n",
      "\t--not-chr locus_129120\n",
      "\t--not-chr locus_131141\n",
      "\t--not-chr locus_140939\n",
      "\t--not-chr locus_151068\n",
      "\t--not-chr locus_153744\n",
      "\t--not-chr locus_172864\n",
      "\t--not-chr locus_18461\n",
      "\t--not-chr locus_204332\n",
      "\t--not-chr locus_206197\n",
      "\t--not-chr locus_207453\n",
      "\t--not-chr locus_211763\n",
      "\t--not-chr locus_217492\n",
      "\t--not-chr locus_218417\n",
      "\t--not-chr locus_220030\n",
      "\t--not-chr locus_253330\n",
      "\t--not-chr locus_255531\n",
      "\t--not-chr locus_276810\n",
      "\t--not-chr locus_280192\n",
      "\t--not-chr locus_29279\n",
      "\t--not-chr locus_309065\n",
      "\t--not-chr locus_313478\n",
      "\t--not-chr locus_346121\n",
      "\t--not-chr locus_347558\n",
      "\t--not-chr locus_355504\n",
      "\t--not-chr locus_357318\n",
      "\t--not-chr locus_357576\n",
      "\t--not-chr locus_357682\n",
      "\t--not-chr locus_379373\n",
      "\t--not-chr locus_380560\n",
      "\t--not-chr locus_380572\n",
      "\t--not-chr locus_401349\n",
      "\t--not-chr locus_40333\n",
      "\t--not-chr locus_42160\n",
      "\t--not-chr locus_423209\n",
      "\t--not-chr locus_423422\n",
      "\t--not-chr locus_48250\n",
      "\t--not-chr locus_52606\n",
      "\t--not-chr locus_55452\n",
      "\t--not-chr locus_92709\n",
      "\t--not-chr locus_97057\n",
      "\t--recode-INFO-all\n",
      "\t--maf 0.025\n",
      "\t--max-alleles 2\n",
      "\t--min-alleles 2\n",
      "\t--out Making_Files/OL-final-c85-t88-Breps-m80x50-maf025\n",
      "\t--recode\n",
      "\n",
      "After filtering, kept 105 out of 105 Individuals\n",
      "Outputting VCF file...\n",
      "After filtering, kept 17015 out of a possible 48796 Sites\n",
      "Run Time = 2.00 seconds\n"
     ]
    }
   ],
   "source": [
    "%%sh\n",
    "#-maf025 is filter for minor allele frequency of 2.5%\n",
    "suffix=Making_Files/OL-final-c85-t88-Breps-m80x50\n",
    "vcftools --vcf $suffix-hwPbi.recode.vcf --recode --recode-INFO-all --not-chr locus_207453 --not-chr locus_276810 --not-chr locus_42160 --not-chr locus_29279 --not-chr locus_127570 --not-chr locus_211763 --not-chr locus_40333 --not-chr locus_423422 --not-chr locus_52606 --not-chr locus_380560 --not-chr locus_172864 --not-chr locus_153744 --not-chr locus_129120 --not-chr locus_380572 --not-chr locus_401349 --not-chr locus_125726 --not-chr locus_218417 --not-chr locus_357318 --not-chr locus_220030 --not-chr locus_151068 --not-chr locus_253330 --not-chr locus_357576 --not-chr locus_18461 --not-chr locus_255531 --not-chr locus_101129 --not-chr locus_313478 --not-chr locus_355504 --not-chr locus_347558 --not-chr locus_346121 --not-chr locus_379373 --not-chr locus_131141 --not-chr locus_309065 --not-chr locus_55452 --not-chr locus_140939 --not-chr locus_92709 --not-chr locus_204332 --not-chr locus_357682 --not-chr locus_206197 --not-chr locus_217492 --not-chr locus_280192 --not-chr locus_97057 --not-chr locus_423209 --not-chr locus_48250 \\\n",
    "--max-alleles 2 --min-alleles 2 --maf 0.025 --out $suffix-maf025"
   ]
  },
  {
   "cell_type": "markdown",
   "metadata": {
    "deletable": true,
    "editable": true
   },
   "source": [
    "### Subset one SNP per GBS locus"
   ]
  },
  {
   "cell_type": "code",
   "execution_count": 25,
   "metadata": {
    "collapsed": true,
    "deletable": true,
    "editable": true
   },
   "outputs": [],
   "source": [
    "## Code to subset one SNP per GBS locus from a VCF file. Chooses the SNP\n",
    "## with the highest sample coverage. If there is a tie, chooses the 1st SNP in the loci. (may change to random)\n",
    "## May be specific to VCF format output from ipyrad.\n",
    "## This is also in script format in Github as subsetSNPs.py\n",
    "\n",
    "def subsetSNPs(inputfile,outputfile):\n",
    "    import linecache\n",
    "    locidict = {}\n",
    "    lineNum = []\n",
    "    IN = open(inputfile, \"r\")\n",
    "    OUT = open(outputfile, \"w\")\n",
    "\n",
    "    n = 1\n",
    "    for line in IN:\n",
    "        if \"#\" not in line:\n",
    "            linelist = line.split()\n",
    "            loci = linelist[0]\n",
    "            #Column 7 is INFO column of VCF file\n",
    "            NS = float(linelist[7].split(\";\")[0].split(\"=\")[1])\n",
    "            if loci not in locidict.keys():\n",
    "                locidict[loci] = [NS,n]\n",
    "            else:\n",
    "                if locidict[loci][0] < NS:\n",
    "                    locidict[loci] = [NS,n]\n",
    "        else:\n",
    "            OUT.write(line)\n",
    "        n += 1\n",
    "    IN.close()\n",
    "    print(\"Total SNPS: \"+str(n)+\"\\nUnlinked SNPs: \"+str(len(locidict.keys())))\n",
    "\n",
    "    for locus in sorted(locidict.keys()):\n",
    "        line = linecache.getline(inputfile, locidict[locus][1])\n",
    "        OUT.write(line)\n",
    "    OUT.close()\n"
   ]
  },
  {
   "cell_type": "code",
   "execution_count": 45,
   "metadata": {
    "collapsed": false,
    "deletable": true,
    "editable": true
   },
   "outputs": [
    {
     "name": "stdout",
     "output_type": "stream",
     "text": [
      "Total SNPS: 48567\n",
      "Unlinked SNPs: 11192\n",
      "Total SNPS: 17027\n",
      "Unlinked SNPs: 7414\n"
     ]
    }
   ],
   "source": [
    "#No maf filtering\n",
    "infile = \"Making_Files/OL-final-c85-t88-Breps-m80x50-filt.recode.vcf\"\n",
    "outfile = \"Inputs/OL-c85t8-m80x50-u.vcf\"\n",
    "subsetSNPs(infile,outfile)\n",
    "#Maf of 2.5%\n",
    "infile = \"Making_Files/OL-final-c85-t88-Breps-m80x50-maf025.recode.vcf\"\n",
    "outfile = \"Inputs/OL-c85t8-m80x50-maf025-u.vcf\"\n",
    "subsetSNPs(infile,outfile)"
   ]
  },
  {
   "cell_type": "markdown",
   "metadata": {},
   "source": [
    "## Making an outlier only .vcf\n",
    "Once I identified outlier loci, I now use VCFtools to filter those SNPs.\n",
    "### Union"
   ]
  },
  {
   "cell_type": "code",
   "execution_count": 57,
   "metadata": {},
   "outputs": [
    {
     "name": "stdout",
     "output_type": "stream",
     "text": [
      "576\n",
      "854\n"
     ]
    }
   ],
   "source": [
    "IN = open('Outlier/m80x50maf025filt-pcaQ_OF_BS-union.snp', \"r\")\n",
    "INL = open('Outlier/m80x50maf025filt-pcaQ_OF_BS-union.txt',\"r\")\n",
    "OUT = open('Making_Files/m80x50maf025filt-pcaQ_OF_BS-union.badchrom', \"w\")\n",
    "OUTg = open('Making_Files/m80x50maf025filt-pcaQ_OF_BS-union.goodchrom', \"w\")\n",
    "exset = set()\n",
    "for line in INL:\n",
    "    chrom = line.strip()\n",
    "    if chrom not in exset:\n",
    "        exset.add(chrom)\n",
    "        OUT.write(\" --not-chr locus_\"+str(chrom))\n",
    "print len(exset)\n",
    "x = 0\n",
    "for line in IN:\n",
    "    chrom = line.strip().split(\"_\")[1]\n",
    "    snp = line.strip().split(\"_\")[3]\n",
    "    OUTg.write(\"locus_\"+chrom+\"\\t\"+snp+\"\\n\")\n",
    "    x += 1\n",
    "print x\n",
    "OUT.close()\n",
    "OUTg.close()\n",
    "IN.close()\n",
    "INL.close()"
   ]
  },
  {
   "cell_type": "code",
   "execution_count": null,
   "metadata": {},
   "outputs": [],
   "source": [
    "%cat Making_Files/m80x50maf025filt-pcaQ_OF_BS-union.badchrom"
   ]
  },
  {
   "cell_type": "code",
   "execution_count": null,
   "metadata": {},
   "outputs": [],
   "source": [
    "%%sh\n",
    "suffix=Making_Files/OL-final-c85-t88-Breps-m80x50-maf025\n",
    "vcftools --vcf $suffix.recode.vcf --recode --recode-INFO-all --not-chr locus_100568 --not-chr locus_100957 --not-chr locus_128049 --not-chr locus_202687 --not-chr locus_214762 --not-chr locus_217068 --not-chr locus_217430 --not-chr locus_22471 --not-chr locus_23130 --not-chr locus_28586 --not-chr locus_29312 --not-chr locus_308418 --not-chr locus_34532 --not-chr locus_346887 --not-chr locus_356067 --not-chr locus_35810 --not-chr locus_370301 --not-chr locus_38660 --not-chr locus_421469 --not-chr locus_100043 --not-chr locus_100364 --not-chr locus_100411 --not-chr locus_100504 --not-chr locus_100808 --not-chr locus_100960 --not-chr locus_10098 --not-chr locus_101215 --not-chr locus_102571 --not-chr locus_108914 --not-chr locus_109152 --not-chr locus_111738 --not-chr locus_112451 --not-chr locus_113470 --not-chr locus_114599 --not-chr locus_116394 --not-chr locus_117964 --not-chr locus_11853 --not-chr locus_119053 --not-chr locus_119579 --not-chr locus_123136 --not-chr locus_124098 --not-chr locus_124135 --not-chr locus_124358 --not-chr locus_125648 --not-chr locus_126964 --not-chr locus_127011 --not-chr locus_127647 --not-chr locus_127763 --not-chr locus_128645 --not-chr locus_128722 --not-chr locus_128892 --not-chr locus_129172 --not-chr locus_129561 --not-chr locus_130727 --not-chr locus_130733 --not-chr locus_135065 --not-chr locus_135149 --not-chr locus_136543 --not-chr locus_138836 --not-chr locus_139083 --not-chr locus_139609 --not-chr locus_140076 --not-chr locus_142035 --not-chr locus_142044 --not-chr locus_142778 --not-chr locus_145002 --not-chr locus_147430 --not-chr locus_148130 --not-chr locus_148498 --not-chr locus_148663 --not-chr locus_15031 --not-chr locus_151776 --not-chr locus_153087 --not-chr locus_155580 --not-chr locus_155720 --not-chr locus_156010 --not-chr locus_157034 --not-chr locus_157162 --not-chr locus_157193 --not-chr locus_157620 --not-chr locus_158201 --not-chr locus_158317 --not-chr locus_158825 --not-chr locus_159067 --not-chr locus_159889 --not-chr locus_159941 --not-chr locus_160301 --not-chr locus_160524 --not-chr locus_161375 --not-chr locus_161778 --not-chr locus_163432 --not-chr locus_165360 --not-chr locus_168170 --not-chr locus_168716 --not-chr locus_169007 --not-chr locus_169036 --not-chr locus_171090 --not-chr locus_176767 --not-chr locus_176971 --not-chr locus_177822 --not-chr locus_178139 --not-chr locus_182349 --not-chr locus_187593 --not-chr locus_188623 --not-chr locus_189683 --not-chr locus_190601 --not-chr locus_190976 --not-chr locus_192639 --not-chr locus_196985 --not-chr locus_197922 --not-chr locus_202226 --not-chr locus_203381 --not-chr locus_203647 --not-chr locus_203738 --not-chr locus_204061 --not-chr locus_204175 --not-chr locus_204364 --not-chr locus_204421 --not-chr locus_204530 --not-chr locus_205521 --not-chr locus_205564 --not-chr locus_206044 --not-chr locus_206410 --not-chr locus_206625 --not-chr locus_206668 --not-chr locus_206785 --not-chr locus_206906 --not-chr locus_207071 --not-chr locus_207632 --not-chr locus_207914 --not-chr locus_211071 --not-chr locus_211464 --not-chr locus_212017 --not-chr locus_213868 --not-chr locus_21391 --not-chr locus_213983 --not-chr locus_21411 --not-chr locus_214825 --not-chr locus_215150 --not-chr locus_215183 --not-chr locus_21551 --not-chr locus_216159 --not-chr locus_216347 --not-chr locus_216622 --not-chr locus_216782 --not-chr locus_217386 --not-chr locus_218451 --not-chr locus_218462 --not-chr locus_218611 --not-chr locus_21970 --not-chr locus_219795 --not-chr locus_219854 --not-chr locus_22028 --not-chr locus_22053 --not-chr locus_22067 --not-chr locus_220773 --not-chr locus_222016 --not-chr locus_222895 --not-chr locus_22340 --not-chr locus_224420 --not-chr locus_22483 --not-chr locus_22552 --not-chr locus_22578 --not-chr locus_226298 --not-chr locus_226633 --not-chr locus_227395 --not-chr locus_227598 --not-chr locus_22856 --not-chr locus_23042 --not-chr locus_23289 --not-chr locus_233438 --not-chr locus_235514 --not-chr locus_23563 --not-chr locus_236163 --not-chr locus_23707 --not-chr locus_23820 --not-chr locus_238327 --not-chr locus_238895 --not-chr locus_239109 --not-chr locus_24203 --not-chr locus_243326 --not-chr locus_24478 --not-chr locus_24745 --not-chr locus_247498 --not-chr locus_248943 --not-chr locus_249277 --not-chr locus_249586 --not-chr locus_249990 --not-chr locus_250285 --not-chr locus_250740 --not-chr locus_251406 --not-chr locus_252249 --not-chr locus_252994 --not-chr locus_25365 --not-chr locus_254320 --not-chr locus_254642 --not-chr locus_25585 --not-chr locus_25667 --not-chr locus_258392 --not-chr locus_259858 --not-chr locus_260072 --not-chr locus_262003 --not-chr locus_263310 --not-chr locus_26421 --not-chr locus_264373 --not-chr locus_26502 --not-chr locus_265624 --not-chr locus_26845 --not-chr locus_26921 --not-chr locus_269318 --not-chr locus_27026 --not-chr locus_270943 --not-chr locus_27170 --not-chr locus_273091 --not-chr locus_273990 --not-chr locus_274111 --not-chr locus_274413 --not-chr locus_277053 --not-chr locus_277560 --not-chr locus_277576 --not-chr locus_278553 --not-chr locus_278643 --not-chr locus_27944 --not-chr locus_27989 --not-chr locus_281304 --not-chr locus_283589 --not-chr locus_284643 --not-chr locus_285131 --not-chr locus_28767 --not-chr locus_289083 --not-chr locus_28951 --not-chr locus_29026 --not-chr locus_290498 --not-chr locus_290543 --not-chr locus_290548 --not-chr locus_290600 --not-chr locus_295177 --not-chr locus_298293 --not-chr locus_29879 --not-chr locus_29894 --not-chr locus_299660 --not-chr locus_303036 --not-chr locus_303501 --not-chr locus_303695 --not-chr locus_304188 --not-chr locus_304265 --not-chr locus_304596 --not-chr locus_305839 --not-chr locus_306647 --not-chr locus_306754 --not-chr locus_308637 --not-chr locus_308832 --not-chr locus_30905 --not-chr locus_309216 --not-chr locus_309357 --not-chr locus_309540 --not-chr locus_309854 --not-chr locus_309961 --not-chr locus_310690 --not-chr locus_310907 --not-chr locus_311109 --not-chr locus_311248 --not-chr locus_311295 --not-chr locus_312053 --not-chr locus_312763 --not-chr locus_313145 --not-chr locus_313251 --not-chr locus_313299 --not-chr locus_313936 --not-chr locus_31473 --not-chr locus_316248 --not-chr locus_317962 --not-chr locus_31875 --not-chr locus_32128 --not-chr locus_321861 --not-chr locus_32386 --not-chr locus_325982 --not-chr locus_326653 --not-chr locus_327475 --not-chr locus_328619 --not-chr locus_33006 --not-chr locus_330282 --not-chr locus_330491 --not-chr locus_331870 --not-chr locus_332300 --not-chr locus_332625 --not-chr locus_33272 --not-chr locus_333236 --not-chr locus_33342 --not-chr locus_335315 --not-chr locus_336143 --not-chr locus_33617 --not-chr locus_33681 --not-chr locus_338116 --not-chr locus_33961 --not-chr locus_340260 --not-chr locus_340582 --not-chr locus_34068 --not-chr locus_341658 --not-chr locus_341756 --not-chr locus_344579 --not-chr locus_344766 --not-chr locus_34581 --not-chr locus_345922 --not-chr locus_346248 --not-chr locus_347990 --not-chr locus_348611 --not-chr locus_34877 --not-chr locus_352893 --not-chr locus_354963 --not-chr locus_354978 --not-chr locus_35529 --not-chr locus_355309 --not-chr locus_355642 --not-chr locus_355723 --not-chr locus_355940 --not-chr locus_356037 --not-chr locus_356136 --not-chr locus_356170 --not-chr locus_35619 --not-chr locus_356425 --not-chr locus_356944 --not-chr locus_357468 --not-chr locus_357930 --not-chr locus_358031 --not-chr locus_358060 --not-chr locus_358511 --not-chr locus_358569 --not-chr locus_358571 --not-chr locus_358852 --not-chr locus_359245 --not-chr locus_361253 --not-chr locus_363103 --not-chr locus_363802 --not-chr locus_364232 --not-chr locus_365216 --not-chr locus_36554 --not-chr locus_367642 --not-chr locus_368612 --not-chr locus_37060 --not-chr locus_37161 --not-chr locus_37284 --not-chr locus_37373 --not-chr locus_37494 --not-chr locus_379975 --not-chr locus_380069 --not-chr locus_380430 --not-chr locus_38077 --not-chr locus_381233 --not-chr locus_382237 --not-chr locus_382688 --not-chr locus_382965 --not-chr locus_383242 --not-chr locus_384589 --not-chr locus_38491 --not-chr locus_385266 --not-chr locus_385558 --not-chr locus_385656 --not-chr locus_38587 --not-chr locus_386273 --not-chr locus_386278 --not-chr locus_38641 --not-chr locus_386802 --not-chr locus_387661 --not-chr locus_387784 --not-chr locus_388113 --not-chr locus_388514 --not-chr locus_388998 --not-chr locus_389053 --not-chr locus_389163 --not-chr locus_389273 --not-chr locus_389953 --not-chr locus_390262 --not-chr locus_390335 --not-chr locus_390632 --not-chr locus_390965 --not-chr locus_391048 --not-chr locus_39129 --not-chr locus_39221 --not-chr locus_392380 --not-chr locus_392485 --not-chr locus_392753 --not-chr locus_393164 --not-chr locus_393668 --not-chr locus_393858 --not-chr locus_396273 --not-chr locus_396693 --not-chr locus_397334 --not-chr locus_397681 --not-chr locus_397723 --not-chr locus_397793 --not-chr locus_397896 --not-chr locus_398552 --not-chr locus_39876 --not-chr locus_399614 --not-chr locus_399663 --not-chr locus_400112 --not-chr locus_400399 --not-chr locus_40066 --not-chr locus_401671 --not-chr locus_401730 --not-chr locus_402417 --not-chr locus_403155 --not-chr locus_403249 --not-chr locus_403442 --not-chr locus_40345 --not-chr locus_403562 --not-chr locus_403859 --not-chr locus_404121 --not-chr locus_40418 --not-chr locus_404788 --not-chr locus_405822 --not-chr locus_406512 --not-chr locus_406656 --not-chr locus_40665 --not-chr locus_407089 --not-chr locus_40729 --not-chr locus_40749 --not-chr locus_40753 --not-chr locus_407635 --not-chr locus_407813 --not-chr locus_407965 --not-chr locus_408106 --not-chr locus_408130 --not-chr locus_408460 --not-chr locus_40973 --not-chr locus_409748 --not-chr locus_410306 --not-chr locus_410591 --not-chr locus_410618 --not-chr locus_41301 --not-chr locus_41325 --not-chr locus_414770 --not-chr locus_415004 --not-chr locus_415225 --not-chr locus_416619 --not-chr locus_418710 --not-chr locus_419663 --not-chr locus_42009 --not-chr locus_421053 --not-chr locus_421522 --not-chr locus_421661 --not-chr locus_421678 --not-chr locus_421916 --not-chr locus_421923 --not-chr locus_422008 --not-chr locus_422034 --not-chr locus_422166 --not-chr locus_422230 --not-chr locus_422436 --not-chr locus_422492 --not-chr locus_422879 --not-chr locus_422894 --not-chr locus_423346 --not-chr locus_423769 --not-chr locus_42633 --not-chr locus_45456 --not-chr locus_46486 --not-chr locus_50025 --not-chr locus_50420 --not-chr locus_51245 --not-chr locus_51814 --not-chr locus_53585 --not-chr locus_54198 --not-chr locus_55987 --not-chr locus_6537 --not-chr locus_65465 --not-chr locus_67593 --not-chr locus_69127 --not-chr locus_70871 --not-chr locus_71617 --not-chr locus_71822 --not-chr locus_72896 --not-chr locus_74406 --not-chr locus_76315 --not-chr locus_77644 --not-chr locus_81257 --not-chr locus_84263 --not-chr locus_86381 --not-chr locus_86941 --not-chr locus_87567 --not-chr locus_93224 --not-chr locus_93836 --not-chr locus_94096 --not-chr locus_94509 --not-chr locus_95374 --not-chr locus_95762 --not-chr locus_95912 --not-chr locus_96385 --not-chr locus_96504 --not-chr locus_96660 --not-chr locus_96739 --not-chr locus_96877 --not-chr locus_99833 --not-chr locus_99874 --not-chr locus_100164 --not-chr locus_100799 --not-chr locus_101638 --not-chr locus_101905 --not-chr locus_122972 --not-chr locus_125825 --not-chr locus_127315 --not-chr locus_139215 --not-chr locus_141297 --not-chr locus_149622 --not-chr locus_151147 --not-chr locus_151549 --not-chr locus_154256 --not-chr locus_154465 --not-chr locus_154915 --not-chr locus_157027 --not-chr locus_165391 --not-chr locus_165850 --not-chr locus_166705 --not-chr locus_167415 --not-chr locus_172575 --not-chr locus_182197 --not-chr locus_186436 --not-chr locus_187544 --not-chr locus_192199 --not-chr locus_205384 --not-chr locus_206271 --not-chr locus_206297 --not-chr locus_206599 --not-chr locus_210978 --not-chr locus_21400 --not-chr locus_216893 --not-chr locus_223485 --not-chr locus_224630 --not-chr locus_228030 --not-chr locus_238442 --not-chr locus_24005 --not-chr locus_244176 --not-chr locus_257367 --not-chr locus_276886 --not-chr locus_28409 --not-chr locus_298193 --not-chr locus_307014 --not-chr locus_30713 --not-chr locus_30965 --not-chr locus_310097 --not-chr locus_310461 --not-chr locus_312479 --not-chr locus_312607 --not-chr locus_312754 --not-chr locus_32356 --not-chr locus_327047 --not-chr locus_333629 --not-chr locus_334079 --not-chr locus_335010 --not-chr locus_344955 --not-chr locus_34539 --not-chr locus_34543 --not-chr locus_349673 --not-chr locus_355847 --not-chr locus_356043 --not-chr locus_356426 --not-chr locus_35825 --not-chr locus_362562 --not-chr locus_37570 --not-chr locus_380646 --not-chr locus_382951 --not-chr locus_38335 --not-chr locus_384012 --not-chr locus_392024 --not-chr locus_39782 --not-chr locus_400056 --not-chr locus_40141 --not-chr locus_402943 --not-chr locus_41343 --not-chr locus_42075 --not-chr locus_45729 --not-chr locus_55869 --not-chr locus_78715 --not-chr locus_83874 --not-chr locus_96906 \\\n",
    "--max-alleles 2 --min-alleles 2 --out $suffix-neutU"
   ]
  },
  {
   "cell_type": "markdown",
   "metadata": {},
   "source": [
    "1631 SNPs excluded, 15,384 left"
   ]
  },
  {
   "cell_type": "code",
   "execution_count": 60,
   "metadata": {},
   "outputs": [
    {
     "name": "stderr",
     "output_type": "stream",
     "text": [
      "\n",
      "VCFtools - 0.1.15\n",
      "(C) Adam Auton and Anthony Marcketta 2009\n",
      "\n",
      "Parameters as interpreted:\n",
      "\t--vcf Making_Files/OL-final-c85-t88-Breps-m80x50-maf025.recode.vcf\n",
      "\t--recode-INFO-all\n",
      "\t--max-alleles 2\n",
      "\t--min-alleles 2\n",
      "\t--out Making_Files/OL-final-c85-t88-Breps-m80x50-maf025-outU\n",
      "\t--positions Making_Files/m80x50maf025filt-pcaQ_OF_BS-union.goodchrom\n",
      "\t--recode\n",
      "\n",
      "After filtering, kept 105 out of 105 Individuals\n",
      "Outputting VCF file...\n",
      "After filtering, kept 854 out of a possible 17015 Sites\n",
      "Run Time = 0.00 seconds\n"
     ]
    }
   ],
   "source": [
    "%%sh\n",
    "suffix=Making_Files/OL-final-c85-t88-Breps-m80x50-maf025\n",
    "vcftools --vcf $suffix.recode.vcf --recode --recode-INFO-all --positions Making_Files/m80x50maf025filt-pcaQ_OF_BS-union.goodchrom \\\n",
    "--max-alleles 2 --min-alleles 2 --out $suffix-outU"
   ]
  },
  {
   "cell_type": "code",
   "execution_count": 61,
   "metadata": {},
   "outputs": [
    {
     "name": "stdout",
     "output_type": "stream",
     "text": [
      "Total SNPS: 15396\n",
      "Unlinked SNPs: 6838\n"
     ]
    }
   ],
   "source": [
    "infile = \"Making_Files/OL-final-c85-t88-Breps-m80x50-maf025-neutU.recode.vcf\"\n",
    "outfile = \"Inputs/OL-c85t8-m80x50-maf025-neutU-u.vcf\"\n",
    "subsetSNPs(infile,outfile)"
   ]
  },
  {
   "cell_type": "markdown",
   "metadata": {},
   "source": [
    "### Intersect 2"
   ]
  },
  {
   "cell_type": "code",
   "execution_count": 48,
   "metadata": {},
   "outputs": [
    {
     "name": "stdout",
     "output_type": "stream",
     "text": [
      "101\n",
      "136\n"
     ]
    }
   ],
   "source": [
    "#Make files of bad loci (that have at least one site with excess heterozygotes) to copy/paste in vcftools. \n",
    "IN = open('Outlier/m80x50maf025filt-pcaQ_OF_BS-isect2.snp', \"r\")\n",
    "INL = open('Outlier/m80x50maf025filt-pcaQ_OF_BS-isect2.txt',\"r\")\n",
    "OUT = open('Making_Files/m80x50maf025filt-pcaQ_OF_BS-isect2.badchrom', \"w\")\n",
    "OUTg = open('Making_Files/m80x50maf025filt-pcaQ_OF_BS-isect2.goodchrom', \"w\")\n",
    "exset = set()\n",
    "for line in INL:\n",
    "    chrom = line.strip()\n",
    "    if chrom not in exset:\n",
    "        exset.add(chrom)\n",
    "        OUT.write(\" --not-chr locus_\"+str(chrom))\n",
    "print len(exset)\n",
    "x = 0\n",
    "for line in IN:\n",
    "    chrom = line.strip().split(\"_\")[1]\n",
    "    snp = line.strip().split(\"_\")[3]\n",
    "    OUTg.write(\"locus_\"+chrom+\"\\t\"+snp+\"\\n\")\n",
    "    x += 1\n",
    "print x\n",
    "OUT.close()\n",
    "OUTg.close()\n",
    "IN.close()\n",
    "INL.close()"
   ]
  },
  {
   "cell_type": "code",
   "execution_count": 49,
   "metadata": {},
   "outputs": [
    {
     "name": "stdout",
     "output_type": "stream",
     "text": [
      " --not-chr locus_100568 --not-chr locus_100957 --not-chr locus_109152 --not-chr locus_111738 --not-chr locus_117964 --not-chr locus_124135 --not-chr locus_128049 --not-chr locus_128645 --not-chr locus_140076 --not-chr locus_142778 --not-chr locus_145002 --not-chr locus_147430 --not-chr locus_148130 --not-chr locus_148498 --not-chr locus_159889 --not-chr locus_160301 --not-chr locus_163432 --not-chr locus_168170 --not-chr locus_190976 --not-chr locus_202687 --not-chr locus_203738 --not-chr locus_206410 --not-chr locus_207632 --not-chr locus_214762 --not-chr locus_214825 --not-chr locus_21551 --not-chr locus_217068 --not-chr locus_217430 --not-chr locus_219854 --not-chr locus_220773 --not-chr locus_222016 --not-chr locus_224420 --not-chr locus_22471 --not-chr locus_227395 --not-chr locus_227598 --not-chr locus_23130 --not-chr locus_23289 --not-chr locus_236163 --not-chr locus_238327 --not-chr locus_243326 --not-chr locus_24478 --not-chr locus_248943 --not-chr locus_25585 --not-chr locus_258392 --not-chr locus_259858 --not-chr locus_262003 --not-chr locus_263310 --not-chr locus_27026 --not-chr locus_274413 --not-chr locus_27989 --not-chr locus_281304 --not-chr locus_285131 --not-chr locus_28586 --not-chr locus_289083 --not-chr locus_290548 --not-chr locus_29312 --not-chr locus_306647 --not-chr locus_308418 --not-chr locus_31473 --not-chr locus_338116 --not-chr locus_341756 --not-chr locus_34532 --not-chr locus_34581 --not-chr locus_346248 --not-chr locus_346887 --not-chr locus_348611 --not-chr locus_355940 --not-chr locus_356067 --not-chr locus_35619 --not-chr locus_356425 --not-chr locus_357468 --not-chr locus_35810 --not-chr locus_361253 --not-chr locus_364232 --not-chr locus_370301 --not-chr locus_37161 --not-chr locus_380069 --not-chr locus_381233 --not-chr locus_382237 --not-chr locus_38587 --not-chr locus_38660 --not-chr locus_386802 --not-chr locus_396273 --not-chr locus_397723 --not-chr locus_397793 --not-chr locus_398552 --not-chr locus_402417 --not-chr locus_403442 --not-chr locus_40345 --not-chr locus_406656 --not-chr locus_41325 --not-chr locus_421469 --not-chr locus_421522 --not-chr locus_422492 --not-chr locus_422894 --not-chr locus_423769 --not-chr locus_45456 --not-chr locus_70871 --not-chr locus_76315 --not-chr locus_84263 --not-chr locus_99874"
     ]
    }
   ],
   "source": [
    "%cat Making_Files/m80x50maf025filt-pcaQ_OF_BS-isect2.badchrom"
   ]
  },
  {
   "cell_type": "code",
   "execution_count": null,
   "metadata": {},
   "outputs": [],
   "source": [
    "%%sh\n",
    "suffix=Making_Files/OL-final-c85-t88-Breps-m80x50-maf025\n",
    "vcftools --vcf $suffix.recode.vcf --recode --recode-INFO-all --not-chr locus_100568 --not-chr locus_100957 --not-chr locus_109152 --not-chr locus_111738 --not-chr locus_117964 --not-chr locus_124135 --not-chr locus_128049 --not-chr locus_128645 --not-chr locus_140076 --not-chr locus_142778 --not-chr locus_145002 --not-chr locus_147430 --not-chr locus_148130 --not-chr locus_148498 --not-chr locus_159889 --not-chr locus_160301 --not-chr locus_163432 --not-chr locus_168170 --not-chr locus_190976 --not-chr locus_202687 --not-chr locus_203738 --not-chr locus_206410 --not-chr locus_207632 --not-chr locus_214762 --not-chr locus_214825 --not-chr locus_21551 --not-chr locus_217068 --not-chr locus_217430 --not-chr locus_219854 --not-chr locus_220773 --not-chr locus_222016 --not-chr locus_224420 --not-chr locus_22471 --not-chr locus_227395 --not-chr locus_227598 --not-chr locus_23130 --not-chr locus_23289 --not-chr locus_236163 --not-chr locus_238327 --not-chr locus_243326 --not-chr locus_24478 --not-chr locus_248943 --not-chr locus_25585 --not-chr locus_258392 --not-chr locus_259858 --not-chr locus_262003 --not-chr locus_263310 --not-chr locus_27026 --not-chr locus_274413 --not-chr locus_27989 --not-chr locus_281304 --not-chr locus_285131 --not-chr locus_28586 --not-chr locus_289083 --not-chr locus_290548 --not-chr locus_29312 --not-chr locus_306647 --not-chr locus_308418 --not-chr locus_31473 --not-chr locus_338116 --not-chr locus_341756 --not-chr locus_34532 --not-chr locus_34581 --not-chr locus_346248 --not-chr locus_346887 --not-chr locus_348611 --not-chr locus_355940 --not-chr locus_356067 --not-chr locus_35619 --not-chr locus_356425 --not-chr locus_357468 --not-chr locus_35810 --not-chr locus_361253 --not-chr locus_364232 --not-chr locus_370301 --not-chr locus_37161 --not-chr locus_380069 --not-chr locus_381233 --not-chr locus_382237 --not-chr locus_38587 --not-chr locus_38660 --not-chr locus_386802 --not-chr locus_396273 --not-chr locus_397723 --not-chr locus_397793 --not-chr locus_398552 --not-chr locus_402417 --not-chr locus_403442 --not-chr locus_40345 --not-chr locus_406656 --not-chr locus_41325 --not-chr locus_421469 --not-chr locus_421522 --not-chr locus_422492 --not-chr locus_422894 --not-chr locus_423769 --not-chr locus_45456 --not-chr locus_70871 --not-chr locus_76315 --not-chr locus_84263 --not-chr locus_99874 \\\n",
    "--max-alleles 2 --min-alleles 2 --out $suffix-neutI2"
   ]
  },
  {
   "cell_type": "markdown",
   "metadata": {},
   "source": [
    "Filters 289 SNPs, kept 16,726 SNPS "
   ]
  },
  {
   "cell_type": "code",
   "execution_count": 62,
   "metadata": {},
   "outputs": [
    {
     "name": "stderr",
     "output_type": "stream",
     "text": [
      "\n",
      "VCFtools - 0.1.15\n",
      "(C) Adam Auton and Anthony Marcketta 2009\n",
      "\n",
      "Parameters as interpreted:\n",
      "\t--vcf Making_Files/OL-final-c85-t88-Breps-m80x50-maf025.recode.vcf\n",
      "\t--recode-INFO-all\n",
      "\t--max-alleles 2\n",
      "\t--min-alleles 2\n",
      "\t--out Making_Files/OL-final-c85-t88-Breps-m80x50-maf025-outI2\n",
      "\t--positions Making_Files/m80x50maf025filt-pcaQ_OF_BS-isect2.goodchrom\n",
      "\t--recode\n",
      "\n",
      "After filtering, kept 105 out of 105 Individuals\n",
      "Outputting VCF file...\n",
      "After filtering, kept 136 out of a possible 17015 Sites\n",
      "Run Time = 0.00 seconds\n"
     ]
    }
   ],
   "source": [
    "%%sh\n",
    "suffix=Making_Files/OL-final-c85-t88-Breps-m80x50-maf025\n",
    "vcftools --vcf $suffix.recode.vcf --recode --recode-INFO-all --positions Making_Files/m80x50maf025filt-pcaQ_OF_BS-isect2.goodchrom \\\n",
    "--max-alleles 2 --min-alleles 2 --out $suffix-outI2"
   ]
  },
  {
   "cell_type": "code",
   "execution_count": 63,
   "metadata": {},
   "outputs": [
    {
     "name": "stdout",
     "output_type": "stream",
     "text": [
      "Total SNPS: 16738\n",
      "Unlinked SNPs: 7313\n"
     ]
    }
   ],
   "source": [
    "infile = \"Making_Files/OL-final-c85-t88-Breps-m80x50-maf025-neutI2.recode.vcf\"\n",
    "outfile = \"Inputs/OL-c85t8-m80x50-maf025-neutI2-u.vcf\"\n",
    "subsetSNPs(infile,outfile)"
   ]
  },
  {
   "cell_type": "markdown",
   "metadata": {
    "deletable": true,
    "editable": true
   },
   "source": [
    "## Making files for Puget Sound and British Columbia only"
   ]
  },
  {
   "cell_type": "code",
   "execution_count": 17,
   "metadata": {
    "collapsed": true
   },
   "outputs": [],
   "source": [
    "#Making a BC/Puget+ pop file\n",
    "IN = open(\"Making_Files/OL-final-c85-t88-Breps-m50.imiss\",\"r\")\n",
    "OUT_strata = open(\"Making_Files/BCWA-c85-t88-Breps.strata\",\"w\")\n",
    "OUT_pop = open(\"Making_Files/BCWA-c85-t88-Breps.pop\",\"w\")\n",
    "loc_dict = {'BC1':['Victoria', 'Victoria', 'Puget+', 'North', '48.435667', '-123.377909'],\n",
    "            'BC2':['Klaskino', 'Klaskino', 'NW_BC', 'North', '50.298667', '-127.723633'],\n",
    "            'BC3':['Barkeley_Sound', 'Barkeley_Sound', 'NW_BC', 'North', '49.01585', '-125.314167'],\n",
    "            'BC4': ['Ladysmith', 'Ladysmith', 'Puget+', 'North','49.011383' ,'-123.8357'],\n",
    "            'WA12': ['Discovery_Bay', 'Discovery_Bay', 'Puget+', 'North', '47.9978', '-122.8824'],\n",
    "            'WA11': ['Liberty_Bay', 'Liberty_Bay', 'Puget+', 'North', '47.7375', '-122.6507'],\n",
    "            'WA13': ['North_Bay', 'North_Bay', 'Puget+', 'North','47.3925', '-122.8138'],\n",
    "            'WA10': ['Triton_Cove', 'Triton_Cove', 'Puget+', 'North', '46.6131', '-122.982']}\n",
    "IN.next()\n",
    "OUT_strata.write(\"INDIVIDUALS\\tSTRATA\\tLOCATION\\tREGION\\tNS\\tLATITUDE\\tLONGITUDE\\tLIBRARY\\n\")\n",
    "for line in IN:\n",
    "    name = line.split()[0]\n",
    "    pop = name.split(\"_\")[0]\n",
    "    if pop in loc_dict.keys():\n",
    "        library = name.split(\"_\")[2]\n",
    "        OUT_strata.write(name+\"\\t\"+'\\t'.join(map(str,loc_dict[pop]))+\"\\t\"+library+\"\\n\")\n",
    "        OUT_pop.write(name+\"\\t\"+loc_dict[pop][0]+\"\\n\")\n",
    "    \n",
    "IN.close()\n",
    "OUT_strata.close()\n",
    "OUT_pop.close()"
   ]
  },
  {
   "cell_type": "code",
   "execution_count": 18,
   "metadata": {
    "collapsed": false
   },
   "outputs": [
    {
     "name": "stderr",
     "output_type": "stream",
     "text": [
      "\n",
      "VCFtools - 0.1.15\n",
      "(C) Adam Auton and Anthony Marcketta 2009\n",
      "\n",
      "Parameters as interpreted:\n",
      "\t--vcf Assembly/OL-final-c85-t88-Breps-m50_outfiles/OL-final-c85-t88-Breps-m50.vcf\n",
      "\t--keep Making_Files/BCWA-c85-t88-Breps.pop\n",
      "\t--recode-INFO-all\n",
      "\t--max-alleles 2\n",
      "\t--min-alleles 2\n",
      "\t--max-missing 0.6\n",
      "\t--out Making_Files/BCWA-c85-t88-Breps-m60\n",
      "\t--recode\n",
      "\n",
      "Keeping individuals in 'keep' list\n",
      "After filtering, kept 64 out of 137 Individuals\n",
      "Outputting VCF file...\n",
      "After filtering, kept 76213 out of a possible 114545 Sites\n",
      "Run Time = 9.00 seconds\n"
     ]
    }
   ],
   "source": [
    "%%sh\n",
    "suffix=Making_Files/BCWA-c85-t88-Breps\n",
    "vcftools --vcf Assembly/OL-final-c85-t88-Breps-m50_outfiles/OL-final-c85-t88-Breps-m50.vcf --keep Making_Files/BCWA-c85-t88-Breps.pop \\\n",
    "--recode --recode-INFO-all --max-missing 0.60 --min-alleles 2 --max-alleles 2 --out $suffix-m60"
   ]
  },
  {
   "cell_type": "code",
   "execution_count": 19,
   "metadata": {
    "collapsed": false
   },
   "outputs": [
    {
     "name": "stderr",
     "output_type": "stream",
     "text": [
      "\n",
      "VCFtools - 0.1.15\n",
      "(C) Adam Auton and Anthony Marcketta 2009\n",
      "\n",
      "Parameters as interpreted:\n",
      "\t--vcf Making_Files/BCWA-c85-t88-Breps-m60.recode.vcf\n",
      "\t--missing-indv\n",
      "\t--out Making_Files/BCWA-c85-t88-Breps\n",
      "\n",
      "After filtering, kept 64 out of 64 Individuals\n",
      "Outputting Individual Missingness\n",
      "After filtering, kept 76213 out of a possible 76213 Sites\n",
      "Run Time = 1.00 seconds\n"
     ]
    }
   ],
   "source": [
    "%%sh\n",
    "suffix=Making_Files/BCWA-c85-t88-Breps\n",
    "vcftools --vcf $suffix-m60.recode.vcf  --missing-indv --out $suffix"
   ]
  },
  {
   "cell_type": "code",
   "execution_count": 32,
   "metadata": {
    "collapsed": false
   },
   "outputs": [
    {
     "data": {
      "text/plain": [
       "59"
      ]
     },
     "execution_count": 32,
     "metadata": {},
     "output_type": "execute_result"
    }
   ],
   "source": [
    "imiss = np.genfromtxt('Making_Files/BCWA-c85-t88-Breps.imiss', names=True,dtype=None)\n",
    "imissDF = pandas.DataFrame(imiss)\n",
    "len(imissDF[imissDF.F_MISS < 0.65].INDV.values)"
   ]
  },
  {
   "cell_type": "code",
   "execution_count": 33,
   "metadata": {
    "collapsed": true
   },
   "outputs": [],
   "source": [
    "imissDF[imissDF.F_MISS > 0.65].INDV.to_csv(\"Making_Files/BCWA-c85-t88-Breps_imiss65.txt\",sep=\" \",index=False)"
   ]
  },
  {
   "cell_type": "code",
   "execution_count": 44,
   "metadata": {
    "collapsed": false
   },
   "outputs": [
    {
     "name": "stderr",
     "output_type": "stream",
     "text": [
      "\n",
      "VCFtools - 0.1.15\n",
      "(C) Adam Auton and Anthony Marcketta 2009\n",
      "\n",
      "Parameters as interpreted:\n",
      "\t--vcf Making_Files/BCWA-c85-t88-Breps-m60.recode.vcf\n",
      "\t--remove Making_Files/BCWA-c85-t88-Breps_imiss65.txt\n",
      "\t--recode-INFO-all\n",
      "\t--max-alleles 2\n",
      "\t--min-alleles 2\n",
      "\t--max-missing 0.6\n",
      "\t--out Making_Files/BCWA-c85-t88-Breps-m60x65\n",
      "\t--recode\n",
      "\t--remove-indv BC4_6_C2\n",
      "\n",
      "Excluding individuals in 'exclude' list\n",
      "After filtering, kept 59 out of 64 Individuals\n",
      "Outputting VCF file...\n",
      "After filtering, kept 75491 out of a possible 76213 Sites\n",
      "Run Time = 5.00 seconds\n"
     ]
    }
   ],
   "source": [
    "%%sh\n",
    "suffix=Making_Files/BCWA-c85-t88-Breps\n",
    "\n",
    "vcftools --vcf $suffix-m60.recode.vcf --remove-indv BC4_6_C2 \\\n",
    "--remove Making_Files/BCWA-c85-t88-Breps_imiss65.txt --recode --recode-INFO-all \\\n",
    "--min-alleles 2 --max-alleles 2 --max-missing 0.60 \\\n",
    "--out ${suffix}-m60x65"
   ]
  },
  {
   "cell_type": "code",
   "execution_count": 46,
   "metadata": {
    "collapsed": false
   },
   "outputs": [
    {
     "name": "stderr",
     "output_type": "stream",
     "text": [
      "\n",
      "VCFtools - 0.1.15\n",
      "(C) Adam Auton and Anthony Marcketta 2009\n",
      "\n",
      "Parameters as interpreted:\n",
      "\t--vcf Making_Files/BCWA-c85-t88-Breps-m60.recode.vcf\n",
      "\t--remove Making_Files/BCWA-c85-t88-Breps_imiss65.txt\n",
      "\t--recode-INFO-all\n",
      "\t--max-alleles 2\n",
      "\t--min-alleles 2\n",
      "\t--max-missing 0.8\n",
      "\t--out Making_Files/BCWA-c85-t88-Breps-m80x65\n",
      "\t--recode\n",
      "\t--remove-indv BC4_6_C2\n",
      "\n",
      "Excluding individuals in 'exclude' list\n",
      "After filtering, kept 59 out of 64 Individuals\n",
      "Outputting VCF file...\n",
      "After filtering, kept 27494 out of a possible 76213 Sites\n",
      "Run Time = 2.00 seconds\n"
     ]
    }
   ],
   "source": [
    "%%sh\n",
    "suffix=Making_Files/BCWA-c85-t88-Breps\n",
    "\n",
    "vcftools --vcf $suffix-m60.recode.vcf --remove-indv BC4_6_C2 \\\n",
    "--remove Making_Files/BCWA-c85-t88-Breps_imiss65.txt --recode --recode-INFO-all \\\n",
    "--min-alleles 2 --max-alleles 2 --max-missing 0.80 \\\n",
    "--out ${suffix}-m80x65"
   ]
  },
  {
   "cell_type": "markdown",
   "metadata": {},
   "source": [
    "Using hetfilters from full dataset"
   ]
  },
  {
   "cell_type": "code",
   "execution_count": 47,
   "metadata": {
    "collapsed": false
   },
   "outputs": [
    {
     "name": "stderr",
     "output_type": "stream",
     "text": [
      "\n",
      "VCFtools - 0.1.15\n",
      "(C) Adam Auton and Anthony Marcketta 2009\n",
      "\n",
      "Parameters as interpreted:\n",
      "\t--vcf Making_Files/BCWA-c85-t88-Breps-m60x65.recode.vcf\n",
      "\t--not-chr locus_101129\n",
      "\t--not-chr locus_119972\n",
      "\t--not-chr locus_125726\n",
      "\t--not-chr locus_131141\n",
      "\t--not-chr locus_140939\n",
      "\t--not-chr locus_151068\n",
      "\t--not-chr locus_153744\n",
      "\t--not-chr locus_157163\n",
      "\t--not-chr locus_172352\n",
      "\t--not-chr locus_172864\n",
      "\t--not-chr locus_174781\n",
      "\t--not-chr locus_18461\n",
      "\t--not-chr locus_196985\n",
      "\t--not-chr locus_203783\n",
      "\t--not-chr locus_206197\n",
      "\t--not-chr locus_207453\n",
      "\t--not-chr locus_215692\n",
      "\t--not-chr locus_216221\n",
      "\t--not-chr locus_217492\n",
      "\t--not-chr locus_218417\n",
      "\t--not-chr locus_219923\n",
      "\t--not-chr locus_220030\n",
      "\t--not-chr locus_23480\n",
      "\t--not-chr locus_241939\n",
      "\t--not-chr locus_252249\n",
      "\t--not-chr locus_253330\n",
      "\t--not-chr locus_255531\n",
      "\t--not-chr locus_258320\n",
      "\t--not-chr locus_25870\n",
      "\t--not-chr locus_266793\n",
      "\t--not-chr locus_276810\n",
      "\t--not-chr locus_286392\n",
      "\t--not-chr locus_289022\n",
      "\t--not-chr locus_31565\n",
      "\t--not-chr locus_333125\n",
      "\t--not-chr locus_333703\n",
      "\t--not-chr locus_347558\n",
      "\t--not-chr locus_355504\n",
      "\t--not-chr locus_357318\n",
      "\t--not-chr locus_379373\n",
      "\t--not-chr locus_380560\n",
      "\t--not-chr locus_380572\n",
      "\t--not-chr locus_387974\n",
      "\t--not-chr locus_393720\n",
      "\t--not-chr locus_394022\n",
      "\t--not-chr locus_396787\n",
      "\t--not-chr locus_401349\n",
      "\t--not-chr locus_40333\n",
      "\t--not-chr locus_407412\n",
      "\t--not-chr locus_409958\n",
      "\t--not-chr locus_41857\n",
      "\t--not-chr locus_420365\n",
      "\t--not-chr locus_421342\n",
      "\t--not-chr locus_42160\n",
      "\t--not-chr locus_423209\n",
      "\t--not-chr locus_48250\n",
      "\t--not-chr locus_50784\n",
      "\t--not-chr locus_54888\n",
      "\t--not-chr locus_55452\n",
      "\t--not-chr locus_62278\n",
      "\t--not-chr locus_92709\n",
      "\t--not-chr locus_97057\n",
      "\t--recode-INFO-all\n",
      "\t--max-alleles 2\n",
      "\t--min-alleles 2\n",
      "\t--out Making_Files/BCWA-c85-t88-Breps-m60x65-filt\n",
      "\t--recode\n",
      "\n",
      "After filtering, kept 59 out of 59 Individuals\n",
      "Outputting VCF file...\n",
      "After filtering, kept 75141 out of a possible 75491 Sites\n",
      "Run Time = 4.00 seconds\n"
     ]
    }
   ],
   "source": [
    "%%sh\n",
    "suffix=Making_Files/BCWA-c85-t88-Breps-m60x65\n",
    "vcftools --vcf $suffix.recode.vcf --recode --recode-INFO-all --not-chr locus_355504 --not-chr locus_48250 --not-chr locus_253330 --not-chr locus_394022 --not-chr locus_40333 --not-chr locus_333125 --not-chr locus_25870 --not-chr locus_289022 --not-chr locus_380572 --not-chr locus_55452 --not-chr locus_174781 --not-chr locus_101129 --not-chr locus_18461 --not-chr locus_23480 --not-chr locus_387974 --not-chr locus_153744 --not-chr locus_347558 --not-chr locus_172352 --not-chr locus_396787 --not-chr locus_255531 --not-chr locus_407412 --not-chr locus_140939 --not-chr locus_218417 --not-chr locus_42160 --not-chr locus_217492 --not-chr locus_125726 --not-chr locus_393720 --not-chr locus_220030 --not-chr locus_151068 --not-chr locus_409958 --not-chr locus_50784 --not-chr locus_206197 --not-chr locus_420365 --not-chr locus_401349 --not-chr locus_241939 --not-chr locus_258320 --not-chr locus_207453 --not-chr locus_380560 --not-chr locus_97057 --not-chr locus_131141 --not-chr locus_423209 --not-chr locus_286392 --not-chr locus_252249 --not-chr locus_172864 --not-chr locus_196985 --not-chr locus_157163 --not-chr locus_41857 --not-chr locus_357318 --not-chr locus_333703 --not-chr locus_276810 --not-chr locus_379373 --not-chr locus_92709 \\\n",
    "--not-chr locus_333703 --not-chr locus_276810 --not-chr locus_407412 --not-chr locus_380560 --not-chr locus_286392 --not-chr locus_347558 --not-chr locus_40333 --not-chr locus_387974 --not-chr locus_220030 --not-chr locus_203783 --not-chr locus_421342 --not-chr locus_50784 --not-chr locus_380572 --not-chr locus_41857 --not-chr locus_131141 --not-chr locus_218417 --not-chr locus_219923 --not-chr locus_125726 --not-chr locus_266793 --not-chr locus_97057 --not-chr locus_333125 --not-chr locus_18461 --not-chr locus_54888 --not-chr locus_92709 --not-chr locus_355504 --not-chr locus_140939 --not-chr locus_215692 --not-chr locus_207453 --not-chr locus_31565 --not-chr locus_357318 --not-chr locus_153744 --not-chr locus_216221 --not-chr locus_206197 --not-chr locus_101129 --not-chr locus_25870 --not-chr locus_401349 --not-chr locus_393720 --not-chr locus_119972 --not-chr locus_62278 --not-chr locus_423209 --not-chr locus_217492 --not-chr locus_42160 --not-chr locus_396787 --not-chr locus_55452 --not-chr locus_48250 --not-chr locus_253330 --not-chr locus_172864 --not-chr locus_379373 \\\n",
    "--max-alleles 2 --min-alleles 2 --out $suffix-filt"
   ]
  },
  {
   "cell_type": "code",
   "execution_count": 48,
   "metadata": {
    "collapsed": false
   },
   "outputs": [
    {
     "name": "stderr",
     "output_type": "stream",
     "text": [
      "\n",
      "VCFtools - 0.1.15\n",
      "(C) Adam Auton and Anthony Marcketta 2009\n",
      "\n",
      "Parameters as interpreted:\n",
      "\t--vcf Making_Files/BCWA-c85-t88-Breps-m80x65.recode.vcf\n",
      "\t--not-chr locus_101129\n",
      "\t--not-chr locus_119972\n",
      "\t--not-chr locus_125726\n",
      "\t--not-chr locus_131141\n",
      "\t--not-chr locus_140939\n",
      "\t--not-chr locus_151068\n",
      "\t--not-chr locus_153744\n",
      "\t--not-chr locus_157163\n",
      "\t--not-chr locus_172352\n",
      "\t--not-chr locus_172864\n",
      "\t--not-chr locus_174781\n",
      "\t--not-chr locus_18461\n",
      "\t--not-chr locus_196985\n",
      "\t--not-chr locus_203783\n",
      "\t--not-chr locus_206197\n",
      "\t--not-chr locus_207453\n",
      "\t--not-chr locus_215692\n",
      "\t--not-chr locus_216221\n",
      "\t--not-chr locus_217492\n",
      "\t--not-chr locus_218417\n",
      "\t--not-chr locus_219923\n",
      "\t--not-chr locus_220030\n",
      "\t--not-chr locus_23480\n",
      "\t--not-chr locus_241939\n",
      "\t--not-chr locus_252249\n",
      "\t--not-chr locus_253330\n",
      "\t--not-chr locus_255531\n",
      "\t--not-chr locus_258320\n",
      "\t--not-chr locus_25870\n",
      "\t--not-chr locus_266793\n",
      "\t--not-chr locus_276810\n",
      "\t--not-chr locus_286392\n",
      "\t--not-chr locus_289022\n",
      "\t--not-chr locus_31565\n",
      "\t--not-chr locus_333125\n",
      "\t--not-chr locus_333703\n",
      "\t--not-chr locus_347558\n",
      "\t--not-chr locus_355504\n",
      "\t--not-chr locus_357318\n",
      "\t--not-chr locus_379373\n",
      "\t--not-chr locus_380560\n",
      "\t--not-chr locus_380572\n",
      "\t--not-chr locus_387974\n",
      "\t--not-chr locus_393720\n",
      "\t--not-chr locus_394022\n",
      "\t--not-chr locus_396787\n",
      "\t--not-chr locus_401349\n",
      "\t--not-chr locus_40333\n",
      "\t--not-chr locus_407412\n",
      "\t--not-chr locus_409958\n",
      "\t--not-chr locus_41857\n",
      "\t--not-chr locus_420365\n",
      "\t--not-chr locus_421342\n",
      "\t--not-chr locus_42160\n",
      "\t--not-chr locus_423209\n",
      "\t--not-chr locus_48250\n",
      "\t--not-chr locus_50784\n",
      "\t--not-chr locus_54888\n",
      "\t--not-chr locus_55452\n",
      "\t--not-chr locus_62278\n",
      "\t--not-chr locus_92709\n",
      "\t--not-chr locus_97057\n",
      "\t--recode-INFO-all\n",
      "\t--max-alleles 2\n",
      "\t--min-alleles 2\n",
      "\t--out Making_Files/BCWA-c85-t88-Breps-m80x65-filt\n",
      "\t--recode\n",
      "\n",
      "After filtering, kept 59 out of 59 Individuals\n",
      "Outputting VCF file...\n",
      "After filtering, kept 27354 out of a possible 27494 Sites\n",
      "Run Time = 2.00 seconds\n"
     ]
    }
   ],
   "source": [
    "%%sh\n",
    "suffix=Making_Files/BCWA-c85-t88-Breps-m80x65\n",
    "vcftools --vcf $suffix.recode.vcf --recode --recode-INFO-all --not-chr locus_355504 --not-chr locus_48250 --not-chr locus_253330 --not-chr locus_394022 --not-chr locus_40333 --not-chr locus_333125 --not-chr locus_25870 --not-chr locus_289022 --not-chr locus_380572 --not-chr locus_55452 --not-chr locus_174781 --not-chr locus_101129 --not-chr locus_18461 --not-chr locus_23480 --not-chr locus_387974 --not-chr locus_153744 --not-chr locus_347558 --not-chr locus_172352 --not-chr locus_396787 --not-chr locus_255531 --not-chr locus_407412 --not-chr locus_140939 --not-chr locus_218417 --not-chr locus_42160 --not-chr locus_217492 --not-chr locus_125726 --not-chr locus_393720 --not-chr locus_220030 --not-chr locus_151068 --not-chr locus_409958 --not-chr locus_50784 --not-chr locus_206197 --not-chr locus_420365 --not-chr locus_401349 --not-chr locus_241939 --not-chr locus_258320 --not-chr locus_207453 --not-chr locus_380560 --not-chr locus_97057 --not-chr locus_131141 --not-chr locus_423209 --not-chr locus_286392 --not-chr locus_252249 --not-chr locus_172864 --not-chr locus_196985 --not-chr locus_157163 --not-chr locus_41857 --not-chr locus_357318 --not-chr locus_333703 --not-chr locus_276810 --not-chr locus_379373 --not-chr locus_92709 \\\n",
    "--not-chr locus_333703 --not-chr locus_276810 --not-chr locus_407412 --not-chr locus_380560 --not-chr locus_286392 --not-chr locus_347558 --not-chr locus_40333 --not-chr locus_387974 --not-chr locus_220030 --not-chr locus_203783 --not-chr locus_421342 --not-chr locus_50784 --not-chr locus_380572 --not-chr locus_41857 --not-chr locus_131141 --not-chr locus_218417 --not-chr locus_219923 --not-chr locus_125726 --not-chr locus_266793 --not-chr locus_97057 --not-chr locus_333125 --not-chr locus_18461 --not-chr locus_54888 --not-chr locus_92709 --not-chr locus_355504 --not-chr locus_140939 --not-chr locus_215692 --not-chr locus_207453 --not-chr locus_31565 --not-chr locus_357318 --not-chr locus_153744 --not-chr locus_216221 --not-chr locus_206197 --not-chr locus_101129 --not-chr locus_25870 --not-chr locus_401349 --not-chr locus_393720 --not-chr locus_119972 --not-chr locus_62278 --not-chr locus_423209 --not-chr locus_217492 --not-chr locus_42160 --not-chr locus_396787 --not-chr locus_55452 --not-chr locus_48250 --not-chr locus_253330 --not-chr locus_172864 --not-chr locus_379373 \\\n",
    "--max-alleles 2 --min-alleles 2 --out $suffix-filt"
   ]
  },
  {
   "cell_type": "code",
   "execution_count": 49,
   "metadata": {
    "collapsed": false
   },
   "outputs": [
    {
     "name": "stderr",
     "output_type": "stream",
     "text": [
      "\n",
      "VCFtools - 0.1.15\n",
      "(C) Adam Auton and Anthony Marcketta 2009\n",
      "\n",
      "Parameters as interpreted:\n",
      "\t--vcf Making_Files/BCWA-c85-t88-Breps-m60x65.recode.vcf\n",
      "\t--recode-INFO-all\n",
      "\t--maf 0.025\n",
      "\t--max-alleles 2\n",
      "\t--min-alleles 2\n",
      "\t--out Making_Files/BCWA-c85-t88-Breps-m60x65-maf025-filt\n",
      "\t--recode\n",
      "\n",
      "After filtering, kept 59 out of 59 Individuals\n",
      "Outputting VCF file...\n",
      "After filtering, kept 22293 out of a possible 75491 Sites\n",
      "Run Time = 2.00 seconds\n"
     ]
    }
   ],
   "source": [
    "%%sh\n",
    "suffix=Making_Files/BCWA-c85-t88-Breps-m60x65\n",
    "vcftools --vcf $suffix.recode.vcf --recode --recode-INFO-all \\\n",
    "--maf 0.025 --max-alleles 2 --min-alleles 2 --out $suffix-maf025-filt"
   ]
  },
  {
   "cell_type": "code",
   "execution_count": 50,
   "metadata": {
    "collapsed": false
   },
   "outputs": [
    {
     "name": "stderr",
     "output_type": "stream",
     "text": [
      "\n",
      "VCFtools - 0.1.15\n",
      "(C) Adam Auton and Anthony Marcketta 2009\n",
      "\n",
      "Parameters as interpreted:\n",
      "\t--vcf Making_Files/BCWA-c85-t88-Breps-m80x65.recode.vcf\n",
      "\t--recode-INFO-all\n",
      "\t--maf 0.025\n",
      "\t--max-alleles 2\n",
      "\t--min-alleles 2\n",
      "\t--out Making_Files/BCWA-c85-t88-Breps-m80x65-maf025-filt\n",
      "\t--recode\n",
      "\n",
      "After filtering, kept 59 out of 59 Individuals\n",
      "Outputting VCF file...\n",
      "After filtering, kept 6721 out of a possible 27494 Sites\n",
      "Run Time = 0.00 seconds\n"
     ]
    }
   ],
   "source": [
    "%%sh\n",
    "suffix=Making_Files/BCWA-c85-t88-Breps-m80x65\n",
    "vcftools --vcf $suffix.recode.vcf --recode --recode-INFO-all \\\n",
    "--maf 0.025 --max-alleles 2 --min-alleles 2 --out $suffix-maf025-filt"
   ]
  },
  {
   "cell_type": "code",
   "execution_count": 51,
   "metadata": {
    "collapsed": false
   },
   "outputs": [
    {
     "name": "stdout",
     "output_type": "stream",
     "text": [
      "Total SNPS: 75153\n",
      "Unlinked SNPs: 16868\n"
     ]
    }
   ],
   "source": [
    "infile = \"Making_Files/BCWA-c85-t88-Breps-m60x65-filt.recode.vcf\"\n",
    "outfile = \"Inputs/BCWA-c85-t88-Breps-m60x65-u.vcf\"\n",
    "subsetSNPs(infile,outfile)"
   ]
  },
  {
   "cell_type": "code",
   "execution_count": 64,
   "metadata": {
    "collapsed": false
   },
   "outputs": [
    {
     "name": "stdout",
     "output_type": "stream",
     "text": [
      "Total SNPS: 22305\n",
      "Unlinked SNPs: 10063\n"
     ]
    }
   ],
   "source": [
    "infile = \"Making_Files/BCWA-c85-t88-Breps-m60x65-maf025-filt.recode.vcf\"\n",
    "outfile = \"Inputs/BCWA-c85-t88-Breps-m60x65-maf025-u.vcf\"\n",
    "subsetSNPs(infile,outfile)"
   ]
  },
  {
   "cell_type": "code",
   "execution_count": 65,
   "metadata": {
    "collapsed": false
   },
   "outputs": [
    {
     "name": "stdout",
     "output_type": "stream",
     "text": [
      "Total SNPS: 27366\n",
      "Unlinked SNPs: 6408\n"
     ]
    }
   ],
   "source": [
    "infile = \"Making_Files/BCWA-c85-t88-Breps-m80x65-filt.recode.vcf\"\n",
    "outfile = \"Inputs/BCWA-c85-t88-Breps-m80x65-u.vcf\"\n",
    "subsetSNPs(infile,outfile)"
   ]
  },
  {
   "cell_type": "code",
   "execution_count": 52,
   "metadata": {
    "collapsed": false
   },
   "outputs": [
    {
     "name": "stdout",
     "output_type": "stream",
     "text": [
      "Total SNPS: 6733\n",
      "Unlinked SNPs: 3348\n"
     ]
    }
   ],
   "source": [
    "infile = \"Making_Files/BCWA-c85-t88-Breps-m80x65-maf025-filt.recode.vcf\"\n",
    "outfile = \"Inputs/BCWA-c85-t88-Breps-m80x65-maf025-u.vcf\"\n",
    "subsetSNPs(infile,outfile)"
   ]
  },
  {
   "cell_type": "markdown",
   "metadata": {},
   "source": []
  },
  {
   "cell_type": "markdown",
   "metadata": {},
   "source": [
    "## Making CA only"
   ]
  },
  {
   "cell_type": "code",
   "execution_count": 53,
   "metadata": {
    "collapsed": true
   },
   "outputs": [],
   "source": [
    "#Making a BC/Puget+ pop file\n",
    "IN = open(\"Making_Files/OL-final-c85-t88-Breps-m50.imiss\",\"r\")\n",
    "OUT_strata = open(\"Making_Files/CA-c85-t88-Breps.strata\",\"w\")\n",
    "OUT_pop = open(\"Making_Files/CA-c85-t88-Breps.pop\",\"w\")\n",
    "loc_dict = {'CA6': ['Humboldt', 'Humboldt', 'Humboldt', 'South', '40.8557972', '-124.0974611'],\n",
    "            'CA4': ['Tomales', 'Tomales', 'NoCal', 'South', '38.117549', '-122.874497'],\n",
    "            'CA2': ['SF_PointOrient', 'SF_PointOrient', 'NoCal', 'South', '37.955067', '-122.421800'],\n",
    "            'CA3': ['SF_Candlestick', 'SF_Candlestick', 'NoCal', 'South', '37.708665', '-122.377607'],\n",
    "            'CA5': ['Elkhorn_Slough', 'Elkhorn_Slough', 'NoCal', 'South', '36.8398194', '-121.7427806'],\n",
    "            'CA7': ['Mugu_Lagoon', 'Mugu_Lagoon', 'SoCal', 'South', '34.101914', '-119.10434'],\n",
    "            'CA1': ['San_Diego', 'San_Diego', 'SoCal', 'South', '32.602500', '-117.118889']}\n",
    "IN.next()\n",
    "OUT_strata.write(\"INDIVIDUALS\\tSTRATA\\tLOCATION\\tREGION\\tNS\\tLATITUDE\\tLONGITUDE\\tLIBRARY\\n\")\n",
    "for line in IN:\n",
    "    name = line.split()[0]\n",
    "    pop = name.split(\"_\")[0]\n",
    "    if pop in loc_dict.keys():\n",
    "        library = name.split(\"_\")[2]\n",
    "        OUT_strata.write(name+\"\\t\"+'\\t'.join(map(str,loc_dict[pop]))+\"\\t\"+library+\"\\n\")\n",
    "        OUT_pop.write(name+\"\\t\"+loc_dict[pop][0]+\"\\n\")\n",
    "    \n",
    "IN.close()\n",
    "OUT_strata.close()\n",
    "OUT_pop.close()"
   ]
  },
  {
   "cell_type": "code",
   "execution_count": 54,
   "metadata": {
    "collapsed": false
   },
   "outputs": [
    {
     "name": "stderr",
     "output_type": "stream",
     "text": [
      "\n",
      "VCFtools - 0.1.15\n",
      "(C) Adam Auton and Anthony Marcketta 2009\n",
      "\n",
      "Parameters as interpreted:\n",
      "\t--vcf Assembly/OL-final-c85-t88-Breps-m50_outfiles/OL-final-c85-t88-Breps-m50.vcf\n",
      "\t--keep Making_Files/CA-c85-t88-Breps.pop\n",
      "\t--recode-INFO-all\n",
      "\t--max-alleles 2\n",
      "\t--min-alleles 2\n",
      "\t--max-missing 0.6\n",
      "\t--out Making_Files/CA-c85-t88-Breps-m60\n",
      "\t--recode\n",
      "\n",
      "Keeping individuals in 'keep' list\n",
      "After filtering, kept 40 out of 137 Individuals\n",
      "Outputting VCF file...\n",
      "After filtering, kept 76323 out of a possible 114545 Sites\n",
      "Run Time = 8.00 seconds\n"
     ]
    }
   ],
   "source": [
    "%%sh\n",
    "suffix=Making_Files/CA-c85-t88-Breps\n",
    "vcftools --vcf Assembly/OL-final-c85-t88-Breps-m50_outfiles/OL-final-c85-t88-Breps-m50.vcf --keep Making_Files/CA-c85-t88-Breps.pop \\\n",
    "--recode --recode-INFO-all --max-missing 0.60 --min-alleles 2 --max-alleles 2 --out $suffix-m60"
   ]
  },
  {
   "cell_type": "code",
   "execution_count": 55,
   "metadata": {
    "collapsed": false
   },
   "outputs": [
    {
     "name": "stderr",
     "output_type": "stream",
     "text": [
      "\n",
      "VCFtools - 0.1.15\n",
      "(C) Adam Auton and Anthony Marcketta 2009\n",
      "\n",
      "Parameters as interpreted:\n",
      "\t--vcf Making_Files/CA-c85-t88-Breps-m60.recode.vcf\n",
      "\t--missing-indv\n",
      "\t--out Making_Files/CA-c85-t88-Breps\n",
      "\n",
      "After filtering, kept 40 out of 40 Individuals\n",
      "Outputting Individual Missingness\n",
      "After filtering, kept 76323 out of a possible 76323 Sites\n",
      "Run Time = 0.00 seconds\n"
     ]
    }
   ],
   "source": [
    "%%sh\n",
    "suffix=Making_Files/CA-c85-t88-Breps\n",
    "vcftools --vcf $suffix-m60.recode.vcf  --missing-indv --out $suffix"
   ]
  },
  {
   "cell_type": "code",
   "execution_count": 56,
   "metadata": {
    "collapsed": false
   },
   "outputs": [
    {
     "data": {
      "text/plain": [
       "37"
      ]
     },
     "execution_count": 56,
     "metadata": {},
     "output_type": "execute_result"
    }
   ],
   "source": [
    "imiss = np.genfromtxt('Making_Files/CA-c85-t88-Breps.imiss', names=True,dtype=None)\n",
    "imissDF = pandas.DataFrame(imiss)\n",
    "len(imissDF[imissDF.F_MISS < 0.65].INDV.values)"
   ]
  },
  {
   "cell_type": "code",
   "execution_count": 57,
   "metadata": {
    "collapsed": true
   },
   "outputs": [],
   "source": [
    "imissDF[imissDF.F_MISS > 0.65].INDV.to_csv(\"Making_Files/CA-c85-t88-Breps_imiss65.txt\",sep=\" \",index=False)"
   ]
  },
  {
   "cell_type": "code",
   "execution_count": 58,
   "metadata": {
    "collapsed": false
   },
   "outputs": [
    {
     "name": "stderr",
     "output_type": "stream",
     "text": [
      "\n",
      "VCFtools - 0.1.15\n",
      "(C) Adam Auton and Anthony Marcketta 2009\n",
      "\n",
      "Parameters as interpreted:\n",
      "\t--vcf Making_Files/CA-c85-t88-Breps-m60.recode.vcf\n",
      "\t--remove Making_Files/CA-c85-t88-Breps_imiss65.txt\n",
      "\t--recode-INFO-all\n",
      "\t--max-alleles 2\n",
      "\t--min-alleles 2\n",
      "\t--max-missing 0.6\n",
      "\t--out Making_Files/CA-c85-t88-Breps-m60x65\n",
      "\t--recode\n",
      "\t--remove-indv CA1_5_C5\n",
      "\t--remove-indv CA3_4_C1\n",
      "\t--remove-indv CA7_5_C1\n",
      "\n",
      "Excluding individuals in 'exclude' list\n",
      "After filtering, kept 37 out of 40 Individuals\n",
      "Outputting VCF file...\n",
      "After filtering, kept 74999 out of a possible 76323 Sites\n",
      "Run Time = 2.00 seconds\n"
     ]
    }
   ],
   "source": [
    "%%sh\n",
    "suffix=Making_Files/CA-c85-t88-Breps\n",
    "\n",
    "vcftools --vcf $suffix-m60.recode.vcf --remove-indv CA7_5_C1 --remove-indv CA1_5_C5 --remove-indv CA3_4_C1 \\\n",
    "--remove Making_Files/CA-c85-t88-Breps_imiss65.txt --recode --recode-INFO-all \\\n",
    "--min-alleles 2 --max-alleles 2 --max-missing 0.60 \\\n",
    "--out ${suffix}-m60x65"
   ]
  },
  {
   "cell_type": "code",
   "execution_count": 59,
   "metadata": {
    "collapsed": false
   },
   "outputs": [
    {
     "name": "stderr",
     "output_type": "stream",
     "text": [
      "\n",
      "VCFtools - 0.1.15\n",
      "(C) Adam Auton and Anthony Marcketta 2009\n",
      "\n",
      "Parameters as interpreted:\n",
      "\t--vcf Making_Files/CA-c85-t88-Breps-m60.recode.vcf\n",
      "\t--remove Making_Files/CA-c85-t88-Breps_imiss65.txt\n",
      "\t--recode-INFO-all\n",
      "\t--max-alleles 2\n",
      "\t--min-alleles 2\n",
      "\t--max-missing 0.8\n",
      "\t--out Making_Files/CA-c85-t88-Breps-m80x65\n",
      "\t--recode\n",
      "\t--remove-indv CA1_5_C5\n",
      "\t--remove-indv CA3_4_C1\n",
      "\t--remove-indv CA7_5_C1\n",
      "\n",
      "Excluding individuals in 'exclude' list\n",
      "After filtering, kept 37 out of 40 Individuals\n",
      "Outputting VCF file...\n",
      "After filtering, kept 31932 out of a possible 76323 Sites\n",
      "Run Time = 1.00 seconds\n"
     ]
    }
   ],
   "source": [
    "%%sh\n",
    "suffix=Making_Files/CA-c85-t88-Breps\n",
    "\n",
    "vcftools --vcf $suffix-m60.recode.vcf --remove-indv CA7_5_C1 --remove-indv CA1_5_C5 --remove-indv CA3_4_C1 \\\n",
    "--remove Making_Files/CA-c85-t88-Breps_imiss65.txt --recode --recode-INFO-all \\\n",
    "--min-alleles 2 --max-alleles 2 --max-missing 0.80 \\\n",
    "--out ${suffix}-m80x65"
   ]
  },
  {
   "cell_type": "code",
   "execution_count": 60,
   "metadata": {
    "collapsed": false
   },
   "outputs": [
    {
     "name": "stderr",
     "output_type": "stream",
     "text": [
      "\n",
      "VCFtools - 0.1.15\n",
      "(C) Adam Auton and Anthony Marcketta 2009\n",
      "\n",
      "Parameters as interpreted:\n",
      "\t--vcf Making_Files/CA-c85-t88-Breps-m60x65.recode.vcf\n",
      "\t--not-chr locus_101129\n",
      "\t--not-chr locus_119972\n",
      "\t--not-chr locus_125726\n",
      "\t--not-chr locus_131141\n",
      "\t--not-chr locus_140939\n",
      "\t--not-chr locus_151068\n",
      "\t--not-chr locus_153744\n",
      "\t--not-chr locus_157163\n",
      "\t--not-chr locus_172352\n",
      "\t--not-chr locus_172864\n",
      "\t--not-chr locus_174781\n",
      "\t--not-chr locus_18461\n",
      "\t--not-chr locus_196985\n",
      "\t--not-chr locus_203783\n",
      "\t--not-chr locus_206197\n",
      "\t--not-chr locus_207453\n",
      "\t--not-chr locus_215692\n",
      "\t--not-chr locus_216221\n",
      "\t--not-chr locus_217492\n",
      "\t--not-chr locus_218417\n",
      "\t--not-chr locus_219923\n",
      "\t--not-chr locus_220030\n",
      "\t--not-chr locus_23480\n",
      "\t--not-chr locus_241939\n",
      "\t--not-chr locus_252249\n",
      "\t--not-chr locus_253330\n",
      "\t--not-chr locus_255531\n",
      "\t--not-chr locus_258320\n",
      "\t--not-chr locus_25870\n",
      "\t--not-chr locus_266793\n",
      "\t--not-chr locus_276810\n",
      "\t--not-chr locus_286392\n",
      "\t--not-chr locus_289022\n",
      "\t--not-chr locus_31565\n",
      "\t--not-chr locus_333125\n",
      "\t--not-chr locus_333703\n",
      "\t--not-chr locus_347558\n",
      "\t--not-chr locus_355504\n",
      "\t--not-chr locus_357318\n",
      "\t--not-chr locus_379373\n",
      "\t--not-chr locus_380560\n",
      "\t--not-chr locus_380572\n",
      "\t--not-chr locus_387974\n",
      "\t--not-chr locus_393720\n",
      "\t--not-chr locus_394022\n",
      "\t--not-chr locus_396787\n",
      "\t--not-chr locus_401349\n",
      "\t--not-chr locus_40333\n",
      "\t--not-chr locus_407412\n",
      "\t--not-chr locus_409958\n",
      "\t--not-chr locus_41857\n",
      "\t--not-chr locus_420365\n",
      "\t--not-chr locus_421342\n",
      "\t--not-chr locus_42160\n",
      "\t--not-chr locus_423209\n",
      "\t--not-chr locus_48250\n",
      "\t--not-chr locus_50784\n",
      "\t--not-chr locus_54888\n",
      "\t--not-chr locus_55452\n",
      "\t--not-chr locus_62278\n",
      "\t--not-chr locus_92709\n",
      "\t--not-chr locus_97057\n",
      "\t--recode-INFO-all\n",
      "\t--max-alleles 2\n",
      "\t--min-alleles 2\n",
      "\t--out Making_Files/CA-c85-t88-Breps-m60x65-filt\n",
      "\t--recode\n",
      "\n",
      "After filtering, kept 37 out of 37 Individuals\n",
      "Outputting VCF file...\n",
      "After filtering, kept 74658 out of a possible 74999 Sites\n",
      "Run Time = 2.00 seconds\n"
     ]
    }
   ],
   "source": [
    "%%sh\n",
    "suffix=Making_Files/CA-c85-t88-Breps-m60x65\n",
    "vcftools --vcf $suffix.recode.vcf --recode --recode-INFO-all --not-chr locus_355504 --not-chr locus_48250 --not-chr locus_253330 --not-chr locus_394022 --not-chr locus_40333 --not-chr locus_333125 --not-chr locus_25870 --not-chr locus_289022 --not-chr locus_380572 --not-chr locus_55452 --not-chr locus_174781 --not-chr locus_101129 --not-chr locus_18461 --not-chr locus_23480 --not-chr locus_387974 --not-chr locus_153744 --not-chr locus_347558 --not-chr locus_172352 --not-chr locus_396787 --not-chr locus_255531 --not-chr locus_407412 --not-chr locus_140939 --not-chr locus_218417 --not-chr locus_42160 --not-chr locus_217492 --not-chr locus_125726 --not-chr locus_393720 --not-chr locus_220030 --not-chr locus_151068 --not-chr locus_409958 --not-chr locus_50784 --not-chr locus_206197 --not-chr locus_420365 --not-chr locus_401349 --not-chr locus_241939 --not-chr locus_258320 --not-chr locus_207453 --not-chr locus_380560 --not-chr locus_97057 --not-chr locus_131141 --not-chr locus_423209 --not-chr locus_286392 --not-chr locus_252249 --not-chr locus_172864 --not-chr locus_196985 --not-chr locus_157163 --not-chr locus_41857 --not-chr locus_357318 --not-chr locus_333703 --not-chr locus_276810 --not-chr locus_379373 --not-chr locus_92709 \\\n",
    "--not-chr locus_333703 --not-chr locus_276810 --not-chr locus_407412 --not-chr locus_380560 --not-chr locus_286392 --not-chr locus_347558 --not-chr locus_40333 --not-chr locus_387974 --not-chr locus_220030 --not-chr locus_203783 --not-chr locus_421342 --not-chr locus_50784 --not-chr locus_380572 --not-chr locus_41857 --not-chr locus_131141 --not-chr locus_218417 --not-chr locus_219923 --not-chr locus_125726 --not-chr locus_266793 --not-chr locus_97057 --not-chr locus_333125 --not-chr locus_18461 --not-chr locus_54888 --not-chr locus_92709 --not-chr locus_355504 --not-chr locus_140939 --not-chr locus_215692 --not-chr locus_207453 --not-chr locus_31565 --not-chr locus_357318 --not-chr locus_153744 --not-chr locus_216221 --not-chr locus_206197 --not-chr locus_101129 --not-chr locus_25870 --not-chr locus_401349 --not-chr locus_393720 --not-chr locus_119972 --not-chr locus_62278 --not-chr locus_423209 --not-chr locus_217492 --not-chr locus_42160 --not-chr locus_396787 --not-chr locus_55452 --not-chr locus_48250 --not-chr locus_253330 --not-chr locus_172864 --not-chr locus_379373 \\\n",
    "--max-alleles 2 --min-alleles 2 --out $suffix-filt"
   ]
  },
  {
   "cell_type": "code",
   "execution_count": 61,
   "metadata": {
    "collapsed": false
   },
   "outputs": [
    {
     "name": "stderr",
     "output_type": "stream",
     "text": [
      "\n",
      "VCFtools - 0.1.15\n",
      "(C) Adam Auton and Anthony Marcketta 2009\n",
      "\n",
      "Parameters as interpreted:\n",
      "\t--vcf Making_Files/CA-c85-t88-Breps-m80x65.recode.vcf\n",
      "\t--not-chr locus_101129\n",
      "\t--not-chr locus_119972\n",
      "\t--not-chr locus_125726\n",
      "\t--not-chr locus_131141\n",
      "\t--not-chr locus_140939\n",
      "\t--not-chr locus_151068\n",
      "\t--not-chr locus_153744\n",
      "\t--not-chr locus_157163\n",
      "\t--not-chr locus_172352\n",
      "\t--not-chr locus_172864\n",
      "\t--not-chr locus_174781\n",
      "\t--not-chr locus_18461\n",
      "\t--not-chr locus_196985\n",
      "\t--not-chr locus_203783\n",
      "\t--not-chr locus_206197\n",
      "\t--not-chr locus_207453\n",
      "\t--not-chr locus_215692\n",
      "\t--not-chr locus_216221\n",
      "\t--not-chr locus_217492\n",
      "\t--not-chr locus_218417\n",
      "\t--not-chr locus_219923\n",
      "\t--not-chr locus_220030\n",
      "\t--not-chr locus_23480\n",
      "\t--not-chr locus_241939\n",
      "\t--not-chr locus_252249\n",
      "\t--not-chr locus_253330\n",
      "\t--not-chr locus_255531\n",
      "\t--not-chr locus_258320\n",
      "\t--not-chr locus_25870\n",
      "\t--not-chr locus_266793\n",
      "\t--not-chr locus_276810\n",
      "\t--not-chr locus_286392\n",
      "\t--not-chr locus_289022\n",
      "\t--not-chr locus_31565\n",
      "\t--not-chr locus_333125\n",
      "\t--not-chr locus_333703\n",
      "\t--not-chr locus_347558\n",
      "\t--not-chr locus_355504\n",
      "\t--not-chr locus_357318\n",
      "\t--not-chr locus_379373\n",
      "\t--not-chr locus_380560\n",
      "\t--not-chr locus_380572\n",
      "\t--not-chr locus_387974\n",
      "\t--not-chr locus_393720\n",
      "\t--not-chr locus_394022\n",
      "\t--not-chr locus_396787\n",
      "\t--not-chr locus_401349\n",
      "\t--not-chr locus_40333\n",
      "\t--not-chr locus_407412\n",
      "\t--not-chr locus_409958\n",
      "\t--not-chr locus_41857\n",
      "\t--not-chr locus_420365\n",
      "\t--not-chr locus_421342\n",
      "\t--not-chr locus_42160\n",
      "\t--not-chr locus_423209\n",
      "\t--not-chr locus_48250\n",
      "\t--not-chr locus_50784\n",
      "\t--not-chr locus_54888\n",
      "\t--not-chr locus_55452\n",
      "\t--not-chr locus_62278\n",
      "\t--not-chr locus_92709\n",
      "\t--not-chr locus_97057\n",
      "\t--recode-INFO-all\n",
      "\t--max-alleles 2\n",
      "\t--min-alleles 2\n",
      "\t--out Making_Files/CA-c85-t88-Breps-m80x65-filt\n",
      "\t--recode\n",
      "\n",
      "After filtering, kept 37 out of 37 Individuals\n",
      "Outputting VCF file...\n",
      "After filtering, kept 31746 out of a possible 31932 Sites\n",
      "Run Time = 2.00 seconds\n"
     ]
    }
   ],
   "source": [
    "%%sh\n",
    "suffix=Making_Files/CA-c85-t88-Breps-m80x65\n",
    "vcftools --vcf $suffix.recode.vcf --recode --recode-INFO-all --not-chr locus_355504 --not-chr locus_48250 --not-chr locus_253330 --not-chr locus_394022 --not-chr locus_40333 --not-chr locus_333125 --not-chr locus_25870 --not-chr locus_289022 --not-chr locus_380572 --not-chr locus_55452 --not-chr locus_174781 --not-chr locus_101129 --not-chr locus_18461 --not-chr locus_23480 --not-chr locus_387974 --not-chr locus_153744 --not-chr locus_347558 --not-chr locus_172352 --not-chr locus_396787 --not-chr locus_255531 --not-chr locus_407412 --not-chr locus_140939 --not-chr locus_218417 --not-chr locus_42160 --not-chr locus_217492 --not-chr locus_125726 --not-chr locus_393720 --not-chr locus_220030 --not-chr locus_151068 --not-chr locus_409958 --not-chr locus_50784 --not-chr locus_206197 --not-chr locus_420365 --not-chr locus_401349 --not-chr locus_241939 --not-chr locus_258320 --not-chr locus_207453 --not-chr locus_380560 --not-chr locus_97057 --not-chr locus_131141 --not-chr locus_423209 --not-chr locus_286392 --not-chr locus_252249 --not-chr locus_172864 --not-chr locus_196985 --not-chr locus_157163 --not-chr locus_41857 --not-chr locus_357318 --not-chr locus_333703 --not-chr locus_276810 --not-chr locus_379373 --not-chr locus_92709 \\\n",
    "--not-chr locus_333703 --not-chr locus_276810 --not-chr locus_407412 --not-chr locus_380560 --not-chr locus_286392 --not-chr locus_347558 --not-chr locus_40333 --not-chr locus_387974 --not-chr locus_220030 --not-chr locus_203783 --not-chr locus_421342 --not-chr locus_50784 --not-chr locus_380572 --not-chr locus_41857 --not-chr locus_131141 --not-chr locus_218417 --not-chr locus_219923 --not-chr locus_125726 --not-chr locus_266793 --not-chr locus_97057 --not-chr locus_333125 --not-chr locus_18461 --not-chr locus_54888 --not-chr locus_92709 --not-chr locus_355504 --not-chr locus_140939 --not-chr locus_215692 --not-chr locus_207453 --not-chr locus_31565 --not-chr locus_357318 --not-chr locus_153744 --not-chr locus_216221 --not-chr locus_206197 --not-chr locus_101129 --not-chr locus_25870 --not-chr locus_401349 --not-chr locus_393720 --not-chr locus_119972 --not-chr locus_62278 --not-chr locus_423209 --not-chr locus_217492 --not-chr locus_42160 --not-chr locus_396787 --not-chr locus_55452 --not-chr locus_48250 --not-chr locus_253330 --not-chr locus_172864 --not-chr locus_379373 \\\n",
    "--max-alleles 2 --min-alleles 2 --out $suffix-filt"
   ]
  },
  {
   "cell_type": "code",
   "execution_count": 62,
   "metadata": {
    "collapsed": false
   },
   "outputs": [
    {
     "name": "stderr",
     "output_type": "stream",
     "text": [
      "\n",
      "VCFtools - 0.1.15\n",
      "(C) Adam Auton and Anthony Marcketta 2009\n",
      "\n",
      "Parameters as interpreted:\n",
      "\t--vcf Making_Files/CA-c85-t88-Breps-m60x65.recode.vcf\n",
      "\t--recode-INFO-all\n",
      "\t--maf 0.025\n",
      "\t--max-alleles 2\n",
      "\t--min-alleles 2\n",
      "\t--out Making_Files/CA-c85-t88-Breps-m60x65-maf025-filt\n",
      "\t--recode\n",
      "\n",
      "After filtering, kept 37 out of 37 Individuals\n",
      "Outputting VCF file...\n",
      "After filtering, kept 38869 out of a possible 74999 Sites\n",
      "Run Time = 2.00 seconds\n"
     ]
    }
   ],
   "source": [
    "%%sh\n",
    "suffix=Making_Files/CA-c85-t88-Breps-m60x65\n",
    "vcftools --vcf $suffix.recode.vcf --recode --recode-INFO-all \\\n",
    "--maf 0.025 --max-alleles 2 --min-alleles 2 --out $suffix-maf025-filt"
   ]
  },
  {
   "cell_type": "code",
   "execution_count": 63,
   "metadata": {
    "collapsed": false
   },
   "outputs": [
    {
     "name": "stderr",
     "output_type": "stream",
     "text": [
      "\n",
      "VCFtools - 0.1.15\n",
      "(C) Adam Auton and Anthony Marcketta 2009\n",
      "\n",
      "Parameters as interpreted:\n",
      "\t--vcf Making_Files/CA-c85-t88-Breps-m80x65.recode.vcf\n",
      "\t--recode-INFO-all\n",
      "\t--maf 0.025\n",
      "\t--max-alleles 2\n",
      "\t--min-alleles 2\n",
      "\t--out Making_Files/CA-c85-t88-Breps-m80x65-maf025-filt\n",
      "\t--recode\n",
      "\n",
      "After filtering, kept 37 out of 37 Individuals\n",
      "Outputting VCF file...\n",
      "After filtering, kept 16142 out of a possible 31932 Sites\n",
      "Run Time = 1.00 seconds\n"
     ]
    }
   ],
   "source": [
    "%%sh\n",
    "suffix=Making_Files/CA-c85-t88-Breps-m80x65\n",
    "vcftools --vcf $suffix.recode.vcf --recode --recode-INFO-all \\\n",
    "--maf 0.025 --max-alleles 2 --min-alleles 2 --out $suffix-maf025-filt"
   ]
  },
  {
   "cell_type": "code",
   "execution_count": 66,
   "metadata": {
    "collapsed": false
   },
   "outputs": [
    {
     "name": "stdout",
     "output_type": "stream",
     "text": [
      "Total SNPS: 74670\n",
      "Unlinked SNPs: 16699\n"
     ]
    }
   ],
   "source": [
    "infile = \"Making_Files/CA-c85-t88-Breps-m60x65-filt.recode.vcf\"\n",
    "outfile = \"Inputs/CA-c85-t88-Breps-m60x65-u.vcf\"\n",
    "subsetSNPs(infile,outfile)"
   ]
  },
  {
   "cell_type": "code",
   "execution_count": 67,
   "metadata": {
    "collapsed": false
   },
   "outputs": [
    {
     "name": "stdout",
     "output_type": "stream",
     "text": [
      "Total SNPS: 38881\n",
      "Unlinked SNPs: 13298\n"
     ]
    }
   ],
   "source": [
    "infile = \"Making_Files/CA-c85-t88-Breps-m60x65-maf025-filt.recode.vcf\"\n",
    "outfile = \"Inputs/CA-c85-t88-Breps-m60x65-maf025-u.vcf\"\n",
    "subsetSNPs(infile,outfile)"
   ]
  },
  {
   "cell_type": "code",
   "execution_count": 68,
   "metadata": {
    "collapsed": false
   },
   "outputs": [
    {
     "name": "stdout",
     "output_type": "stream",
     "text": [
      "Total SNPS: 31758\n",
      "Unlinked SNPs: 7322\n"
     ]
    }
   ],
   "source": [
    "infile = \"Making_Files/CA-c85-t88-Breps-m80x65-filt.recode.vcf\"\n",
    "outfile = \"Inputs/CA-c85-t88-Breps-m80x65-u.vcf\"\n",
    "subsetSNPs(infile,outfile)"
   ]
  },
  {
   "cell_type": "code",
   "execution_count": 69,
   "metadata": {
    "collapsed": false
   },
   "outputs": [
    {
     "name": "stdout",
     "output_type": "stream",
     "text": [
      "Total SNPS: 16154\n",
      "Unlinked SNPs: 5742\n"
     ]
    }
   ],
   "source": [
    "infile = \"Making_Files/CA-c85-t88-Breps-m80x65-maf025-filt.recode.vcf\"\n",
    "outfile = \"Inputs/CA-c85-t88-Breps-m80x65-maf025-u.vcf\"\n",
    "subsetSNPs(infile,outfile)"
   ]
  }
 ],
 "metadata": {
  "kernelspec": {
   "display_name": "Python 2",
   "language": "python",
   "name": "python2"
  },
  "language_info": {
   "codemirror_mode": {
    "name": "ipython",
    "version": 2
   },
   "file_extension": ".py",
   "mimetype": "text/x-python",
   "name": "python",
   "nbconvert_exporter": "python",
   "pygments_lexer": "ipython2",
   "version": "2.7.12"
  }
 },
 "nbformat": 4,
 "nbformat_minor": 2
}
